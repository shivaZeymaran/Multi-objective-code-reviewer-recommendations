{
  "nbformat": 4,
  "nbformat_minor": 0,
  "metadata": {
    "colab": {
      "name": "MyProject.ipynb",
      "provenance": [],
      "collapsed_sections": [
        "8J1aB34OT2vv",
        "bgCIXkyJXg43",
        "iJv6aqisdePZ",
        "VnDL2S8t4q2V"
      ]
    },
    "kernelspec": {
      "name": "python3",
      "display_name": "Python 3"
    },
    "language_info": {
      "name": "python"
    }
  },
  "cells": [
    {
      "cell_type": "code",
      "metadata": {
        "id": "8DMH1PQiSrhi"
      },
      "source": [
        "import os\n",
        "import numpy as np\n",
        "import json"
      ],
      "execution_count": 1,
      "outputs": []
    },
    {
      "cell_type": "code",
      "metadata": {
        "colab": {
          "base_uri": "https://localhost:8080/"
        },
        "id": "M0sbZPFbSs_6",
        "outputId": "17b66d5e-5a3c-4e1a-c9d8-8fb85c24be1e"
      },
      "source": [
        "from google.colab import drive\n",
        "drive.mount('/content/drive')"
      ],
      "execution_count": 2,
      "outputs": [
        {
          "output_type": "stream",
          "name": "stdout",
          "text": [
            "Mounted at /content/drive\n"
          ]
        }
      ]
    },
    {
      "cell_type": "markdown",
      "metadata": {
        "id": "8J1aB34OT2vv"
      },
      "source": [
        "# Get required data\n",
        "From the github repository"
      ]
    },
    {
      "cell_type": "code",
      "metadata": {
        "colab": {
          "base_uri": "https://localhost:8080/"
        },
        "id": "YncyX3P4Suzu",
        "outputId": "d890ec7e-71e4-4dab-c30e-8464bebf1fcd"
      },
      "source": [
        "# Clone the entire repo.\n",
        "!git clone -l -s https://github.com/XLipcak/rev-rec.git cloned-repo"
      ],
      "execution_count": null,
      "outputs": [
        {
          "output_type": "stream",
          "name": "stdout",
          "text": [
            "fatal: destination path 'cloned-repo' already exists and is not an empty directory.\n"
          ]
        }
      ]
    },
    {
      "cell_type": "code",
      "metadata": {
        "colab": {
          "base_uri": "https://localhost:8080/"
        },
        "id": "NUO0DfuaS8_2",
        "outputId": "bbae3972-a7eb-4fb8-b4c4-4f011c9118e2"
      },
      "source": [
        "%ls"
      ],
      "execution_count": null,
      "outputs": [
        {
          "output_type": "stream",
          "name": "stdout",
          "text": [
            "\u001b[0m\u001b[01;34mcloned-repo\u001b[0m/  \u001b[01;34mdrive\u001b[0m/  openstack.json  \u001b[01;34msample_data\u001b[0m/\n"
          ]
        }
      ]
    },
    {
      "cell_type": "code",
      "metadata": {
        "colab": {
          "base_uri": "https://localhost:8080/",
          "height": 467
        },
        "id": "ovkSscBBS75P",
        "outputId": "6d864943-e461-4823-ec3f-9b9bca024af1"
      },
      "source": [
        "# Save OpenStack dataset\n",
        "import shutil\n",
        "src = \"/content/cloned-repo/rev-rec-data/openstack.json\"\n",
        "dst = \"/content/drive/MyDrive/Colab Notebooks/My Project/openstack.json\"\n",
        "shutil.move(src, dst)"
      ],
      "execution_count": null,
      "outputs": [
        {
          "output_type": "error",
          "ename": "FileNotFoundError",
          "evalue": "ignored",
          "traceback": [
            "\u001b[0;31m---------------------------------------------------------------------------\u001b[0m",
            "\u001b[0;31mOSError\u001b[0m                                   Traceback (most recent call last)",
            "\u001b[0;32m/usr/lib/python3.7/shutil.py\u001b[0m in \u001b[0;36mmove\u001b[0;34m(src, dst, copy_function)\u001b[0m\n\u001b[1;32m    565\u001b[0m     \u001b[0;32mtry\u001b[0m\u001b[0;34m:\u001b[0m\u001b[0;34m\u001b[0m\u001b[0;34m\u001b[0m\u001b[0m\n\u001b[0;32m--> 566\u001b[0;31m         \u001b[0mos\u001b[0m\u001b[0;34m.\u001b[0m\u001b[0mrename\u001b[0m\u001b[0;34m(\u001b[0m\u001b[0msrc\u001b[0m\u001b[0;34m,\u001b[0m \u001b[0mreal_dst\u001b[0m\u001b[0;34m)\u001b[0m\u001b[0;34m\u001b[0m\u001b[0;34m\u001b[0m\u001b[0m\n\u001b[0m\u001b[1;32m    567\u001b[0m     \u001b[0;32mexcept\u001b[0m \u001b[0mOSError\u001b[0m\u001b[0;34m:\u001b[0m\u001b[0;34m\u001b[0m\u001b[0;34m\u001b[0m\u001b[0m\n",
            "\u001b[0;31mOSError\u001b[0m: [Errno 18] Invalid cross-device link: '/content/cloned-repo/rev-rec-data/openstack.json' -> '/content/drive/MyDrive/Colab Notebooks/My Project/openstack.json'",
            "\nDuring handling of the above exception, another exception occurred:\n",
            "\u001b[0;31mFileNotFoundError\u001b[0m                         Traceback (most recent call last)",
            "\u001b[0;32m<ipython-input-116-5148ef986175>\u001b[0m in \u001b[0;36m<module>\u001b[0;34m()\u001b[0m\n\u001b[1;32m      3\u001b[0m \u001b[0msrc\u001b[0m \u001b[0;34m=\u001b[0m \u001b[0;34m\"/content/cloned-repo/rev-rec-data/openstack.json\"\u001b[0m\u001b[0;34m\u001b[0m\u001b[0;34m\u001b[0m\u001b[0m\n\u001b[1;32m      4\u001b[0m \u001b[0mdst\u001b[0m \u001b[0;34m=\u001b[0m \u001b[0;34m\"/content/drive/MyDrive/Colab Notebooks/My Project/openstack.json\"\u001b[0m\u001b[0;34m\u001b[0m\u001b[0;34m\u001b[0m\u001b[0m\n\u001b[0;32m----> 5\u001b[0;31m \u001b[0mshutil\u001b[0m\u001b[0;34m.\u001b[0m\u001b[0mmove\u001b[0m\u001b[0;34m(\u001b[0m\u001b[0msrc\u001b[0m\u001b[0;34m,\u001b[0m \u001b[0mdst\u001b[0m\u001b[0;34m)\u001b[0m\u001b[0;34m\u001b[0m\u001b[0;34m\u001b[0m\u001b[0m\n\u001b[0m",
            "\u001b[0;32m/usr/lib/python3.7/shutil.py\u001b[0m in \u001b[0;36mmove\u001b[0;34m(src, dst, copy_function)\u001b[0m\n\u001b[1;32m    578\u001b[0m             \u001b[0mrmtree\u001b[0m\u001b[0;34m(\u001b[0m\u001b[0msrc\u001b[0m\u001b[0;34m)\u001b[0m\u001b[0;34m\u001b[0m\u001b[0;34m\u001b[0m\u001b[0m\n\u001b[1;32m    579\u001b[0m         \u001b[0;32melse\u001b[0m\u001b[0;34m:\u001b[0m\u001b[0;34m\u001b[0m\u001b[0;34m\u001b[0m\u001b[0m\n\u001b[0;32m--> 580\u001b[0;31m             \u001b[0mcopy_function\u001b[0m\u001b[0;34m(\u001b[0m\u001b[0msrc\u001b[0m\u001b[0;34m,\u001b[0m \u001b[0mreal_dst\u001b[0m\u001b[0;34m)\u001b[0m\u001b[0;34m\u001b[0m\u001b[0;34m\u001b[0m\u001b[0m\n\u001b[0m\u001b[1;32m    581\u001b[0m             \u001b[0mos\u001b[0m\u001b[0;34m.\u001b[0m\u001b[0munlink\u001b[0m\u001b[0;34m(\u001b[0m\u001b[0msrc\u001b[0m\u001b[0;34m)\u001b[0m\u001b[0;34m\u001b[0m\u001b[0;34m\u001b[0m\u001b[0m\n\u001b[1;32m    582\u001b[0m     \u001b[0;32mreturn\u001b[0m \u001b[0mreal_dst\u001b[0m\u001b[0;34m\u001b[0m\u001b[0;34m\u001b[0m\u001b[0m\n",
            "\u001b[0;32m/usr/lib/python3.7/shutil.py\u001b[0m in \u001b[0;36mcopy2\u001b[0;34m(src, dst, follow_symlinks)\u001b[0m\n\u001b[1;32m    264\u001b[0m     \u001b[0;32mif\u001b[0m \u001b[0mos\u001b[0m\u001b[0;34m.\u001b[0m\u001b[0mpath\u001b[0m\u001b[0;34m.\u001b[0m\u001b[0misdir\u001b[0m\u001b[0;34m(\u001b[0m\u001b[0mdst\u001b[0m\u001b[0;34m)\u001b[0m\u001b[0;34m:\u001b[0m\u001b[0;34m\u001b[0m\u001b[0;34m\u001b[0m\u001b[0m\n\u001b[1;32m    265\u001b[0m         \u001b[0mdst\u001b[0m \u001b[0;34m=\u001b[0m \u001b[0mos\u001b[0m\u001b[0;34m.\u001b[0m\u001b[0mpath\u001b[0m\u001b[0;34m.\u001b[0m\u001b[0mjoin\u001b[0m\u001b[0;34m(\u001b[0m\u001b[0mdst\u001b[0m\u001b[0;34m,\u001b[0m \u001b[0mos\u001b[0m\u001b[0;34m.\u001b[0m\u001b[0mpath\u001b[0m\u001b[0;34m.\u001b[0m\u001b[0mbasename\u001b[0m\u001b[0;34m(\u001b[0m\u001b[0msrc\u001b[0m\u001b[0;34m)\u001b[0m\u001b[0;34m)\u001b[0m\u001b[0;34m\u001b[0m\u001b[0;34m\u001b[0m\u001b[0m\n\u001b[0;32m--> 266\u001b[0;31m     \u001b[0mcopyfile\u001b[0m\u001b[0;34m(\u001b[0m\u001b[0msrc\u001b[0m\u001b[0;34m,\u001b[0m \u001b[0mdst\u001b[0m\u001b[0;34m,\u001b[0m \u001b[0mfollow_symlinks\u001b[0m\u001b[0;34m=\u001b[0m\u001b[0mfollow_symlinks\u001b[0m\u001b[0;34m)\u001b[0m\u001b[0;34m\u001b[0m\u001b[0;34m\u001b[0m\u001b[0m\n\u001b[0m\u001b[1;32m    267\u001b[0m     \u001b[0mcopystat\u001b[0m\u001b[0;34m(\u001b[0m\u001b[0msrc\u001b[0m\u001b[0;34m,\u001b[0m \u001b[0mdst\u001b[0m\u001b[0;34m,\u001b[0m \u001b[0mfollow_symlinks\u001b[0m\u001b[0;34m=\u001b[0m\u001b[0mfollow_symlinks\u001b[0m\u001b[0;34m)\u001b[0m\u001b[0;34m\u001b[0m\u001b[0;34m\u001b[0m\u001b[0m\n\u001b[1;32m    268\u001b[0m     \u001b[0;32mreturn\u001b[0m \u001b[0mdst\u001b[0m\u001b[0;34m\u001b[0m\u001b[0;34m\u001b[0m\u001b[0m\n",
            "\u001b[0;32m/usr/lib/python3.7/shutil.py\u001b[0m in \u001b[0;36mcopyfile\u001b[0;34m(src, dst, follow_symlinks)\u001b[0m\n\u001b[1;32m    118\u001b[0m         \u001b[0mos\u001b[0m\u001b[0;34m.\u001b[0m\u001b[0msymlink\u001b[0m\u001b[0;34m(\u001b[0m\u001b[0mos\u001b[0m\u001b[0;34m.\u001b[0m\u001b[0mreadlink\u001b[0m\u001b[0;34m(\u001b[0m\u001b[0msrc\u001b[0m\u001b[0;34m)\u001b[0m\u001b[0;34m,\u001b[0m \u001b[0mdst\u001b[0m\u001b[0;34m)\u001b[0m\u001b[0;34m\u001b[0m\u001b[0;34m\u001b[0m\u001b[0m\n\u001b[1;32m    119\u001b[0m     \u001b[0;32melse\u001b[0m\u001b[0;34m:\u001b[0m\u001b[0;34m\u001b[0m\u001b[0;34m\u001b[0m\u001b[0m\n\u001b[0;32m--> 120\u001b[0;31m         \u001b[0;32mwith\u001b[0m \u001b[0mopen\u001b[0m\u001b[0;34m(\u001b[0m\u001b[0msrc\u001b[0m\u001b[0;34m,\u001b[0m \u001b[0;34m'rb'\u001b[0m\u001b[0;34m)\u001b[0m \u001b[0;32mas\u001b[0m \u001b[0mfsrc\u001b[0m\u001b[0;34m:\u001b[0m\u001b[0;34m\u001b[0m\u001b[0;34m\u001b[0m\u001b[0m\n\u001b[0m\u001b[1;32m    121\u001b[0m             \u001b[0;32mwith\u001b[0m \u001b[0mopen\u001b[0m\u001b[0;34m(\u001b[0m\u001b[0mdst\u001b[0m\u001b[0;34m,\u001b[0m \u001b[0;34m'wb'\u001b[0m\u001b[0;34m)\u001b[0m \u001b[0;32mas\u001b[0m \u001b[0mfdst\u001b[0m\u001b[0;34m:\u001b[0m\u001b[0;34m\u001b[0m\u001b[0;34m\u001b[0m\u001b[0m\n\u001b[1;32m    122\u001b[0m                 \u001b[0mcopyfileobj\u001b[0m\u001b[0;34m(\u001b[0m\u001b[0mfsrc\u001b[0m\u001b[0;34m,\u001b[0m \u001b[0mfdst\u001b[0m\u001b[0;34m)\u001b[0m\u001b[0;34m\u001b[0m\u001b[0;34m\u001b[0m\u001b[0m\n",
            "\u001b[0;31mFileNotFoundError\u001b[0m: [Errno 2] No such file or directory: '/content/cloned-repo/rev-rec-data/openstack.json'"
          ]
        }
      ]
    },
    {
      "cell_type": "markdown",
      "metadata": {
        "id": "bgCIXkyJXg43"
      },
      "source": [
        "# Read json file"
      ]
    },
    {
      "cell_type": "code",
      "metadata": {
        "colab": {
          "base_uri": "https://localhost:8080/"
        },
        "id": "HYaj-H2BTHN2",
        "outputId": "0801298e-f2fd-4da8-e7c2-d096be5997f4"
      },
      "source": [
        "f = open('/content/drive/MyDrive/Colab Notebooks/My Project/openstack.json',)\n",
        "data = json.load(f)  # returns json object as a dictionary\n",
        "for i in range(5):   # 5 first elements of the json list\n",
        "    print(data[i])\n",
        "f.close()"
      ],
      "execution_count": null,
      "outputs": [
        {
          "output_type": "stream",
          "name": "stdout",
          "text": [
            "{'subProject': 'openstack/tempest', 'changeId': 'I9e7b9a2491d6a3f01d71551e4cadcccf154d992d', 'changeNumber': 6139, 'timestamp': 1333428006000, 'reviewers': [{'accountId': '97', 'email': 'daryl.walleck@rackspace.com', 'name': 'Daryl Walleck', 'avatar': None}, {'accountId': '7', 'email': 'jaypipes@gmail.com', 'name': 'Jay Pipes', 'avatar': None}], 'owner': {'accountId': '2238', 'email': 'rajalakshmi.girish@hpe.com', 'name': 'rajalakshmi-ganesan', 'avatar': None}, 'filePaths': [{'location': 'tempest/tests/test_volumes_get.py'}]}\n",
            "{'subProject': 'openstack/tempest', 'changeId': 'I10e7116570f922ec87e23b1f880cd4b1c08c3088', 'changeNumber': 7438, 'timestamp': 1337072165000, 'reviewers': [{'accountId': '97', 'email': 'daryl.walleck@rackspace.com', 'name': 'Daryl Walleck', 'avatar': None}, {'accountId': '7', 'email': 'jaypipes@gmail.com', 'name': 'Jay Pipes', 'avatar': None}], 'owner': {'accountId': '4120', 'email': 'rohit.karajgi@ril.com', 'name': 'Rohit Karajgi', 'avatar': None}, 'filePaths': [{'location': 'tempest/tests/identity/test_roles.py'}, {'location': 'tempest/services/identity/json/admin_client.py'}, {'location': 'tempest/tests/identity/base_admin_test.py'}]}\n",
            "{'subProject': 'openstack/nova', 'changeId': 'I1d0c395cf679e07e304dd878d97734307b685f4c', 'changeNumber': 7951, 'timestamp': 1338410316000, 'reviewers': [{'accountId': '679', 'email': 'klmitch@mit.edu', 'name': 'Kevin L. Mitchell', 'avatar': None}, {'accountId': '1561', 'email': 'rbryant@redhat.com', 'name': 'Russell Bryant', 'avatar': None}], 'owner': {'accountId': '1849', 'email': 'joe.gordon0@gmail.com', 'name': 'Joe Gordon', 'avatar': None}, 'filePaths': [{'location': '.gitignore'}]}\n",
            "{'subProject': 'openstack/nova', 'changeId': 'Ia151f265bf62e6704de6cc2f2c01963be9e2dd69', 'changeNumber': 7765, 'timestamp': 1337879042000, 'reviewers': [{'accountId': '1561', 'email': 'rbryant@redhat.com', 'name': 'Russell Bryant', 'avatar': None}, {'accountId': '357', 'email': 'devin@openstack.org', 'name': 'Devin Carlen', 'avatar': None}], 'owner': {'accountId': '1849', 'email': 'joe.gordon0@gmail.com', 'name': 'Joe Gordon', 'avatar': None}, 'filePaths': [{'location': 'tools/hacking.py'}]}\n",
            "{'subProject': 'openstack/nova', 'changeId': 'Ie4cfec6f89d6b37554b5345cde92f982397915e2', 'changeNumber': 7807, 'timestamp': 1337967413000, 'reviewers': [{'accountId': '1561', 'email': 'rbryant@redhat.com', 'name': 'Russell Bryant', 'avatar': None}, {'accountId': '357', 'email': 'devin@openstack.org', 'name': 'Devin Carlen', 'avatar': None}], 'owner': {'accountId': '2', 'email': 'mordred@inaugust.com', 'name': 'Monty Taylor', 'avatar': None}, 'filePaths': [{'location': 'tox.ini'}]}\n"
          ]
        }
      ]
    },
    {
      "cell_type": "markdown",
      "metadata": {
        "id": "iJv6aqisdePZ"
      },
      "source": [
        "## Hands on with given data"
      ]
    },
    {
      "cell_type": "code",
      "metadata": {
        "id": "m7AGHyP4ZAZH",
        "colab": {
          "base_uri": "https://localhost:8080/"
        },
        "outputId": "c7b0f7d7-dad7-430e-c75c-c88d6ac9091d"
      },
      "source": [
        "type(data)"
      ],
      "execution_count": null,
      "outputs": [
        {
          "output_type": "execute_result",
          "data": {
            "text/plain": [
              "list"
            ]
          },
          "metadata": {},
          "execution_count": 84
        }
      ]
    },
    {
      "cell_type": "code",
      "metadata": {
        "colab": {
          "base_uri": "https://localhost:8080/"
        },
        "id": "rT6NArSMZ2hB",
        "outputId": "12f77e8c-a52d-48e6-fae9-2fd3683d93a9"
      },
      "source": [
        "len(data)"
      ],
      "execution_count": null,
      "outputs": [
        {
          "output_type": "execute_result",
          "data": {
            "text/plain": [
              "6545"
            ]
          },
          "metadata": {},
          "execution_count": 85
        }
      ]
    },
    {
      "cell_type": "code",
      "metadata": {
        "colab": {
          "base_uri": "https://localhost:8080/"
        },
        "id": "6zyDNbX2Z9k_",
        "outputId": "40b6cce1-2eae-4c3d-89cd-a7838e80212e"
      },
      "source": [
        "# get an element of the list of data\n",
        "data[0]"
      ],
      "execution_count": null,
      "outputs": [
        {
          "output_type": "execute_result",
          "data": {
            "text/plain": [
              "{'changeId': 'I9e7b9a2491d6a3f01d71551e4cadcccf154d992d',\n",
              " 'changeNumber': 6139,\n",
              " 'filePaths': [{'location': 'tempest/tests/test_volumes_get.py'}],\n",
              " 'owner': {'accountId': '2238',\n",
              "  'avatar': None,\n",
              "  'email': 'rajalakshmi.girish@hpe.com',\n",
              "  'name': 'rajalakshmi-ganesan'},\n",
              " 'reviewers': [{'accountId': '97',\n",
              "   'avatar': None,\n",
              "   'email': 'daryl.walleck@rackspace.com',\n",
              "   'name': 'Daryl Walleck'},\n",
              "  {'accountId': '7',\n",
              "   'avatar': None,\n",
              "   'email': 'jaypipes@gmail.com',\n",
              "   'name': 'Jay Pipes'}],\n",
              " 'subProject': 'openstack/tempest',\n",
              " 'timestamp': 1333428006000}"
            ]
          },
          "metadata": {},
          "execution_count": 86
        }
      ]
    },
    {
      "cell_type": "code",
      "metadata": {
        "colab": {
          "base_uri": "https://localhost:8080/"
        },
        "id": "FwVmnNz6aQQY",
        "outputId": "be84de9c-e5f4-4fd7-c33f-1087ac164996"
      },
      "source": [
        "# read a single feature of an element\n",
        "data[0]['reviewers']"
      ],
      "execution_count": null,
      "outputs": [
        {
          "output_type": "execute_result",
          "data": {
            "text/plain": [
              "[{'accountId': '97',\n",
              "  'avatar': None,\n",
              "  'email': 'daryl.walleck@rackspace.com',\n",
              "  'name': 'Daryl Walleck'},\n",
              " {'accountId': '7',\n",
              "  'avatar': None,\n",
              "  'email': 'jaypipes@gmail.com',\n",
              "  'name': 'Jay Pipes'}]"
            ]
          },
          "metadata": {},
          "execution_count": 87
        }
      ]
    },
    {
      "cell_type": "code",
      "metadata": {
        "colab": {
          "base_uri": "https://localhost:8080/"
        },
        "id": "Tk-ULf7QaczI",
        "outputId": "da984ba7-6962-44cd-b78c-3582b6b24da3"
      },
      "source": [
        "# Get the Time of available data from selected project\n",
        "from datetime import datetime\n",
        "  \n",
        "timestamp = data[0]['timestamp']\n",
        "dt_obj = datetime.fromtimestamp(1333428006).strftime('%y-%m-%d')  # should drop the 3 last zero digits\n",
        "print(\"End   time:\", timestamp, \"is equal to date:\", dt_obj)\n",
        "\n",
        "timestamp = data[6544]['timestamp']\n",
        "dt_obj = datetime.fromtimestamp(1311695026).strftime('%y-%m-%d')\n",
        "print(\"Start time:\", timestamp, \"is equal to date:\", dt_obj)"
      ],
      "execution_count": null,
      "outputs": [
        {
          "output_type": "stream",
          "name": "stdout",
          "text": [
            "End   time: 1333428006000 is equal to date: 12-04-03\n",
            "Start time: 1311695026000 is equal to date: 11-07-26\n"
          ]
        }
      ]
    },
    {
      "cell_type": "markdown",
      "metadata": {
        "id": "8R9RQdlpeKPx"
      },
      "source": [
        "The openstack data that we use in here, containes about 8 months information of openstack project (2011-2012)"
      ]
    },
    {
      "cell_type": "markdown",
      "metadata": {
        "id": "VnDL2S8t4q2V"
      },
      "source": [
        "## Cleaning data"
      ]
    },
    {
      "cell_type": "code",
      "metadata": {
        "colab": {
          "base_uri": "https://localhost:8080/"
        },
        "id": "mcqqHao6eqFR",
        "outputId": "5fc9e2c8-23a2-46cd-d169-b8f2a8704496"
      },
      "source": [
        "# Extract and save desired features from each pull request. The new desired data is new_data\n",
        "new_data = []\n",
        "\n",
        "for i in range(0, len(data)):\n",
        "  elem_dict = {\"changeId\":data[i]['changeId'], \"reviewers\":data[i]['reviewers'], \"owner\":data[i]['owner'], \"filePaths\":data[i]['filePaths']}\n",
        "  new_data.append(elem_dict)\n",
        "  # print(new_data[i])\n",
        "\n",
        "print(len(new_data))"
      ],
      "execution_count": null,
      "outputs": [
        {
          "output_type": "stream",
          "name": "stdout",
          "text": [
            "6545\n"
          ]
        }
      ]
    },
    {
      "cell_type": "code",
      "metadata": {
        "colab": {
          "base_uri": "https://localhost:8080/"
        },
        "id": "YVBJ2Q1n62P2",
        "outputId": "4714299c-5241-41f4-df5d-889ed845a09e"
      },
      "source": [
        "new_data[0]"
      ],
      "execution_count": null,
      "outputs": [
        {
          "output_type": "execute_result",
          "data": {
            "text/plain": [
              "{'changeId': 'I9e7b9a2491d6a3f01d71551e4cadcccf154d992d',\n",
              " 'filePaths': [{'location': 'tempest/tests/test_volumes_get.py'}],\n",
              " 'owner': {'accountId': '2238',\n",
              "  'avatar': None,\n",
              "  'email': 'rajalakshmi.girish@hpe.com',\n",
              "  'name': 'rajalakshmi-ganesan'},\n",
              " 'reviewers': [{'accountId': '97',\n",
              "   'avatar': None,\n",
              "   'email': 'daryl.walleck@rackspace.com',\n",
              "   'name': 'Daryl Walleck'},\n",
              "  {'accountId': '7',\n",
              "   'avatar': None,\n",
              "   'email': 'jaypipes@gmail.com',\n",
              "   'name': 'Jay Pipes'}]}"
            ]
          },
          "metadata": {},
          "execution_count": 90
        }
      ]
    },
    {
      "cell_type": "code",
      "metadata": {
        "colab": {
          "base_uri": "https://localhost:8080/"
        },
        "id": "g1jslJtq759N",
        "outputId": "324c845e-f1e5-463f-dee5-625e53a94df3"
      },
      "source": [
        "# Remove remaining undesired features. The final desired information is saved in final_data\n",
        "final_data = []\n",
        "\n",
        "for i in range(0, len(new_data)):\n",
        "  elem_dict = {\"changeId\":new_data[i]['changeId'], \"ownerId\": new_data[i]['owner']['accountId'], \"reviewersId\":[], \"filePaths\":[]}\n",
        "\n",
        "  for j in range(0, len(new_data[i]['reviewers'])):\n",
        "    elem_dict[\"reviewersId\"].append(new_data[i]['reviewers'][j]['accountId'])\n",
        "\n",
        "  for j in range(0, len(new_data[i]['filePaths'])):\n",
        "    elem_dict[\"filePaths\"].append(new_data[i]['filePaths'][j]['location'])\n",
        "  \n",
        "  final_data.append(elem_dict)\n",
        "  # print(final_data[i])\n",
        "\n",
        "print(len(final_data))"
      ],
      "execution_count": null,
      "outputs": [
        {
          "output_type": "stream",
          "name": "stdout",
          "text": [
            "6545\n"
          ]
        }
      ]
    },
    {
      "cell_type": "code",
      "metadata": {
        "colab": {
          "base_uri": "https://localhost:8080/"
        },
        "id": "RVK0wQRC_mMI",
        "outputId": "81e944fa-01ac-4e0f-e004-4d56ff94bafc"
      },
      "source": [
        "final_data[1]"
      ],
      "execution_count": null,
      "outputs": [
        {
          "output_type": "execute_result",
          "data": {
            "text/plain": [
              "{'changeId': 'I10e7116570f922ec87e23b1f880cd4b1c08c3088',\n",
              " 'filePaths': ['tempest/tests/identity/test_roles.py',\n",
              "  'tempest/services/identity/json/admin_client.py',\n",
              "  'tempest/tests/identity/base_admin_test.py'],\n",
              " 'ownerId': '4120',\n",
              " 'reviewersId': ['97', '7']}"
            ]
          },
          "metadata": {},
          "execution_count": 92
        }
      ]
    },
    {
      "cell_type": "code",
      "metadata": {
        "colab": {
          "base_uri": "https://localhost:8080/"
        },
        "id": "eFmjc100GumD",
        "outputId": "9f2f117a-1197-4e25-b552-fb26b3d9f017"
      },
      "source": [
        "type(final_data)"
      ],
      "execution_count": null,
      "outputs": [
        {
          "output_type": "execute_result",
          "data": {
            "text/plain": [
              "list"
            ]
          },
          "metadata": {},
          "execution_count": 93
        }
      ]
    },
    {
      "cell_type": "code",
      "metadata": {
        "colab": {
          "base_uri": "https://localhost:8080/"
        },
        "id": "BNTdHBiGI3EP",
        "outputId": "33646af0-635c-49d7-90ee-6e0f6c497a12"
      },
      "source": [
        "# Convert list to json\n",
        "# It should be a string before write it to file\n",
        "json_string = json.dumps(final_data)\n",
        "\n",
        "# Save OpenStack new dataset\n",
        "file = open('openstack_final.json', 'w')\n",
        "file.write(json_string)\n",
        "file.close()"
      ],
      "execution_count": null,
      "outputs": [
        {
          "output_type": "stream",
          "name": "stderr",
          "text": [
            "IOPub data rate exceeded.\n",
            "The notebook server will temporarily stop sending output\n",
            "to the client in order to avoid crashing it.\n",
            "To change this limit, set the config variable\n",
            "`--NotebookApp.iopub_data_rate_limit`.\n",
            "\n",
            "Current values:\n",
            "NotebookApp.iopub_data_rate_limit=1000000.0 (bytes/sec)\n",
            "NotebookApp.rate_limit_window=3.0 (secs)\n",
            "\n"
          ]
        }
      ]
    },
    {
      "cell_type": "code",
      "metadata": {
        "colab": {
          "base_uri": "https://localhost:8080/",
          "height": 42
        },
        "id": "BGjuswdSJKrP",
        "outputId": "79e97bb8-1711-49fb-d0d2-657dfcdc500f"
      },
      "source": [
        "# Move OpenStack dataset to proper location\n",
        "import shutil\n",
        "\n",
        "src = \"./openstack_final.json\"\n",
        "dst = \"/content/drive/MyDrive/Colab Notebooks/My Project/openstack_final.json\"\n",
        "shutil.move(src, dst)"
      ],
      "execution_count": null,
      "outputs": [
        {
          "output_type": "execute_result",
          "data": {
            "application/vnd.google.colaboratory.intrinsic+json": {
              "type": "string"
            },
            "text/plain": [
              "'/content/drive/MyDrive/Colab Notebooks/My Project/openstack_final.json'"
            ]
          },
          "metadata": {},
          "execution_count": 98
        }
      ]
    },
    {
      "cell_type": "markdown",
      "metadata": {
        "id": "OrepSN13fjWp"
      },
      "source": [
        "# Approach"
      ]
    },
    {
      "cell_type": "markdown",
      "metadata": {
        "id": "pQ0OzQGlNNkI"
      },
      "source": [
        "## Load final data"
      ]
    },
    {
      "cell_type": "code",
      "metadata": {
        "colab": {
          "base_uri": "https://localhost:8080/"
        },
        "id": "AuIchz87KTA4",
        "outputId": "1e772fee-243c-4f0d-b0ac-50ebb88e01f0"
      },
      "source": [
        "# Load final data from drive\n",
        "f = open('/content/drive/MyDrive/Colab Notebooks/My Project/openstack_final.json',)\n",
        "data = json.load(f)  # returns json object as a dictionary\n",
        "for i in range(5):   # 5 first elements of the json list\n",
        "    print(data[i])\n",
        "f.close()"
      ],
      "execution_count": 3,
      "outputs": [
        {
          "output_type": "stream",
          "name": "stdout",
          "text": [
            "{'changeId': 'I9e7b9a2491d6a3f01d71551e4cadcccf154d992d', 'ownerId': '2238', 'reviewersId': ['97', '7'], 'filePaths': ['tempest/tests/test_volumes_get.py']}\n",
            "{'changeId': 'I10e7116570f922ec87e23b1f880cd4b1c08c3088', 'ownerId': '4120', 'reviewersId': ['97', '7'], 'filePaths': ['tempest/tests/identity/test_roles.py', 'tempest/services/identity/json/admin_client.py', 'tempest/tests/identity/base_admin_test.py']}\n",
            "{'changeId': 'I1d0c395cf679e07e304dd878d97734307b685f4c', 'ownerId': '1849', 'reviewersId': ['679', '1561'], 'filePaths': ['.gitignore']}\n",
            "{'changeId': 'Ia151f265bf62e6704de6cc2f2c01963be9e2dd69', 'ownerId': '1849', 'reviewersId': ['1561', '357'], 'filePaths': ['tools/hacking.py']}\n",
            "{'changeId': 'Ie4cfec6f89d6b37554b5345cde92f982397915e2', 'ownerId': '2', 'reviewersId': ['1561', '357'], 'filePaths': ['tox.ini']}\n"
          ]
        }
      ]
    },
    {
      "cell_type": "markdown",
      "metadata": {
        "id": "d_RIEUS5gIHh"
      },
      "source": [
        "## Split data for train/test sets"
      ]
    },
    {
      "cell_type": "code",
      "metadata": {
        "id": "4P3W9LS2gG6A"
      },
      "source": [
        ""
      ],
      "execution_count": null,
      "outputs": []
    },
    {
      "cell_type": "markdown",
      "metadata": {
        "id": "Slk7yWpWfrdw"
      },
      "source": [
        "## Main components of the approach\n",
        "Extract 3 interaction metrices"
      ]
    },
    {
      "cell_type": "code",
      "metadata": {
        "id": "S0EO-lXkfrPB"
      },
      "source": [
        ""
      ],
      "execution_count": null,
      "outputs": []
    }
  ]
}