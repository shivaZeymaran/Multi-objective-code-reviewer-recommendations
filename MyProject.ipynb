{
  "nbformat": 4,
  "nbformat_minor": 0,
  "metadata": {
    "colab": {
      "name": "MyProject.ipynb",
      "provenance": [],
      "collapsed_sections": [
        "8J1aB34OT2vv",
        "bgCIXkyJXg43",
        "iJv6aqisdePZ",
        "VnDL2S8t4q2V",
        "OrepSN13fjWp",
        "Slk7yWpWfrdw",
        "scd43oQFNoYC",
        "8FcG8-Ql0R2w",
        "DiQ3eg8h3Z7c",
        "EyhwlHRy6X7p",
        "F8WFK4WOB32c",
        "ER-OFM84BxeM",
        "Q2Nlv7-tC6QO",
        "_gYyVF1sDCMl",
        "yEpoQld9DL2-",
        "dmtDa9wLDRd2",
        "pQ0OzQGlNNkI",
        "HTzNT27Dwsgt",
        "WSVDjK4ow2Gk",
        "vi_k1x69BZH3"
      ]
    },
    "kernelspec": {
      "display_name": "Python 3",
      "name": "python3"
    },
    "language_info": {
      "name": "python"
    }
  },
  "cells": [
    {
      "cell_type": "code",
      "metadata": {
        "id": "8DMH1PQiSrhi"
      },
      "source": [
        "import os\n",
        "from numpy import *\n",
        "import json\n",
        "import pandas as pd\n",
        "from random import *\n",
        "import math\n",
        "from datetime import *\n",
        "from dateutil import parser\n",
        "import itertools\n",
        "from collections import defaultdict"
      ],
      "execution_count": 1,
      "outputs": []
    },
    {
      "cell_type": "code",
      "metadata": {
        "colab": {
          "base_uri": "https://localhost:8080/"
        },
        "id": "M0sbZPFbSs_6",
        "outputId": "9c5481de-9762-4c76-a2db-a336e8659a9d"
      },
      "source": [
        "from google.colab import drive\n",
        "drive.mount('/content/drive', force_remount=True)"
      ],
      "execution_count": 2,
      "outputs": [
        {
          "output_type": "stream",
          "name": "stdout",
          "text": [
            "Mounted at /content/drive\n"
          ]
        }
      ]
    },
    {
      "cell_type": "markdown",
      "metadata": {
        "id": "8J1aB34OT2vv"
      },
      "source": [
        "# Get required data\n",
        "From the github repository"
      ]
    },
    {
      "cell_type": "code",
      "metadata": {
        "colab": {
          "base_uri": "https://localhost:8080/"
        },
        "id": "YncyX3P4Suzu",
        "outputId": "069bd7d6-b3bb-4034-d563-00f0520087d1"
      },
      "source": [
        "# Clone the entire repo.\n",
        "!git clone -l -s https://github.com/XLipcak/rev-rec.git cloned-repo"
      ],
      "execution_count": null,
      "outputs": [
        {
          "name": "stdout",
          "output_type": "stream",
          "text": [
            "Cloning into 'cloned-repo'...\n",
            "warning: --local is ignored\n",
            "remote: Enumerating objects: 1170, done.\u001b[K\n",
            "remote: Total 1170 (delta 0), reused 0 (delta 0), pack-reused 1170\u001b[K\n",
            "Receiving objects: 100% (1170/1170), 45.11 MiB | 14.96 MiB/s, done.\n",
            "Resolving deltas: 100% (503/503), done.\n",
            "Checking out files: 100% (88/88), done.\n"
          ]
        }
      ]
    },
    {
      "cell_type": "code",
      "metadata": {
        "colab": {
          "base_uri": "https://localhost:8080/"
        },
        "id": "NUO0DfuaS8_2",
        "outputId": "4ea632d0-b18d-4b7a-8d2e-7a0ef2527889"
      },
      "source": [
        "%ls"
      ],
      "execution_count": null,
      "outputs": [
        {
          "name": "stdout",
          "output_type": "stream",
          "text": [
            "\u001b[0m\u001b[01;34mcloned-repo\u001b[0m/  \u001b[01;34mdrive\u001b[0m/  \u001b[01;34msample_data\u001b[0m/\n"
          ]
        }
      ]
    },
    {
      "cell_type": "code",
      "metadata": {
        "colab": {
          "base_uri": "https://localhost:8080/"
        },
        "id": "ovkSscBBS75P",
        "outputId": "96896c2f-6bd4-48e7-b491-6afbdb18df23"
      },
      "source": [
        "# Save OpenStack dataset\n",
        "import shutil\n",
        "src = \"/content/cloned-repo/rev-rec-data/openstack.json\"\n",
        "dst = \"/content/drive/MyDrive/Colab Notebooks/My Project/openstack.json\"\n",
        "shutil.move(src, dst)"
      ],
      "execution_count": null,
      "outputs": [
        {
          "data": {
            "application/vnd.google.colaboratory.intrinsic+json": {
              "type": "string"
            },
            "text/plain": [
              "'/content/drive/MyDrive/Colab Notebooks/My Project/openstack.json'"
            ]
          },
          "execution_count": 5,
          "metadata": {},
          "output_type": "execute_result"
        }
      ]
    },
    {
      "cell_type": "markdown",
      "metadata": {
        "id": "bgCIXkyJXg43"
      },
      "source": [
        "# Process raw data \n",
        "a JSON file"
      ]
    },
    {
      "cell_type": "code",
      "metadata": {
        "colab": {
          "base_uri": "https://localhost:8080/"
        },
        "id": "HYaj-H2BTHN2",
        "outputId": "dd9b664e-04a8-4420-aae2-1d1d51f11f57"
      },
      "source": [
        "f = open('/content/drive/MyDrive/Colab Notebooks/My Project/openstack.json',)\n",
        "data = json.load(f)  # returns json object as a dictionary\n",
        "for i in range(5):   # 5 first elements of the json list\n",
        "    print(data[i])\n",
        "f.close()"
      ],
      "execution_count": null,
      "outputs": [
        {
          "name": "stdout",
          "output_type": "stream",
          "text": [
            "{'subProject': 'openstack/tempest', 'changeId': 'I9e7b9a2491d6a3f01d71551e4cadcccf154d992d', 'changeNumber': 6139, 'timestamp': 1333428006000, 'reviewers': [{'accountId': '97', 'email': 'daryl.walleck@rackspace.com', 'name': 'Daryl Walleck', 'avatar': None}, {'accountId': '7', 'email': 'jaypipes@gmail.com', 'name': 'Jay Pipes', 'avatar': None}], 'owner': {'accountId': '2238', 'email': 'rajalakshmi.girish@hpe.com', 'name': 'rajalakshmi-ganesan', 'avatar': None}, 'filePaths': [{'location': 'tempest/tests/test_volumes_get.py'}]}\n",
            "{'subProject': 'openstack/tempest', 'changeId': 'I10e7116570f922ec87e23b1f880cd4b1c08c3088', 'changeNumber': 7438, 'timestamp': 1337072165000, 'reviewers': [{'accountId': '97', 'email': 'daryl.walleck@rackspace.com', 'name': 'Daryl Walleck', 'avatar': None}, {'accountId': '7', 'email': 'jaypipes@gmail.com', 'name': 'Jay Pipes', 'avatar': None}], 'owner': {'accountId': '4120', 'email': 'rohit.karajgi@ril.com', 'name': 'Rohit Karajgi', 'avatar': None}, 'filePaths': [{'location': 'tempest/tests/identity/test_roles.py'}, {'location': 'tempest/services/identity/json/admin_client.py'}, {'location': 'tempest/tests/identity/base_admin_test.py'}]}\n",
            "{'subProject': 'openstack/nova', 'changeId': 'I1d0c395cf679e07e304dd878d97734307b685f4c', 'changeNumber': 7951, 'timestamp': 1338410316000, 'reviewers': [{'accountId': '679', 'email': 'klmitch@mit.edu', 'name': 'Kevin L. Mitchell', 'avatar': None}, {'accountId': '1561', 'email': 'rbryant@redhat.com', 'name': 'Russell Bryant', 'avatar': None}], 'owner': {'accountId': '1849', 'email': 'joe.gordon0@gmail.com', 'name': 'Joe Gordon', 'avatar': None}, 'filePaths': [{'location': '.gitignore'}]}\n",
            "{'subProject': 'openstack/nova', 'changeId': 'Ia151f265bf62e6704de6cc2f2c01963be9e2dd69', 'changeNumber': 7765, 'timestamp': 1337879042000, 'reviewers': [{'accountId': '1561', 'email': 'rbryant@redhat.com', 'name': 'Russell Bryant', 'avatar': None}, {'accountId': '357', 'email': 'devin@openstack.org', 'name': 'Devin Carlen', 'avatar': None}], 'owner': {'accountId': '1849', 'email': 'joe.gordon0@gmail.com', 'name': 'Joe Gordon', 'avatar': None}, 'filePaths': [{'location': 'tools/hacking.py'}]}\n",
            "{'subProject': 'openstack/nova', 'changeId': 'Ie4cfec6f89d6b37554b5345cde92f982397915e2', 'changeNumber': 7807, 'timestamp': 1337967413000, 'reviewers': [{'accountId': '1561', 'email': 'rbryant@redhat.com', 'name': 'Russell Bryant', 'avatar': None}, {'accountId': '357', 'email': 'devin@openstack.org', 'name': 'Devin Carlen', 'avatar': None}], 'owner': {'accountId': '2', 'email': 'mordred@inaugust.com', 'name': 'Monty Taylor', 'avatar': None}, 'filePaths': [{'location': 'tox.ini'}]}\n"
          ]
        }
      ]
    },
    {
      "cell_type": "markdown",
      "metadata": {
        "id": "iJv6aqisdePZ"
      },
      "source": [
        "## Hands on with given data"
      ]
    },
    {
      "cell_type": "code",
      "metadata": {
        "colab": {
          "base_uri": "https://localhost:8080/"
        },
        "id": "m7AGHyP4ZAZH",
        "outputId": "4c34b2e2-32b8-400d-a6bb-e8cbb57cf12f"
      },
      "source": [
        "type(data)"
      ],
      "execution_count": null,
      "outputs": [
        {
          "data": {
            "text/plain": [
              "list"
            ]
          },
          "execution_count": 20,
          "metadata": {},
          "output_type": "execute_result"
        }
      ]
    },
    {
      "cell_type": "code",
      "metadata": {
        "colab": {
          "base_uri": "https://localhost:8080/"
        },
        "id": "rT6NArSMZ2hB",
        "outputId": "f594842b-5b23-4f37-f516-5807aa31d7be"
      },
      "source": [
        "len(data)"
      ],
      "execution_count": null,
      "outputs": [
        {
          "data": {
            "text/plain": [
              "6545"
            ]
          },
          "execution_count": 21,
          "metadata": {},
          "output_type": "execute_result"
        }
      ]
    },
    {
      "cell_type": "code",
      "metadata": {
        "colab": {
          "base_uri": "https://localhost:8080/"
        },
        "id": "6zyDNbX2Z9k_",
        "outputId": "3152932e-4139-4ced-f10c-8391b17679e1"
      },
      "source": [
        "# get an element of the list of data\n",
        "data[0]"
      ],
      "execution_count": null,
      "outputs": [
        {
          "data": {
            "text/plain": [
              "{'changeId': 'I9e7b9a2491d6a3f01d71551e4cadcccf154d992d',\n",
              " 'changeNumber': 6139,\n",
              " 'filePaths': [{'location': 'tempest/tests/test_volumes_get.py'}],\n",
              " 'owner': {'accountId': '2238',\n",
              "  'avatar': None,\n",
              "  'email': 'rajalakshmi.girish@hpe.com',\n",
              "  'name': 'rajalakshmi-ganesan'},\n",
              " 'reviewers': [{'accountId': '97',\n",
              "   'avatar': None,\n",
              "   'email': 'daryl.walleck@rackspace.com',\n",
              "   'name': 'Daryl Walleck'},\n",
              "  {'accountId': '7',\n",
              "   'avatar': None,\n",
              "   'email': 'jaypipes@gmail.com',\n",
              "   'name': 'Jay Pipes'}],\n",
              " 'subProject': 'openstack/tempest',\n",
              " 'timestamp': 1333428006000}"
            ]
          },
          "execution_count": 22,
          "metadata": {},
          "output_type": "execute_result"
        }
      ]
    },
    {
      "cell_type": "code",
      "metadata": {
        "colab": {
          "base_uri": "https://localhost:8080/"
        },
        "id": "FwVmnNz6aQQY",
        "outputId": "c88e3b76-9e76-481b-cef5-daa1d389bf52"
      },
      "source": [
        "# read a single feature of an element\n",
        "data[0]['reviewers']"
      ],
      "execution_count": null,
      "outputs": [
        {
          "data": {
            "text/plain": [
              "[{'accountId': '97',\n",
              "  'avatar': None,\n",
              "  'email': 'daryl.walleck@rackspace.com',\n",
              "  'name': 'Daryl Walleck'},\n",
              " {'accountId': '7',\n",
              "  'avatar': None,\n",
              "  'email': 'jaypipes@gmail.com',\n",
              "  'name': 'Jay Pipes'}]"
            ]
          },
          "execution_count": 23,
          "metadata": {},
          "output_type": "execute_result"
        }
      ]
    },
    {
      "cell_type": "markdown",
      "metadata": {
        "id": "VnDL2S8t4q2V"
      },
      "source": [
        "## Cleaning data"
      ]
    },
    {
      "cell_type": "code",
      "metadata": {
        "colab": {
          "base_uri": "https://localhost:8080/"
        },
        "id": "mcqqHao6eqFR",
        "outputId": "c58b872c-2a49-49ad-cff6-fe5f160650d8"
      },
      "source": [
        "# Extract and save desired features from each pull request. The new desired data is new_data\n",
        "new_data = []\n",
        "\n",
        "for i in range(0, len(data)):\n",
        "  elem_dict = {\"changeId\":data[i]['changeId'], \"reviewers\":data[i]['reviewers'], \"owner\":data[i]['owner'], \"filePaths\":data[i]['filePaths'], \"time\":data[i]['timestamp']}\n",
        "  new_data.append(elem_dict)\n",
        "  # print(new_data[i])\n",
        "\n",
        "print(len(new_data))"
      ],
      "execution_count": null,
      "outputs": [
        {
          "name": "stdout",
          "output_type": "stream",
          "text": [
            "6545\n"
          ]
        }
      ]
    },
    {
      "cell_type": "code",
      "metadata": {
        "colab": {
          "base_uri": "https://localhost:8080/"
        },
        "id": "YVBJ2Q1n62P2",
        "outputId": "b3a6377d-2ecd-41d1-e498-9f7fbb59972f"
      },
      "source": [
        "new_data[0]"
      ],
      "execution_count": null,
      "outputs": [
        {
          "data": {
            "text/plain": [
              "{'changeId': 'I9e7b9a2491d6a3f01d71551e4cadcccf154d992d',\n",
              " 'filePaths': [{'location': 'tempest/tests/test_volumes_get.py'}],\n",
              " 'owner': {'accountId': '2238',\n",
              "  'avatar': None,\n",
              "  'email': 'rajalakshmi.girish@hpe.com',\n",
              "  'name': 'rajalakshmi-ganesan'},\n",
              " 'reviewers': [{'accountId': '97',\n",
              "   'avatar': None,\n",
              "   'email': 'daryl.walleck@rackspace.com',\n",
              "   'name': 'Daryl Walleck'},\n",
              "  {'accountId': '7',\n",
              "   'avatar': None,\n",
              "   'email': 'jaypipes@gmail.com',\n",
              "   'name': 'Jay Pipes'}],\n",
              " 'time': 1333428006000}"
            ]
          },
          "execution_count": 25,
          "metadata": {},
          "output_type": "execute_result"
        }
      ]
    },
    {
      "cell_type": "code",
      "metadata": {
        "colab": {
          "base_uri": "https://localhost:8080/"
        },
        "id": "g1jslJtq759N",
        "outputId": "f2a986fe-a28a-4961-9a16-31d1a4190bba"
      },
      "source": [
        "# Remove remaining undesired features. The final desired information is saved in final_data\n",
        "final_data = []\n",
        "\n",
        "for i in range(0, len(new_data)):\n",
        "  elem_dict = {\"time\":new_data[i]['time'], \"changeId\":new_data[i]['changeId'], \"ownerId\": new_data[i]['owner']['accountId'], \"reviewersId\":[], \"filePaths\":[]}\n",
        "\n",
        "  for j in range(0, len(new_data[i]['reviewers'])):\n",
        "    elem_dict[\"reviewersId\"].append(new_data[i]['reviewers'][j]['accountId'])\n",
        "\n",
        "  for j in range(0, len(new_data[i]['filePaths'])):\n",
        "    elem_dict[\"filePaths\"].append(new_data[i]['filePaths'][j]['location'])\n",
        "  \n",
        "  final_data.append(elem_dict)\n",
        "  # print(final_data[i])\n",
        "\n",
        "print(len(final_data))"
      ],
      "execution_count": null,
      "outputs": [
        {
          "name": "stdout",
          "output_type": "stream",
          "text": [
            "6545\n"
          ]
        }
      ]
    },
    {
      "cell_type": "code",
      "metadata": {
        "colab": {
          "base_uri": "https://localhost:8080/"
        },
        "id": "RVK0wQRC_mMI",
        "outputId": "054beb21-8354-42e2-a5bf-89646c8d25f4"
      },
      "source": [
        "final_data[0]"
      ],
      "execution_count": null,
      "outputs": [
        {
          "data": {
            "text/plain": [
              "{'changeId': 'I9e7b9a2491d6a3f01d71551e4cadcccf154d992d',\n",
              " 'filePaths': ['tempest/tests/test_volumes_get.py'],\n",
              " 'ownerId': '2238',\n",
              " 'reviewersId': ['97', '7'],\n",
              " 'time': 1333428006000}"
            ]
          },
          "execution_count": 27,
          "metadata": {},
          "output_type": "execute_result"
        }
      ]
    },
    {
      "cell_type": "code",
      "metadata": {
        "id": "Ebjq1N8RJ_YR"
      },
      "source": [
        "# change timestamp value from int to date format\n",
        "for pr in final_data:\n",
        "  timestamp = int(pr['time']/1000)  # removing the 3 last zero digits \n",
        "  dt_obj = datetime.fromtimestamp(timestamp) \n",
        "  pr['time'] = dt_obj"
      ],
      "execution_count": null,
      "outputs": []
    },
    {
      "cell_type": "code",
      "metadata": {
        "colab": {
          "base_uri": "https://localhost:8080/"
        },
        "id": "ofFuDQxFK6sy",
        "outputId": "a3eb1eb8-0e96-4806-ce40-32844f0704c1"
      },
      "source": [
        "final_data[0]"
      ],
      "execution_count": null,
      "outputs": [
        {
          "data": {
            "text/plain": [
              "{'changeId': 'I9e7b9a2491d6a3f01d71551e4cadcccf154d992d',\n",
              " 'filePaths': ['tempest/tests/test_volumes_get.py'],\n",
              " 'ownerId': '2238',\n",
              " 'reviewersId': ['97', '7'],\n",
              " 'time': datetime.datetime(2012, 4, 3, 4, 40, 6)}"
            ]
          },
          "execution_count": 29,
          "metadata": {},
          "output_type": "execute_result"
        }
      ]
    },
    {
      "cell_type": "code",
      "metadata": {
        "colab": {
          "base_uri": "https://localhost:8080/"
        },
        "id": "enh50GDlvdg4",
        "outputId": "7dd4a38b-89b9-4c54-da1a-115e07ad756f"
      },
      "source": [
        "# sort data by time\n",
        "sorted_data = sorted(final_data, key=lambda d: d['time'])\n",
        "\n",
        "# Get the Time of available data from selected project\n",
        "print(\"Start date:\", sorted_data[0]['time'])\n",
        "print(\"End date:\", sorted_data[-1]['time'])"
      ],
      "execution_count": null,
      "outputs": [
        {
          "name": "stdout",
          "output_type": "stream",
          "text": [
            "Start date: 2011-07-18 15:43:34\n",
            "End date: 2012-05-30 21:39:57\n"
          ]
        }
      ]
    },
    {
      "cell_type": "markdown",
      "metadata": {
        "id": "2BqZjVtrwpj9"
      },
      "source": [
        "The openstack data that we use in here, containes about 10 months information of openstack project (2011-2012)"
      ]
    },
    {
      "cell_type": "code",
      "metadata": {
        "colab": {
          "base_uri": "https://localhost:8080/"
        },
        "id": "eFmjc100GumD",
        "outputId": "94c96853-9b52-4b14-9582-6bac1f8878eb"
      },
      "source": [
        "type(sorted_data)"
      ],
      "execution_count": null,
      "outputs": [
        {
          "data": {
            "text/plain": [
              "list"
            ]
          },
          "execution_count": 31,
          "metadata": {},
          "output_type": "execute_result"
        }
      ]
    },
    {
      "cell_type": "code",
      "metadata": {
        "id": "BNTdHBiGI3EP"
      },
      "source": [
        "# Convert list to json\n",
        "# It should be a string before write it to file\n",
        "# \"default\" is added to dumps to make anything not serializable for JSON to string format (like datatime) \n",
        "json_string = json.dumps(sorted_data, default=str) \n",
        "\n",
        "# Save OpenStack new dataset\n",
        "file = open('openstack_final.json', 'w')\n",
        "file.write(json_string)\n",
        "file.close()"
      ],
      "execution_count": null,
      "outputs": []
    },
    {
      "cell_type": "code",
      "metadata": {
        "colab": {
          "base_uri": "https://localhost:8080/"
        },
        "id": "BGjuswdSJKrP",
        "outputId": "93de5d4b-2d72-4de2-a1c1-c0b729c607ca"
      },
      "source": [
        "# Move OpenStack dataset to proper location\n",
        "import shutil\n",
        "\n",
        "src = \"./openstack_final.json\"\n",
        "dst = \"/content/drive/MyDrive/Colab Notebooks/My Project/openstack_final.json\"\n",
        "shutil.move(src, dst)"
      ],
      "execution_count": null,
      "outputs": [
        {
          "data": {
            "application/vnd.google.colaboratory.intrinsic+json": {
              "type": "string"
            },
            "text/plain": [
              "'/content/drive/MyDrive/Colab Notebooks/My Project/openstack_final.json'"
            ]
          },
          "execution_count": 33,
          "metadata": {},
          "output_type": "execute_result"
        }
      ]
    },
    {
      "cell_type": "markdown",
      "metadata": {
        "id": "OrepSN13fjWp"
      },
      "source": [
        "# Approach\n",
        "\n",
        "Should run the code each time from this part"
      ]
    },
    {
      "cell_type": "markdown",
      "metadata": {
        "id": "Slk7yWpWfrdw"
      },
      "source": [
        "## Main components of the approach\n",
        "Extract 3 interaction metrices"
      ]
    },
    {
      "cell_type": "markdown",
      "metadata": {
        "id": "scd43oQFNoYC"
      },
      "source": [
        "### Reviewer's **expertise** model\n",
        "FR matrix\n",
        "as 'cal_expertise' function"
      ]
    },
    {
      "cell_type": "code",
      "metadata": {
        "id": "S0EO-lXkfrPB"
      },
      "source": [
        "# Function to extract 'Expertise' metrix\n",
        "# Returns P*M matrix named FR\n",
        "def cal_expertise(files, all_reviewers, train):\n",
        "  FR = array([[0]*len(all_reviewers)] * len(files))\n",
        "\n",
        "  # fill the cells of the dataframe by checking PRs one by one\n",
        "  for f in files:\n",
        "    for pr in train:\n",
        "      if f in pr['filePaths']:\n",
        "        for r in pr['reviewersId']:\n",
        "          FR[files.index(f)][all_reviewers.index(r)] += 1\n",
        "\n",
        "  return FR"
      ],
      "execution_count": 3,
      "outputs": []
    },
    {
      "cell_type": "markdown",
      "metadata": {
        "id": "8FcG8-Ql0R2w"
      },
      "source": [
        "### Reviewer‑developer **collaboration** model\n",
        "DR matrix\n",
        "as 'cal_collaboration' function"
      ]
    },
    {
      "cell_type": "code",
      "metadata": {
        "id": "RfRPBPF-OXSc"
      },
      "source": [
        "# Function to extract 'Collaboration' metrix\n",
        "# Returns N*M matrix named DR\n",
        "def cal_collaboration(all_devs, all_reviewers, train):\n",
        "  DR = array([[0]*len(all_reviewers)] * len(all_devs))\n",
        "\n",
        "  # fill the values of dataframe by checking PRs one by one\n",
        "  for pr in train:\n",
        "    for r in pr['reviewersId']:\n",
        "      DR[all_devs.index(pr['ownerId'])][all_reviewers.index(r)] += len(pr['filePaths'])\n",
        "\n",
        "  return DR"
      ],
      "execution_count": 4,
      "outputs": []
    },
    {
      "cell_type": "markdown",
      "metadata": {
        "id": "DiQ3eg8h3Z7c"
      },
      "source": [
        "### **Availability** model\n",
        "as 'cal_availability' function"
      ]
    },
    {
      "cell_type": "code",
      "metadata": {
        "id": "bmTt3eRoE6z6"
      },
      "source": [
        "# Function to extract 'Availability' vector\n",
        "# Returns 1*M matrix named A \n",
        "def cal_availability(all_reviewers, train, cur_time):\n",
        "\n",
        "  # seven day before the time of our test PR\n",
        "  week_ago = cur_time - timedelta(days=7)\n",
        "  \n",
        "  # Extract a list of PRs that are between time of seven days ago up to the time of test PR\n",
        "  week_pr = [pr for pr in train if (week_ago < pr['time'] < cur_time)]\n",
        "\n",
        "  # Extract the availability matrix named 'A' that is 1*M\n",
        "  A = array([0]*len(all_reviewers))\n",
        "  for r in all_reviewers:\n",
        "    for pr in week_pr:\n",
        "      if r in pr['reviewersId']:\n",
        "        A[all_reviewers.index(r)] += len(pr['filePaths'])\n",
        "  \n",
        "  return A"
      ],
      "execution_count": 5,
      "outputs": []
    },
    {
      "cell_type": "markdown",
      "metadata": {
        "id": "EyhwlHRy6X7p"
      },
      "source": [
        "### **File-Developer** matrix"
      ]
    },
    {
      "cell_type": "code",
      "metadata": {
        "id": "SmqibzIQ62UI"
      },
      "source": [
        "# Function to extract File-Developer matrix\n",
        "# Returns N*P matrix named FD \n",
        "def cal_fileDev(all_devs, files, train):\n",
        "  FD = array([[0]*len(files)] * len(all_devs))\n",
        "\n",
        "  # Fill the dataframe with number of times each developer worked on each file\n",
        "  for pr in train:\n",
        "    for f in pr['filePaths']:\n",
        "      if f in files:\n",
        "        FD[all_devs.index(pr['ownerId'])][files.index(f)] += 1\n",
        "\n",
        "  return FD"
      ],
      "execution_count": 6,
      "outputs": []
    },
    {
      "cell_type": "markdown",
      "metadata": {
        "id": "F8WFK4WOB32c"
      },
      "source": [
        "## Fitness functions"
      ]
    },
    {
      "cell_type": "code",
      "metadata": {
        "id": "Oy5dCh16bc1s"
      },
      "source": [
        "def fit_avail(A, S):\n",
        "  avail = sum(dot(A, S.T))\n",
        "  return divide(1, avail, where=(avail!=0))"
      ],
      "execution_count": 7,
      "outputs": []
    },
    {
      "cell_type": "code",
      "metadata": {
        "id": "XoT2PmB5x5lR"
      },
      "source": [
        "def fit_expert(FR, S):\n",
        "  return sum(divide(FR, S, out=zeros_like(FR, dtype=float), where=(S!=0)))"
      ],
      "execution_count": 8,
      "outputs": []
    },
    {
      "cell_type": "code",
      "metadata": {
        "id": "jGmWk514NWam"
      },
      "source": [
        "def fit_collab(P, M, N, DR, FD, S):\n",
        "  return sum([DR[k][i]*FD[k][j] for k in range(N) for j in range(P) for i in range(M) if S[j][i]>0])"
      ],
      "execution_count": 9,
      "outputs": []
    },
    {
      "cell_type": "markdown",
      "metadata": {
        "id": "UaZ0rQH7rXw4"
      },
      "source": [
        "## Genetic"
      ]
    },
    {
      "cell_type": "markdown",
      "metadata": {
        "id": "ER-OFM84BxeM"
      },
      "source": [
        "### Chromosome defenition\n"
      ]
    },
    {
      "cell_type": "code",
      "metadata": {
        "id": "CRIO1je4qFWp"
      },
      "source": [
        "# Chromosome creation\n",
        "# Reviewer-File matrix named S with shape of P*M \n",
        "\n",
        "def init_gene(P, M):\n",
        "  S = array([[0]*M] * P)\n",
        "\n",
        "  # assign random number to each cell of the dataframe\n",
        "  # each \"row\" must have all the integer numbers from 0 to M (distinct numbers)\n",
        "  for row in range(0, P):\n",
        "    num_of_zeros = randint(0, M-1)   # we should choose atleast one reviewer (no row with all zeros)\n",
        "    rand_ranks = num_of_zeros * [0]\n",
        "    rand_ranks.extend(sample(range(1, M-num_of_zeros+1), M-num_of_zeros))  # sampling without replacement\n",
        "    shuffle(rand_ranks)   # Shuffle zeros with non-zero ranks\n",
        "    S[row] = rand_ranks\n",
        "  \n",
        "  return S"
      ],
      "execution_count": 10,
      "outputs": []
    },
    {
      "cell_type": "markdown",
      "metadata": {
        "id": "Q2Nlv7-tC6QO"
      },
      "source": [
        "### Offspring creation"
      ]
    },
    {
      "cell_type": "code",
      "metadata": {
        "id": "LVyHiRhmrpln"
      },
      "source": [
        "# Swap mutation function\n",
        "def mutation(gene, mute_prob, modif_prob, P):\n",
        "  r = random()\n",
        "  if r < mute_prob:\n",
        "    # mutation can accure at each row with some probability\n",
        "    dict_rows = {}  # dictionary of selected rows for mutation and their probability\n",
        "    for i in range(0, P): \n",
        "      rand = random()\n",
        "      if rand < modif_prob:\n",
        "        dict_rows[i] = rand   # this row added to selected rows for mutation process\n",
        "\n",
        "    if len(dict_rows) > 1:  # if two or more rows selected\n",
        "      # find two rows with maximum probabilities (sort dictionary by values in descending order)\n",
        "      sort_dict = sorted(dict_rows.items(), key=lambda x: x[1], reverse=True)\n",
        "      r1, r2 = sort_dict[0][0], sort_dict[1][0]\n",
        "      # swapping these two rows\n",
        "      gene[[r1, r2]] = gene[[r2, r1]]\n",
        "    \n",
        "  return gene"
      ],
      "execution_count": 11,
      "outputs": []
    },
    {
      "cell_type": "code",
      "metadata": {
        "id": "LrVVdOzVb0v9"
      },
      "source": [
        "# Function to repaire genes with infeasible ranks\n",
        "# This function not change the gene if it is a feasible solution\n",
        "# the repair mechanism just apply on the mixed row of the child\n",
        "def repair_gene(gene):\n",
        "  non_zero_vals = gene[(gene!=0)]   # non zero elements of gene matrix\n",
        "  non_zero_vals.sort()\n",
        "  new_vals = [i for i in range(1, len(non_zero_vals)+1)]   # new elements for repaired gene\n",
        "\n",
        "  dic = dict(zip(new_vals, non_zero_vals))  # create a dictionary of new values to previous one\n",
        "  key_list, val_list = list(dic.keys()), list(dic.values())\n",
        "\n",
        "  # replace gene elements with repaired ones according to dictionary\n",
        "  for i in range(0, len(gene)):\n",
        "    if gene[i] != 0:\n",
        "      position = val_list.index(gene[i])\n",
        "      val_list.remove(gene[i])\n",
        "      gene[i] = key_list[position]\n",
        "      key_list.remove(key_list[position])\n",
        "\n",
        "  # return repaired gene\n",
        "  return gene"
      ],
      "execution_count": 12,
      "outputs": []
    },
    {
      "cell_type": "code",
      "metadata": {
        "id": "5a0DpZmyb5Be"
      },
      "source": [
        "# Single point crossover function\n",
        "def crossover(gene1, gene2, cross_prob, mute_prob, modif_prob, P, M):\n",
        "  childs = []\n",
        "  r = random()  # random number between 0 and 1\n",
        "  if r < cross_prob:\n",
        "    # crossover point\n",
        "    row, col = randint(0, P-1), randint(0, M-1)   \n",
        "    # print(\"crossover point\", row, col)\n",
        "\n",
        "    # first child : (0, 0) to (row, col) from first parent and the rest from second parent\n",
        "    child1 = gene1[0:row, :]\n",
        "    child1 = append(append(append(child1, gene1[row, 0:col]), gene2[row, col:]), gene2[row+1:, :]).reshape((P, M))\n",
        "    # second child : first part from parent2 and second part from parent1\n",
        "    child2 = gene2[0:row, :]\n",
        "    child2 = append(append(append(child2, gene2[row, 0:col]), gene1[row, col:]), gene1[row+1:, :]).reshape((P, M))\n",
        "    # print(\"child1 before repair\", child1)\n",
        "    # print(\"child2 before repair\", child2)\n",
        "\n",
        "    # repair mechanism on mixed row of each child\n",
        "    child1[row] = repair_gene(child1[row])\n",
        "    child2[row] = repair_gene(child2[row])\n",
        "    # print(\"child1 after repair\", child1)\n",
        "    # print(\"child2 after repair\", child2)\n",
        "\n",
        "    # mutation\n",
        "    child1 = mutation(child1, mute_prob, modif_prob, P)\n",
        "    # print(\"child1 after mutation\", child1)\n",
        "    child2 = mutation(child2, mute_prob, modif_prob, P)\n",
        "    # print(\"child2 after mutation\", child2)\n",
        "\n",
        "    childs.append(child1)\n",
        "    childs.append(child2)\n",
        "\n",
        "  return childs     # it returns empty list when no crossover happend"
      ],
      "execution_count": 13,
      "outputs": []
    },
    {
      "cell_type": "code",
      "metadata": {
        "id": "B_r7iXdVb-Rd"
      },
      "source": [
        "def create_new_pop(P0, pop_size, cross_prob, mute_prob, modif_prob, P, M):\n",
        "  childs = []\n",
        "  while len(childs) < pop_size:\n",
        "    gene1 = P0[randint(0, pop_size-1)]\n",
        "    # print(\"first parent\", gene1)\n",
        "    gene2 = P0[randint(0, pop_size-1)]\n",
        "    # print(\"second parent\", gene2)\n",
        "    child1_2 = crossover(gene1, gene2, cross_prob, mute_prob, modif_prob, P, M)\n",
        "    if len(child1_2)!=0:\n",
        "      childs.append(child1_2[0])\n",
        "      childs.append(child1_2[1])\n",
        "    # print(\"childs up to now\", childs)\n",
        "    # print(\"-----------------next loop-------------------\")\n",
        "  return childs"
      ],
      "execution_count": 14,
      "outputs": []
    },
    {
      "cell_type": "markdown",
      "metadata": {
        "id": "_gYyVF1sDCMl"
      },
      "source": [
        "### Non-domination Rank"
      ]
    },
    {
      "cell_type": "code",
      "metadata": {
        "id": "NyuoUlPEcCCV"
      },
      "source": [
        "def dominate(a, b, avail_values, expert_values, collab_values):\n",
        "  if ((avail_values[a] > avail_values[b] and expert_values[a] > expert_values[b] and collab_values[a] < collab_values[b])\n",
        "      or (avail_values[a] >= avail_values[b] and expert_values[a] >  expert_values[b] and collab_values[a] <  collab_values[b]) \n",
        "      or (avail_values[a] >  avail_values[b] and expert_values[a] >= expert_values[b] and collab_values[a] <  collab_values[b])\n",
        "      or (avail_values[a] >  avail_values[b] and expert_values[a] >  expert_values[b] and collab_values[a] <= collab_values[b])\n",
        "      or (avail_values[a] >= avail_values[b] and expert_values[a] >= expert_values[b] and collab_values[a] <  collab_values[b])\n",
        "      or (avail_values[a] >= avail_values[b] and expert_values[a] >  expert_values[b] and collab_values[a] <= collab_values[b])\n",
        "      or (avail_values[a] >  avail_values[b] and expert_values[a] >= expert_values[b] and collab_values[a] <= collab_values[b])):\n",
        "    return True   # a dominates b\n",
        "  else:\n",
        "    return False "
      ],
      "execution_count": 15,
      "outputs": []
    },
    {
      "cell_type": "code",
      "metadata": {
        "id": "RgKUDUBmcFxU"
      },
      "source": [
        "def fast_non_dominated_sort(avail_values, expert_values, collab_values):\n",
        "  pop = len(avail_values)   # population\n",
        "  S = [[] for i in range(0, pop)]  # means who are you dominating\n",
        "  n = [0 for i in range(0, pop)]   # means how many people dominate you\n",
        "  fronts = [[]]  # Pareto-fornts\n",
        "\n",
        "  # fill S and n lists for each gene\n",
        "  for p in range(0, pop):\n",
        "    for q in range(p+1, pop):\n",
        "      if dominate(p, q, avail_values, expert_values, collab_values):   # p dominates q\n",
        "        if q not in S[p]:\n",
        "          S[p].append(q)\n",
        "        n[q] += 1\n",
        "      elif dominate(q, p, avail_values, expert_values, collab_values): # q dominates p\n",
        "        n[p] += 1\n",
        "        if p not in S[q]:\n",
        "          S[q].append(p)\n",
        "\n",
        "    if n[p] == 0:\n",
        "      if p not in fronts[0]:\n",
        "        fronts[0].append(p)\n",
        "\n",
        "  # calculate other front levels of the remaining population\n",
        "  i = 0\n",
        "  while(fronts[i] != []):\n",
        "    Q = []\n",
        "    for p in fronts[i]:\n",
        "      for q in S[p]:\n",
        "        n[q] -= 1\n",
        "        if n[q] == 0:\n",
        "          if q not in Q:\n",
        "            Q.append(q)\n",
        "    i = i+1\n",
        "    fronts.append(Q)\n",
        "\n",
        "  del fronts[len(fronts)-1]  # delete one last empty level added to front levels\n",
        "  return fronts"
      ],
      "execution_count": 16,
      "outputs": []
    },
    {
      "cell_type": "markdown",
      "metadata": {
        "id": "yEpoQld9DL2-"
      },
      "source": [
        "### Crowding Distance"
      ]
    },
    {
      "cell_type": "code",
      "metadata": {
        "id": "B77yDH-dcL6W"
      },
      "source": [
        "def crowding_distance(avail_values, expert_values, collab_values, front):\n",
        "  distances = [0.0] * len(avail_values)\n",
        "\n",
        "  # crowd: [([obj_1, obj_2, ...], i_0), ([obj_1, obj_2, ...], i_1), ...]\n",
        "  crowd = [([avail_values[f], expert_values[f], collab_values[f]], f) for f in front]\n",
        "\n",
        "  for i in range(3):  # calculate for each fitness function\n",
        "    crowd.sort(key=lambda element: element[0][i])\n",
        "\n",
        "    # After sorting, boundary solutions are assigned Inf \n",
        "    distances[crowd[0][1]] = float(\"Inf\")\n",
        "    distances[crowd[-1][1]] = float(\"inf\")\n",
        "    \n",
        "    if crowd[-1][0][i] == crowd[0][0][i]:  # If objective values are same, skip this loop\n",
        "      continue\n",
        "\n",
        "    norm = float(crowd[-1][0][i] - crowd[0][0][i])   # normalization (max - min) as Denominator\n",
        "\n",
        "    # calculate each individual's Crowding Distance of i th objective\n",
        "    for prev, cur, next in zip(crowd[:-2], crowd[1:-1], crowd[2:]):\n",
        "      distances[cur[1]] += (next[0][i] - prev[0][i]) / norm  # sum up the distance of ith individual along each of the objectives\n",
        "\n",
        "\n",
        "  return [distances[i] for i in front]"
      ],
      "execution_count": 17,
      "outputs": []
    },
    {
      "cell_type": "code",
      "metadata": {
        "id": "OBWnIO2oUJmJ"
      },
      "source": [
        "# Sort given front in descending order according to crowding distance values\n",
        "def sort_front_by_dist(Availability_values, Expertise_values, Collaboration_values, front):\n",
        "  crowding_distance_values = crowding_distance(Availability_values, Expertise_values, Collaboration_values, front)\n",
        "  \n",
        "  # create a dictionary of each member of F[i] and its corresponding crowding distance\n",
        "  dic = dict(zip(front, crowding_distance_values))\n",
        "\n",
        "  # sort dictionary by values in descending order\n",
        "  sorted_dic = sorted(dic.items(), key=lambda x: x[1], reverse=True)\n",
        "\n",
        "  # keys of dictionary are the number of genes\n",
        "  front = [sorted_dic[i][0] for i in range(0, len(sorted_dic))]  # sorted front by crowding distance values\n",
        "  return front"
      ],
      "execution_count": 18,
      "outputs": []
    },
    {
      "cell_type": "markdown",
      "metadata": {
        "id": "dmtDa9wLDRd2"
      },
      "source": [
        "### Genetic core"
      ]
    },
    {
      "cell_type": "code",
      "metadata": {
        "id": "wbAXUWk4gfOO"
      },
      "source": [
        "def genetic(P, M, N, files, all_reviewers, all_devs, FR, DR, A, FD, pop_size, max_gen, cross_prob, mute_prob, gene_modif_prob):\n",
        "  # Create initial population\n",
        "  P0 = [init_gene(P, M) for i in range(0, pop_size)]\n",
        "\n",
        "  t = 0   # generation number\n",
        "\n",
        "  while t < max_gen:   # while stopping criteria not reached\n",
        "  \n",
        "    if t % 10 == 0:\n",
        "      print(\"Generation number:\", t)\n",
        "\n",
        "    # Generating offspring population\n",
        "    Q0 = create_new_pop(P0, pop_size, cross_prob, mute_prob, gene_modif_prob, P, M)\n",
        "\n",
        "    R = array(P0 + Q0)     # final population is union of parents and childs\n",
        "    total_pop = len(R)     # number of whole population contains parents and childs that is 2*pop_size (constant number to the end of algorithm)\n",
        "\n",
        "    # Calculate fitness values for all genes in population\n",
        "    Availability_values = [fit_avail(A, R[i]) for i in range(0, total_pop)]\n",
        "    Expertise_values = [fit_expert(FR, R[i]) for i in range(0, total_pop)]\n",
        "    Collaboration_values = [fit_collab(P, M, N, DR, FD, R[i]) for i in range(0, total_pop)]\n",
        "\n",
        "    # Fast non-dominated sort\n",
        "    F = fast_non_dominated_sort(Availability_values, Expertise_values, Collaboration_values)\n",
        "\n",
        "    P_new = []    # new parent population\n",
        "    i = 0\n",
        "    while len(P_new) + len(F[i]) <= pop_size:\n",
        "      if (t+1 == max_gen):  # in last generation, sort fronts by crowding distance values to get sorted final solution\n",
        "        F[i] = sort_front_by_dist(Availability_values, Expertise_values, Collaboration_values, F[i])\n",
        "      P_new.extend(F[i])   # union of new parents and current front\n",
        "      i += 1\n",
        "    \n",
        "    # Apply crowding distance on F[i] only. because this front should be splitted\n",
        "    F[i] = sort_front_by_dist(Availability_values, Expertise_values, Collaboration_values, F[i])\n",
        "\n",
        "    # The first pop_size-|P_new| elements of F_i are chosen\n",
        "    parent_indexes = P_new + F[i][0:(pop_size - len(P_new))]\n",
        "\n",
        "    # corresponding genes of gene numbers kept as parents for next generation\n",
        "    P0 = [R[idx] for idx in parent_indexes]\n",
        "    t += 1\n",
        "\n",
        "  # Return best solution\n",
        "  return P0[0]\n"
      ],
      "execution_count": 19,
      "outputs": []
    },
    {
      "cell_type": "markdown",
      "metadata": {
        "id": "nlLVMfhDzVhg"
      },
      "source": [
        "# Run"
      ]
    },
    {
      "cell_type": "markdown",
      "metadata": {
        "id": "pQ0OzQGlNNkI"
      },
      "source": [
        "### load final data"
      ]
    },
    {
      "cell_type": "code",
      "metadata": {
        "colab": {
          "base_uri": "https://localhost:8080/"
        },
        "id": "AuIchz87KTA4",
        "outputId": "56deae3f-cad8-4a5a-ab96-f27331fe4e68"
      },
      "source": [
        "# Load final data from drive\n",
        "f = open('/content/drive/MyDrive/Colab Notebooks/My Project/openstack_final.json',)\n",
        "data = json.load(f)  # returns json object as a dictionary\n",
        "for i in range(5):   # 5 first elements of the json list\n",
        "    print(data[i])\n",
        "f.close()"
      ],
      "execution_count": 20,
      "outputs": [
        {
          "output_type": "stream",
          "name": "stdout",
          "text": [
            "{'time': '2011-07-18 15:43:34', 'changeId': 'Ibb2f047c9c45d011361d253d4444b2fd1ebd3612', 'ownerId': '1', 'reviewersId': ['2'], 'filePaths': ['modules/ssh/files/sshd_config', 'manifests/server.pp', 'modules/ssh/manifests/init.pp']}\n",
            "{'time': '2011-07-18 16:56:22', 'changeId': 'Iea32ad3aedbee996db53655842061d14c9e3d876', 'ownerId': '1', 'reviewersId': ['1'], 'filePaths': ['modules/jenkins_slave/manifests/jenkinsuser.pp', 'modules/jenkins_slave/files/known_hosts']}\n",
            "{'time': '2011-07-18 17:14:05', 'changeId': 'Ib6af08a6af71a6e5853d958a12f63c381eafa039', 'ownerId': '1', 'reviewersId': ['1'], 'filePaths': ['modules/jenkins_slave/manifests/jenkinsuser.pp']}\n",
            "{'time': '2011-07-20 14:37:53', 'changeId': 'Ide7975c522b6b31a23af67b135135c07d75d9bde', 'ownerId': '2', 'reviewersId': ['1'], 'filePaths': ['modules/jenkins_slave/files/pubring.gpg', 'modules/jenkins_slave/manifests/jenkinsuser.pp']}\n",
            "{'time': '2011-07-20 15:12:47', 'changeId': 'I28119ac1735127812866a4b0519368a829e2e666', 'ownerId': '2', 'reviewersId': ['1'], 'filePaths': ['manifests/openstack_ci.pp']}\n"
          ]
        }
      ]
    },
    {
      "cell_type": "code",
      "metadata": {
        "colab": {
          "base_uri": "https://localhost:8080/"
        },
        "id": "KjDt8F7B8uGj",
        "outputId": "700df2da-c71b-4158-ea26-bb4791965703"
      },
      "source": [
        "# convert times to datetime format\n",
        "for pr in data:\n",
        "  pr['time'] = parser.parse(pr['time'])\n",
        "\n",
        "data[0]"
      ],
      "execution_count": 21,
      "outputs": [
        {
          "output_type": "execute_result",
          "data": {
            "text/plain": [
              "{'changeId': 'Ibb2f047c9c45d011361d253d4444b2fd1ebd3612',\n",
              " 'filePaths': ['modules/ssh/files/sshd_config',\n",
              "  'manifests/server.pp',\n",
              "  'modules/ssh/manifests/init.pp'],\n",
              " 'ownerId': '1',\n",
              " 'reviewersId': ['2'],\n",
              " 'time': datetime.datetime(2011, 7, 18, 15, 43, 34)}"
            ]
          },
          "metadata": {},
          "execution_count": 21
        }
      ]
    },
    {
      "cell_type": "code",
      "metadata": {
        "colab": {
          "base_uri": "https://localhost:8080/"
        },
        "id": "k_-nzsBuizst",
        "outputId": "5557fa9d-2239-4b21-8edb-e2f2a17fab35"
      },
      "source": [
        "# Number of files in whole data\n",
        "all_files = set()   # make a \"set\" of all file paths\n",
        "max_file = 0\n",
        "\n",
        "for pr in data:\n",
        "  num_file = 0\n",
        "  for f in pr['filePaths']:\n",
        "    all_files.add(f)\n",
        "    num_file += 1\n",
        "  if num_file > max_file:\n",
        "    max_file = num_file\n",
        "\n",
        "print(\"Total number of files in dataset:\", len(all_files))\n",
        "print(\"Maximum number of files in a PR:\", max_file)"
      ],
      "execution_count": 22,
      "outputs": [
        {
          "output_type": "stream",
          "name": "stdout",
          "text": [
            "Total number of files in dataset: 11421\n",
            "Maximum number of files in a PR: 1757\n"
          ]
        }
      ]
    },
    {
      "cell_type": "code",
      "metadata": {
        "colab": {
          "base_uri": "https://localhost:8080/"
        },
        "id": "c1wigISqjI1u",
        "outputId": "b98770ab-8258-4697-d320-31840a0c87cd"
      },
      "source": [
        "# Number of reviewers in whole data\n",
        "all_reviewers = set()   # make a set of all reviewers\n",
        "for pr in data:\n",
        "  for r in pr['reviewersId']:\n",
        "    all_reviewers.add(r)\n",
        "\n",
        "print(\"Total number of reviewers in dataset:\", len(all_reviewers))"
      ],
      "execution_count": 23,
      "outputs": [
        {
          "output_type": "stream",
          "name": "stdout",
          "text": [
            "Total number of reviewers in dataset: 82\n"
          ]
        }
      ]
    },
    {
      "cell_type": "code",
      "metadata": {
        "colab": {
          "base_uri": "https://localhost:8080/"
        },
        "id": "O--ZnJJr26mB",
        "outputId": "a28d0922-3875-4f4d-a093-3ed025b98872"
      },
      "source": [
        "# Number of developers in whole data\n",
        "all_devs = set()   # make a \"set\" of all developers\n",
        "for pr in data:\n",
        "  all_devs.add(pr['ownerId'])\n",
        "\n",
        "print(\"Total number of developers in dataset:\", len(all_devs))"
      ],
      "execution_count": 24,
      "outputs": [
        {
          "output_type": "stream",
          "name": "stdout",
          "text": [
            "Total number of developers in dataset: 324\n"
          ]
        }
      ]
    },
    {
      "cell_type": "markdown",
      "metadata": {
        "id": "HTzNT27Dwsgt"
      },
      "source": [
        "### split train/test sets"
      ]
    },
    {
      "cell_type": "code",
      "metadata": {
        "id": "ZUlPf94X0AxZ"
      },
      "source": [
        "# Split data for train/test sets\n",
        "init_train = data[0:5900]     # 90% of data is for initial train set (5900 PR)\n",
        "total_test = data[5900:6545]  # 10% of data will be tested in the whole examination (645 PR)"
      ],
      "execution_count": 25,
      "outputs": []
    },
    {
      "cell_type": "markdown",
      "metadata": {
        "id": "WSVDjK4ow2Gk"
      },
      "source": [
        "### functions"
      ]
    },
    {
      "cell_type": "code",
      "metadata": {
        "id": "rYXoLDsGtEdr"
      },
      "source": [
        "def get_files(pr):\n",
        "  # create a \"set\" of file paths in PR. we selected set to ensure not collecting repeated files \n",
        "  return {f for f in pr['filePaths']}"
      ],
      "execution_count": 26,
      "outputs": []
    },
    {
      "cell_type": "code",
      "metadata": {
        "id": "us1k9gs4tYBy"
      },
      "source": [
        "def get_all_reviewers(train):\n",
        "  # create a set of all reviewers\n",
        "  all_reviewers = set()   \n",
        "  for pr in train:\n",
        "    for r in pr['reviewersId']:\n",
        "      all_reviewers.add(r)\n",
        "  return all_reviewers"
      ],
      "execution_count": 27,
      "outputs": []
    },
    {
      "cell_type": "code",
      "metadata": {
        "id": "zqN9PxUDtlsi"
      },
      "source": [
        "def get_all_devs(train):\n",
        "  # create a \"set\" of all developers \n",
        "  return {pr['ownerId'] for pr in train}"
      ],
      "execution_count": 28,
      "outputs": []
    },
    {
      "cell_type": "markdown",
      "metadata": {
        "id": "vi_k1x69BZH3"
      },
      "source": [
        "### Experiment & Result"
      ]
    },
    {
      "cell_type": "code",
      "metadata": {
        "id": "tm6gHXY1qHqu"
      },
      "source": [
        "# Function to sort the predicted reviewers from the best to the worst\n",
        "def sort_revs(solution, total_top_k):\n",
        "\n",
        "  # sort reviewers by their number of non-zero ranks in PR in descending order\n",
        "  revs_tuple = [(r, sum(solution[:, r]!=0)) for r in total_top_k]  # each reviewer and number of its non-zero ranks\n",
        "  revs_tuple.sort(key=lambda element: element[1], reverse=True)    # better reviewer has more non-zero ranks (descending order)\n",
        "\n",
        "  # find reviewers with the same number of non-zero ranks\n",
        "  result = defaultdict(list)\n",
        "  for tup in revs_tuple:\n",
        "    result[tup[1]].append(tup)\n",
        "\n",
        "  # sort reviewers with the same number of non-zero ranks by their sum of ranks\n",
        "  sorted_revs = []\n",
        "\n",
        "  for val in result:\n",
        "    if len(result[val]) > 1:\n",
        "      temp_tuple = [(tup[0], sum(solution[:, tup[0]])) for tup in result[val]]\n",
        "      temp_tuple.sort(key=lambda element: element[1])   # sort in ascending order (reviewer with less sum of ranks is better)\n",
        "      sorted_revs.extend([tup[0] for tup in temp_tuple])\n",
        "    else:\n",
        "      sorted_revs.append(result[val][0][0])\n",
        "\n",
        "  return sorted_revs"
      ],
      "execution_count": 29,
      "outputs": []
    },
    {
      "cell_type": "code",
      "metadata": {
        "id": "wyDAH9ZNB-mG"
      },
      "source": [
        "# Function to extract a unique top-k reviewers for a test PR from the PR's file ranks\n",
        "def top_k_answers(solution):\n",
        "  max_k = 10\n",
        "\n",
        "  # total_top_k is a set of union of top-k reviewers for all files in PR\n",
        "  total_top_k = {r for f in range(P) for r in range(M) if 1 <= solution[f][r] <= max_k}  \n",
        "\n",
        "  # select atmost 10 reveiwers and sort them from the most proper one to the least proper\n",
        "  sorted_revs = sort_revs(solution, total_top_k)\n",
        "\n",
        "  # select k first elements of final ordered reviewers\n",
        "  if len(sorted_revs) <= max_k:\n",
        "    return [all_reviewers[r] for r in sorted_revs]\n",
        "  else:\n",
        "    return [all_reviewers[r] for r in sorted_revs[0:max_k]]\n"
      ],
      "execution_count": 30,
      "outputs": []
    },
    {
      "cell_type": "code",
      "metadata": {
        "id": "KoYsDcINBq_2"
      },
      "source": [
        "# Function to write predicted top-k reviewers for each test into a JSON file\n",
        "def save_predictions(pred_list, start_test_num, last_test_num):\n",
        "  # with open('output'+str(start_test_num)+'_'+str(last_test_num)+'.json', 'a') as outfile:\n",
        "  with open('output.json', 'a') as outfile:\n",
        "    json.dump(pred_list, outfile, indent=4)"
      ],
      "execution_count": 31,
      "outputs": []
    },
    {
      "cell_type": "code",
      "metadata": {
        "id": "FAc506brZgqd"
      },
      "source": [
        "def create_pred_obj(pred_revs, test):\n",
        "  pred_obj = {}\n",
        "  pred_obj['changeId'] = test['changeId']\n",
        "  pred_obj['actual'] = test['reviewersId']\n",
        "  pred_obj['recommended'] = pred_revs\n",
        "  return pred_obj"
      ],
      "execution_count": 32,
      "outputs": []
    },
    {
      "cell_type": "markdown",
      "metadata": {
        "id": "udQDcGXPw6Tr"
      },
      "source": [
        "### main"
      ]
    },
    {
      "cell_type": "code",
      "metadata": {
        "colab": {
          "base_uri": "https://localhost:8080/"
        },
        "id": "yUaGN-pf_fDR",
        "outputId": "9df29162-c7a5-48b4-8966-f4d1988c5c94"
      },
      "source": [
        "predictions_list = []\n",
        "\n",
        "start_test_num = 0\n",
        "end_test_num = 644\n",
        "\n",
        "for test_num in range(start_test_num, end_test_num):  # number of examination can be 0 to 644\n",
        "\n",
        "  # creating test set\n",
        "  test = total_test[test_num]   # one PR is test in each examination\n",
        "  # creating train set\n",
        "  if test_num == start_test_num: \n",
        "    train = init_train\n",
        "    train.extend(total_test[0:test_num])\n",
        "  else:\n",
        "    train.append(total_test[test_num-1])\n",
        "\n",
        "  files = list(get_files(test))\n",
        "  P = len(files)\n",
        "\n",
        "  all_reviewers = list(get_all_reviewers(train))\n",
        "  M = len(all_reviewers)\n",
        "\n",
        "  all_devs = list(get_all_devs(train))\n",
        "  N = len(all_devs)\n",
        "\n",
        "  # Extract 3 metrices just one time\n",
        "  FR = cal_expertise(files, all_reviewers, train)          # File-Reviewer matrix\n",
        "  DR = cal_collaboration(all_devs, all_reviewers, train)   # Developer-Reviwer matrix\n",
        "  A = cal_availability(all_reviewers, train, test['time']) # Availability vector\n",
        "  FD = cal_fileDev(all_devs, files, train)                 # File-Developer matrix\n",
        "\n",
        "  print(\"************ Test\", test_num, \"************\")\n",
        "\n",
        "  # Run Genetic on test PR\n",
        "  # pop_size: test for 10, 20, 30, 40, 50\n",
        "  # max_gen : stopping criterion = 100,000 fitness evaluations\n",
        "  # cross_prob: crossover probability\n",
        "  # mute_prob : mutation probabillity\n",
        "  # gene_modif_prob: probability of gene modification\n",
        "  solution = genetic(P, M, N, files, all_reviewers, all_devs, FR, DR, A, FD, pop_size=30, max_gen=100, cross_prob=0.5, mute_prob=0.4, gene_modif_prob=0.2)\n",
        "  print(\"Final solution:\", solution)     # the best solution for the problem\n",
        "\n",
        "  print(\"************ Results ************\")\n",
        "  pred_revs = top_k_answers(solution)  # predicted reviewer's IDs (sorted). It can contain 0 to 10 predicted reviewers\n",
        "  print(\"Actual reviwers for test\", test_num, \"are:\", test['reviewersId'])\n",
        "  print(\"Predicted reviwers for test\", test_num, \"are:\", pred_revs)\n",
        "\n",
        "  predictions_list.append(create_pred_obj(pred_revs, test))    # write best predicted reviwers into file\n",
        "\n",
        "save_predictions(predictions_list, start_test_num, test_num)"
      ],
      "execution_count": 34,
      "outputs": [
        {
          "output_type": "stream",
          "name": "stdout",
          "text": [
            "************ Test 0 ************\n",
            "Generation number: 0\n",
            "Generation number: 10\n",
            "Generation number: 20\n",
            "Generation number: 30\n",
            "Generation number: 40\n",
            "Generation number: 50\n",
            "Generation number: 60\n",
            "Generation number: 70\n",
            "Generation number: 80\n",
            "Generation number: 90\n",
            "Final solution: [[0 0 0 0 0 0 0 0 0 0 0 0 0 0 0 0 0 0 0 0 0 0 0 2 0 0 0 0 0 0 0 0 0 0 0 0\n",
            "  0 0 0 0 0 0 0 0 0 0 0 0 0 0 0 0 0 0 0 0 0 0 0 0 0 0 0 0 0 0 1 0 0 0 0 0\n",
            "  0 0 0 0 0 0]]\n",
            "************ Results ************\n",
            "Actual reviwers for test 0 are: ['616', '100']\n",
            "Predicted reviwers for test 0 are: ['1228', '8']\n"
          ]
        }
      ]
    }
  ]
}