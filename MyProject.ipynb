{
  "nbformat": 4,
  "nbformat_minor": 0,
  "metadata": {
    "colab": {
      "name": "MyProject.ipynb",
      "provenance": [],
      "collapsed_sections": [
        "8J1aB34OT2vv",
        "bgCIXkyJXg43",
        "iJv6aqisdePZ",
        "VnDL2S8t4q2V",
        "Slk7yWpWfrdw",
        "YWNl1pAuwtMn",
        "x4BWT4AUw06Q",
        "5wMzpA-P0dPI",
        "pMh5l15fOKM8",
        "FzF936na3fny",
        "fV8wDsPh9jDu",
        "olYfiHt16dI4",
        "0qPAL7kA60jN",
        "_e3L3NdgBciU",
        "ER-OFM84BxeM",
        "F8WFK4WOB32c",
        "UaZ0rQH7rXw4",
        "pQ0OzQGlNNkI",
        "HTzNT27Dwsgt",
        "WSVDjK4ow2Gk"
      ]
    },
    "kernelspec": {
      "name": "python3",
      "display_name": "Python 3"
    },
    "language_info": {
      "name": "python"
    }
  },
  "cells": [
    {
      "cell_type": "code",
      "metadata": {
        "id": "8DMH1PQiSrhi"
      },
      "source": [
        "import os\n",
        "import numpy as np\n",
        "import json\n",
        "import pandas as pd\n",
        "import datetime as DT\n",
        "import random"
      ],
      "execution_count": 1,
      "outputs": []
    },
    {
      "cell_type": "code",
      "metadata": {
        "colab": {
          "base_uri": "https://localhost:8080/"
        },
        "id": "M0sbZPFbSs_6",
        "outputId": "c36c82ac-bf3e-4383-beb6-efcdbb56d52f"
      },
      "source": [
        "from google.colab import drive\n",
        "drive.mount('/content/drive')"
      ],
      "execution_count": 2,
      "outputs": [
        {
          "output_type": "stream",
          "name": "stdout",
          "text": [
            "Mounted at /content/drive\n"
          ]
        }
      ]
    },
    {
      "cell_type": "markdown",
      "metadata": {
        "id": "8J1aB34OT2vv"
      },
      "source": [
        "# Get required data\n",
        "From the github repository"
      ]
    },
    {
      "cell_type": "code",
      "metadata": {
        "colab": {
          "base_uri": "https://localhost:8080/"
        },
        "id": "YncyX3P4Suzu",
        "outputId": "069bd7d6-b3bb-4034-d563-00f0520087d1"
      },
      "source": [
        "# Clone the entire repo.\n",
        "!git clone -l -s https://github.com/XLipcak/rev-rec.git cloned-repo"
      ],
      "execution_count": null,
      "outputs": [
        {
          "output_type": "stream",
          "name": "stdout",
          "text": [
            "Cloning into 'cloned-repo'...\n",
            "warning: --local is ignored\n",
            "remote: Enumerating objects: 1170, done.\u001b[K\n",
            "remote: Total 1170 (delta 0), reused 0 (delta 0), pack-reused 1170\u001b[K\n",
            "Receiving objects: 100% (1170/1170), 45.11 MiB | 14.96 MiB/s, done.\n",
            "Resolving deltas: 100% (503/503), done.\n",
            "Checking out files: 100% (88/88), done.\n"
          ]
        }
      ]
    },
    {
      "cell_type": "code",
      "metadata": {
        "colab": {
          "base_uri": "https://localhost:8080/"
        },
        "id": "NUO0DfuaS8_2",
        "outputId": "4ea632d0-b18d-4b7a-8d2e-7a0ef2527889"
      },
      "source": [
        "%ls"
      ],
      "execution_count": null,
      "outputs": [
        {
          "output_type": "stream",
          "name": "stdout",
          "text": [
            "\u001b[0m\u001b[01;34mcloned-repo\u001b[0m/  \u001b[01;34mdrive\u001b[0m/  \u001b[01;34msample_data\u001b[0m/\n"
          ]
        }
      ]
    },
    {
      "cell_type": "code",
      "metadata": {
        "colab": {
          "base_uri": "https://localhost:8080/"
        },
        "id": "ovkSscBBS75P",
        "outputId": "96896c2f-6bd4-48e7-b491-6afbdb18df23"
      },
      "source": [
        "# Save OpenStack dataset\n",
        "import shutil\n",
        "src = \"/content/cloned-repo/rev-rec-data/openstack.json\"\n",
        "dst = \"/content/drive/MyDrive/Colab Notebooks/My Project/openstack.json\"\n",
        "shutil.move(src, dst)"
      ],
      "execution_count": null,
      "outputs": [
        {
          "output_type": "execute_result",
          "data": {
            "application/vnd.google.colaboratory.intrinsic+json": {
              "type": "string"
            },
            "text/plain": [
              "'/content/drive/MyDrive/Colab Notebooks/My Project/openstack.json'"
            ]
          },
          "metadata": {},
          "execution_count": 5
        }
      ]
    },
    {
      "cell_type": "markdown",
      "metadata": {
        "id": "bgCIXkyJXg43"
      },
      "source": [
        "# Process raw data \n",
        "a JSON file"
      ]
    },
    {
      "cell_type": "code",
      "metadata": {
        "colab": {
          "base_uri": "https://localhost:8080/"
        },
        "id": "HYaj-H2BTHN2",
        "outputId": "7e2ad2b9-bc41-4186-9334-f6d75157109b"
      },
      "source": [
        "f = open('/content/drive/MyDrive/Colab Notebooks/My Project/openstack.json',)\n",
        "data = json.load(f)  # returns json object as a dictionary\n",
        "for i in range(5):   # 5 first elements of the json list\n",
        "    print(data[i])\n",
        "f.close()"
      ],
      "execution_count": null,
      "outputs": [
        {
          "output_type": "stream",
          "name": "stdout",
          "text": [
            "{'subProject': 'openstack/tempest', 'changeId': 'I9e7b9a2491d6a3f01d71551e4cadcccf154d992d', 'changeNumber': 6139, 'timestamp': 1333428006000, 'reviewers': [{'accountId': '97', 'email': 'daryl.walleck@rackspace.com', 'name': 'Daryl Walleck', 'avatar': None}, {'accountId': '7', 'email': 'jaypipes@gmail.com', 'name': 'Jay Pipes', 'avatar': None}], 'owner': {'accountId': '2238', 'email': 'rajalakshmi.girish@hpe.com', 'name': 'rajalakshmi-ganesan', 'avatar': None}, 'filePaths': [{'location': 'tempest/tests/test_volumes_get.py'}]}\n",
            "{'subProject': 'openstack/tempest', 'changeId': 'I10e7116570f922ec87e23b1f880cd4b1c08c3088', 'changeNumber': 7438, 'timestamp': 1337072165000, 'reviewers': [{'accountId': '97', 'email': 'daryl.walleck@rackspace.com', 'name': 'Daryl Walleck', 'avatar': None}, {'accountId': '7', 'email': 'jaypipes@gmail.com', 'name': 'Jay Pipes', 'avatar': None}], 'owner': {'accountId': '4120', 'email': 'rohit.karajgi@ril.com', 'name': 'Rohit Karajgi', 'avatar': None}, 'filePaths': [{'location': 'tempest/tests/identity/test_roles.py'}, {'location': 'tempest/services/identity/json/admin_client.py'}, {'location': 'tempest/tests/identity/base_admin_test.py'}]}\n",
            "{'subProject': 'openstack/nova', 'changeId': 'I1d0c395cf679e07e304dd878d97734307b685f4c', 'changeNumber': 7951, 'timestamp': 1338410316000, 'reviewers': [{'accountId': '679', 'email': 'klmitch@mit.edu', 'name': 'Kevin L. Mitchell', 'avatar': None}, {'accountId': '1561', 'email': 'rbryant@redhat.com', 'name': 'Russell Bryant', 'avatar': None}], 'owner': {'accountId': '1849', 'email': 'joe.gordon0@gmail.com', 'name': 'Joe Gordon', 'avatar': None}, 'filePaths': [{'location': '.gitignore'}]}\n",
            "{'subProject': 'openstack/nova', 'changeId': 'Ia151f265bf62e6704de6cc2f2c01963be9e2dd69', 'changeNumber': 7765, 'timestamp': 1337879042000, 'reviewers': [{'accountId': '1561', 'email': 'rbryant@redhat.com', 'name': 'Russell Bryant', 'avatar': None}, {'accountId': '357', 'email': 'devin@openstack.org', 'name': 'Devin Carlen', 'avatar': None}], 'owner': {'accountId': '1849', 'email': 'joe.gordon0@gmail.com', 'name': 'Joe Gordon', 'avatar': None}, 'filePaths': [{'location': 'tools/hacking.py'}]}\n",
            "{'subProject': 'openstack/nova', 'changeId': 'Ie4cfec6f89d6b37554b5345cde92f982397915e2', 'changeNumber': 7807, 'timestamp': 1337967413000, 'reviewers': [{'accountId': '1561', 'email': 'rbryant@redhat.com', 'name': 'Russell Bryant', 'avatar': None}, {'accountId': '357', 'email': 'devin@openstack.org', 'name': 'Devin Carlen', 'avatar': None}], 'owner': {'accountId': '2', 'email': 'mordred@inaugust.com', 'name': 'Monty Taylor', 'avatar': None}, 'filePaths': [{'location': 'tox.ini'}]}\n"
          ]
        }
      ]
    },
    {
      "cell_type": "markdown",
      "metadata": {
        "id": "iJv6aqisdePZ"
      },
      "source": [
        "## Hands on with given data"
      ]
    },
    {
      "cell_type": "code",
      "metadata": {
        "id": "m7AGHyP4ZAZH",
        "colab": {
          "base_uri": "https://localhost:8080/"
        },
        "outputId": "0a1adf00-ca55-4a16-b5d5-1dbddee7df05"
      },
      "source": [
        "type(data)"
      ],
      "execution_count": null,
      "outputs": [
        {
          "output_type": "execute_result",
          "data": {
            "text/plain": [
              "list"
            ]
          },
          "metadata": {},
          "execution_count": 7
        }
      ]
    },
    {
      "cell_type": "code",
      "metadata": {
        "colab": {
          "base_uri": "https://localhost:8080/"
        },
        "id": "rT6NArSMZ2hB",
        "outputId": "0c5d5078-13fb-4beb-973b-2512182447d3"
      },
      "source": [
        "len(data)"
      ],
      "execution_count": null,
      "outputs": [
        {
          "output_type": "execute_result",
          "data": {
            "text/plain": [
              "6545"
            ]
          },
          "metadata": {},
          "execution_count": 8
        }
      ]
    },
    {
      "cell_type": "code",
      "metadata": {
        "colab": {
          "base_uri": "https://localhost:8080/"
        },
        "id": "6zyDNbX2Z9k_",
        "outputId": "0a734b45-29fd-44ed-a3e1-cebdbab29132"
      },
      "source": [
        "# get an element of the list of data\n",
        "data[0]"
      ],
      "execution_count": null,
      "outputs": [
        {
          "output_type": "execute_result",
          "data": {
            "text/plain": [
              "{'changeId': 'I9e7b9a2491d6a3f01d71551e4cadcccf154d992d',\n",
              " 'changeNumber': 6139,\n",
              " 'filePaths': [{'location': 'tempest/tests/test_volumes_get.py'}],\n",
              " 'owner': {'accountId': '2238',\n",
              "  'avatar': None,\n",
              "  'email': 'rajalakshmi.girish@hpe.com',\n",
              "  'name': 'rajalakshmi-ganesan'},\n",
              " 'reviewers': [{'accountId': '97',\n",
              "   'avatar': None,\n",
              "   'email': 'daryl.walleck@rackspace.com',\n",
              "   'name': 'Daryl Walleck'},\n",
              "  {'accountId': '7',\n",
              "   'avatar': None,\n",
              "   'email': 'jaypipes@gmail.com',\n",
              "   'name': 'Jay Pipes'}],\n",
              " 'subProject': 'openstack/tempest',\n",
              " 'timestamp': 1333428006000}"
            ]
          },
          "metadata": {},
          "execution_count": 9
        }
      ]
    },
    {
      "cell_type": "code",
      "metadata": {
        "colab": {
          "base_uri": "https://localhost:8080/"
        },
        "id": "FwVmnNz6aQQY",
        "outputId": "98139690-c1ef-4404-aee1-1517ca900e87"
      },
      "source": [
        "# read a single feature of an element\n",
        "data[0]['reviewers']"
      ],
      "execution_count": null,
      "outputs": [
        {
          "output_type": "execute_result",
          "data": {
            "text/plain": [
              "[{'accountId': '97',\n",
              "  'avatar': None,\n",
              "  'email': 'daryl.walleck@rackspace.com',\n",
              "  'name': 'Daryl Walleck'},\n",
              " {'accountId': '7',\n",
              "  'avatar': None,\n",
              "  'email': 'jaypipes@gmail.com',\n",
              "  'name': 'Jay Pipes'}]"
            ]
          },
          "metadata": {},
          "execution_count": 10
        }
      ]
    },
    {
      "cell_type": "markdown",
      "metadata": {
        "id": "VnDL2S8t4q2V"
      },
      "source": [
        "## Cleaning data"
      ]
    },
    {
      "cell_type": "code",
      "metadata": {
        "colab": {
          "base_uri": "https://localhost:8080/"
        },
        "id": "mcqqHao6eqFR",
        "outputId": "12e49b55-93b8-4ffa-f362-c575325a42d8"
      },
      "source": [
        "# Extract and save desired features from each pull request. The new desired data is new_data\n",
        "new_data = []\n",
        "\n",
        "for i in range(0, len(data)):\n",
        "  elem_dict = {\"changeId\":data[i]['changeId'], \"reviewers\":data[i]['reviewers'], \"owner\":data[i]['owner'], \"filePaths\":data[i]['filePaths'], \"time\":data[i]['timestamp']}\n",
        "  new_data.append(elem_dict)\n",
        "  # print(new_data[i])\n",
        "\n",
        "print(len(new_data))"
      ],
      "execution_count": null,
      "outputs": [
        {
          "output_type": "stream",
          "name": "stdout",
          "text": [
            "6545\n"
          ]
        }
      ]
    },
    {
      "cell_type": "code",
      "metadata": {
        "colab": {
          "base_uri": "https://localhost:8080/"
        },
        "id": "YVBJ2Q1n62P2",
        "outputId": "6039f23e-5768-4645-d88b-b311190c9803"
      },
      "source": [
        "new_data[0]"
      ],
      "execution_count": null,
      "outputs": [
        {
          "output_type": "execute_result",
          "data": {
            "text/plain": [
              "{'changeId': 'I9e7b9a2491d6a3f01d71551e4cadcccf154d992d',\n",
              " 'filePaths': [{'location': 'tempest/tests/test_volumes_get.py'}],\n",
              " 'owner': {'accountId': '2238',\n",
              "  'avatar': None,\n",
              "  'email': 'rajalakshmi.girish@hpe.com',\n",
              "  'name': 'rajalakshmi-ganesan'},\n",
              " 'reviewers': [{'accountId': '97',\n",
              "   'avatar': None,\n",
              "   'email': 'daryl.walleck@rackspace.com',\n",
              "   'name': 'Daryl Walleck'},\n",
              "  {'accountId': '7',\n",
              "   'avatar': None,\n",
              "   'email': 'jaypipes@gmail.com',\n",
              "   'name': 'Jay Pipes'}],\n",
              " 'time': 1333428006000}"
            ]
          },
          "metadata": {},
          "execution_count": 12
        }
      ]
    },
    {
      "cell_type": "code",
      "metadata": {
        "colab": {
          "base_uri": "https://localhost:8080/"
        },
        "id": "g1jslJtq759N",
        "outputId": "a1bd989e-606b-4f37-8642-799ace58f076"
      },
      "source": [
        "# Remove remaining undesired features. The final desired information is saved in final_data\n",
        "final_data = []\n",
        "\n",
        "for i in range(0, len(new_data)):\n",
        "  elem_dict = {\"time\":new_data[i]['time'], \"changeId\":new_data[i]['changeId'], \"ownerId\": new_data[i]['owner']['accountId'], \"reviewersId\":[], \"filePaths\":[]}\n",
        "\n",
        "  for j in range(0, len(new_data[i]['reviewers'])):\n",
        "    elem_dict[\"reviewersId\"].append(new_data[i]['reviewers'][j]['accountId'])\n",
        "\n",
        "  for j in range(0, len(new_data[i]['filePaths'])):\n",
        "    elem_dict[\"filePaths\"].append(new_data[i]['filePaths'][j]['location'])\n",
        "  \n",
        "  final_data.append(elem_dict)\n",
        "  # print(final_data[i])\n",
        "\n",
        "print(len(final_data))"
      ],
      "execution_count": null,
      "outputs": [
        {
          "output_type": "stream",
          "name": "stdout",
          "text": [
            "6545\n"
          ]
        }
      ]
    },
    {
      "cell_type": "code",
      "metadata": {
        "colab": {
          "base_uri": "https://localhost:8080/"
        },
        "id": "RVK0wQRC_mMI",
        "outputId": "c21735cf-9a36-4c8a-e98f-9bdc2de98ddd"
      },
      "source": [
        "final_data[0]"
      ],
      "execution_count": null,
      "outputs": [
        {
          "output_type": "execute_result",
          "data": {
            "text/plain": [
              "{'changeId': 'I9e7b9a2491d6a3f01d71551e4cadcccf154d992d',\n",
              " 'filePaths': ['tempest/tests/test_volumes_get.py'],\n",
              " 'ownerId': '2238',\n",
              " 'reviewersId': ['97', '7'],\n",
              " 'time': 1333428006000}"
            ]
          },
          "metadata": {},
          "execution_count": 14
        }
      ]
    },
    {
      "cell_type": "code",
      "metadata": {
        "id": "Ebjq1N8RJ_YR"
      },
      "source": [
        "# change timestamp value from int to date format\n",
        "from datetime import datetime\n",
        "\n",
        "for pr in final_data:\n",
        "  timestamp = int(pr['time']/1000)  # removing the 3 last zero digits \n",
        "  dt_obj = datetime.fromtimestamp(timestamp) \n",
        "  pr['time'] = dt_obj"
      ],
      "execution_count": null,
      "outputs": []
    },
    {
      "cell_type": "code",
      "metadata": {
        "colab": {
          "base_uri": "https://localhost:8080/"
        },
        "id": "ofFuDQxFK6sy",
        "outputId": "d022a5bf-1548-4bba-92b8-0d7010b21a4c"
      },
      "source": [
        "final_data[0]"
      ],
      "execution_count": null,
      "outputs": [
        {
          "output_type": "execute_result",
          "data": {
            "text/plain": [
              "{'changeId': 'I9e7b9a2491d6a3f01d71551e4cadcccf154d992d',\n",
              " 'filePaths': ['tempest/tests/test_volumes_get.py'],\n",
              " 'ownerId': '2238',\n",
              " 'reviewersId': ['97', '7'],\n",
              " 'time': datetime.datetime(2012, 4, 3, 4, 40, 6)}"
            ]
          },
          "metadata": {},
          "execution_count": 16
        }
      ]
    },
    {
      "cell_type": "code",
      "metadata": {
        "colab": {
          "base_uri": "https://localhost:8080/"
        },
        "id": "enh50GDlvdg4",
        "outputId": "d46ab809-9974-4051-81de-a2dd699145d4"
      },
      "source": [
        "# sort data by time\n",
        "sorted_data = sorted(final_data, key=lambda d: d['time'])\n",
        "\n",
        "# Get the Time of available data from selected project\n",
        "print(\"Start date:\", sorted_data[0]['time'])\n",
        "print(\"End date:\", sorted_data[-1]['time'])"
      ],
      "execution_count": null,
      "outputs": [
        {
          "output_type": "stream",
          "name": "stdout",
          "text": [
            "Start date: 2011-07-18 15:43:34\n",
            "End date: 2012-05-30 21:39:57\n"
          ]
        }
      ]
    },
    {
      "cell_type": "markdown",
      "metadata": {
        "id": "2BqZjVtrwpj9"
      },
      "source": [
        "The openstack data that we use in here, containes about 10 months information of openstack project (2011-2012)"
      ]
    },
    {
      "cell_type": "code",
      "metadata": {
        "colab": {
          "base_uri": "https://localhost:8080/"
        },
        "id": "eFmjc100GumD",
        "outputId": "f19e9183-9284-4ec4-903f-e1bd6b2d6e22"
      },
      "source": [
        "type(sorted_data)"
      ],
      "execution_count": null,
      "outputs": [
        {
          "output_type": "execute_result",
          "data": {
            "text/plain": [
              "list"
            ]
          },
          "metadata": {},
          "execution_count": 18
        }
      ]
    },
    {
      "cell_type": "code",
      "metadata": {
        "id": "BNTdHBiGI3EP"
      },
      "source": [
        "# Convert list to json\n",
        "# It should be a string before write it to file\n",
        "# \"default\" is added to dumps to make anything not serializable for JSON to string format (like datatime) \n",
        "json_string = json.dumps(sorted_data, default=str) \n",
        "\n",
        "# Save OpenStack new dataset\n",
        "file = open('openstack_final.json', 'w')\n",
        "file.write(json_string)\n",
        "file.close()"
      ],
      "execution_count": null,
      "outputs": []
    },
    {
      "cell_type": "code",
      "metadata": {
        "colab": {
          "base_uri": "https://localhost:8080/"
        },
        "id": "BGjuswdSJKrP",
        "outputId": "59e91c4d-7aed-4176-dafc-ea0934e10764"
      },
      "source": [
        "# Move OpenStack dataset to proper location\n",
        "import shutil\n",
        "\n",
        "src = \"./openstack_final.json\"\n",
        "dst = \"/content/drive/MyDrive/Colab Notebooks/My Project/openstack_final.json\"\n",
        "shutil.move(src, dst)"
      ],
      "execution_count": null,
      "outputs": [
        {
          "output_type": "execute_result",
          "data": {
            "application/vnd.google.colaboratory.intrinsic+json": {
              "type": "string"
            },
            "text/plain": [
              "'/content/drive/MyDrive/Colab Notebooks/My Project/openstack_final.json'"
            ]
          },
          "metadata": {},
          "execution_count": 20
        }
      ]
    },
    {
      "cell_type": "markdown",
      "metadata": {
        "id": "OrepSN13fjWp"
      },
      "source": [
        "# Approach\n",
        "\n",
        "Should run the code each time from this part"
      ]
    },
    {
      "cell_type": "markdown",
      "metadata": {
        "id": "Slk7yWpWfrdw"
      },
      "source": [
        "## Main components of the approach\n",
        "Extract 3 interaction metrices"
      ]
    },
    {
      "cell_type": "markdown",
      "metadata": {
        "id": "scd43oQFNoYC"
      },
      "source": [
        "### Reviewer's **expertise** model\n",
        "FR matrix"
      ]
    },
    {
      "cell_type": "markdown",
      "metadata": {
        "id": "YWNl1pAuwtMn"
      },
      "source": [
        "#### step by step"
      ]
    },
    {
      "cell_type": "code",
      "metadata": {
        "colab": {
          "base_uri": "https://localhost:8080/"
        },
        "id": "d962H1N7bAJb",
        "outputId": "4fe32fcb-8cb9-444a-f798-56885002aa98"
      },
      "source": [
        "files = set()   # make a \"set\" of file paths. we selected set to ensure not collecting repeated files\n",
        "\n",
        "for f in test['filePaths']:\n",
        "  files.add(f)\n",
        "\n",
        "len(files)"
      ],
      "execution_count": null,
      "outputs": [
        {
          "output_type": "error",
          "ename": "NameError",
          "evalue": "ignored",
          "traceback": [
            "\u001b[0;31m---------------------------------------------------------------------------\u001b[0m",
            "\u001b[0;31mNameError\u001b[0m                                 Traceback (most recent call last)",
            "\u001b[0;32m<ipython-input-21-207a35847cea>\u001b[0m in \u001b[0;36m<module>\u001b[0;34m()\u001b[0m\n\u001b[1;32m      1\u001b[0m \u001b[0mfiles\u001b[0m \u001b[0;34m=\u001b[0m \u001b[0mset\u001b[0m\u001b[0;34m(\u001b[0m\u001b[0;34m)\u001b[0m   \u001b[0;31m# make a \"set\" of file paths. we selected set to ensure not collecting repeated files\u001b[0m\u001b[0;34m\u001b[0m\u001b[0;34m\u001b[0m\u001b[0m\n\u001b[1;32m      2\u001b[0m \u001b[0;34m\u001b[0m\u001b[0m\n\u001b[0;32m----> 3\u001b[0;31m \u001b[0;32mfor\u001b[0m \u001b[0mf\u001b[0m \u001b[0;32min\u001b[0m \u001b[0mtest\u001b[0m\u001b[0;34m[\u001b[0m\u001b[0;34m'filePaths'\u001b[0m\u001b[0;34m]\u001b[0m\u001b[0;34m:\u001b[0m\u001b[0;34m\u001b[0m\u001b[0;34m\u001b[0m\u001b[0m\n\u001b[0m\u001b[1;32m      4\u001b[0m   \u001b[0mfiles\u001b[0m\u001b[0;34m.\u001b[0m\u001b[0madd\u001b[0m\u001b[0;34m(\u001b[0m\u001b[0mf\u001b[0m\u001b[0;34m)\u001b[0m\u001b[0;34m\u001b[0m\u001b[0;34m\u001b[0m\u001b[0m\n\u001b[1;32m      5\u001b[0m \u001b[0;34m\u001b[0m\u001b[0m\n",
            "\u001b[0;31mNameError\u001b[0m: name 'test' is not defined"
          ]
        }
      ]
    },
    {
      "cell_type": "code",
      "metadata": {
        "id": "RVJH5Ihyelos"
      },
      "source": [
        "all_reviewers = set()   # make a set of all reviewers\n",
        "for pr in train:\n",
        "  for r in pr['reviewersId']:\n",
        "    all_reviewers.add(r)\n",
        "\n",
        "len(all_reviewers)"
      ],
      "execution_count": null,
      "outputs": []
    },
    {
      "cell_type": "code",
      "metadata": {
        "id": "wDyhyvjAfKr8"
      },
      "source": [
        "# create a dataframe that its first column is all existing files\n",
        "df = pd.DataFrame(files)\n",
        "df.head()"
      ],
      "execution_count": null,
      "outputs": []
    },
    {
      "cell_type": "code",
      "metadata": {
        "id": "jE0GaeuTgToU"
      },
      "source": [
        "df = df.rename(columns={0:'file'})\n",
        "df.head()"
      ],
      "execution_count": null,
      "outputs": []
    },
    {
      "cell_type": "code",
      "metadata": {
        "id": "1W455OgIg9f-"
      },
      "source": [
        "# add a column of zeros for each existing reviewer to dataframe\n",
        "for r in all_reviewers:\n",
        "  df[r] = 0\n",
        "\n",
        "df.head()"
      ],
      "execution_count": null,
      "outputs": []
    },
    {
      "cell_type": "code",
      "metadata": {
        "id": "qB7lTIT_hOy0"
      },
      "source": [
        "# fill the values of dataframe by checking PRs one by one\n",
        "for f in files:\n",
        "  for pr in train:\n",
        "    if f in pr['filePaths']:\n",
        "      for r in pr['reviewersId']:\n",
        "        df.loc[(df['file'] == f), r] += 1\n",
        "\n",
        "df.head()"
      ],
      "execution_count": null,
      "outputs": []
    },
    {
      "cell_type": "code",
      "metadata": {
        "id": "-6HyVrYiwWlP"
      },
      "source": [
        "df = df.set_index('file')\n",
        "df.head()"
      ],
      "execution_count": null,
      "outputs": []
    },
    {
      "cell_type": "code",
      "metadata": {
        "id": "RwOwl6shv99B"
      },
      "source": [
        "# convert the dataframe into matrix\n",
        "FR = df.to_numpy()\n",
        "FR.shape"
      ],
      "execution_count": null,
      "outputs": []
    },
    {
      "cell_type": "markdown",
      "metadata": {
        "id": "x4BWT4AUw06Q"
      },
      "source": [
        "#### All together\n",
        "as 'cal_expertise' function"
      ]
    },
    {
      "cell_type": "code",
      "metadata": {
        "id": "S0EO-lXkfrPB"
      },
      "source": [
        "# Function to extract 'Expertise' metrix\n",
        "# Returns P*M matrix named FR\n",
        "def cal_expertise(files, all_reviewers, train):\n",
        "\n",
        "  # create a dataframe that its first column is files in test PR\n",
        "  df = pd.DataFrame(files)  \n",
        "  df = df.rename(columns={0:'file'})  # set a name for this column\n",
        "\n",
        "  # add a column of zeros for each existing reviewer to dataframe\n",
        "  for r in all_reviewers:\n",
        "    df[r] = 0\n",
        "\n",
        "  # fill the cells of the dataframe by checking PRs one by one\n",
        "  for f in files:\n",
        "    for pr in train:\n",
        "      if f in pr['filePaths']:\n",
        "        for r in pr['reviewersId']:\n",
        "          df.loc[(df['file'] == f), r] += 1\n",
        "\n",
        "  # convert the dataframe into matrix\n",
        "  df = df.set_index('file')\n",
        "  FR = df.to_numpy()\n",
        "  print(\"Shape of FR matrix is:\", FR.shape)\n",
        "  return FR"
      ],
      "execution_count": 3,
      "outputs": []
    },
    {
      "cell_type": "markdown",
      "metadata": {
        "id": "8FcG8-Ql0R2w"
      },
      "source": [
        "### Reviewer‑developer **collaboration** model\n",
        "DR matrix"
      ]
    },
    {
      "cell_type": "markdown",
      "metadata": {
        "id": "5wMzpA-P0dPI"
      },
      "source": [
        "#### step by step"
      ]
    },
    {
      "cell_type": "code",
      "metadata": {
        "id": "spxTR07O00ic"
      },
      "source": [
        "all_devs = set()   # make a \"set\" of all developers\n",
        "for pr in train:\n",
        "  all_devs.add(pr['ownerId'])\n",
        "\n",
        "len(all_devs)"
      ],
      "execution_count": null,
      "outputs": []
    },
    {
      "cell_type": "code",
      "metadata": {
        "id": "2CogC9qxL7qB"
      },
      "source": [
        "len(all_reviewers)"
      ],
      "execution_count": null,
      "outputs": []
    },
    {
      "cell_type": "code",
      "metadata": {
        "id": "Vf7jK7kZMC1d"
      },
      "source": [
        "# create a dataframe that its first column is all existing developers\n",
        "df = pd.DataFrame(all_devs)\n",
        "df = df.rename(columns={0:'developer'})\n",
        "df.head()"
      ],
      "execution_count": null,
      "outputs": []
    },
    {
      "cell_type": "code",
      "metadata": {
        "id": "3NDY8S99MhdG"
      },
      "source": [
        "# add a column of zeros for each existing reviewer to dataframe\n",
        "for r in all_reviewers:\n",
        "  df[r] = 0\n",
        "\n",
        "df.head()"
      ],
      "execution_count": null,
      "outputs": []
    },
    {
      "cell_type": "code",
      "metadata": {
        "id": "rJ91pp1ZMpzR"
      },
      "source": [
        "# fill the values of dataframe by checking PRs one by one\n",
        "for pr in train:\n",
        "  for r in pr['reviewersId']:\n",
        "    df.loc[(df['developer'] == pr['ownerId']), r] += len(pr['filePaths'])\n",
        "\n",
        "df.head()"
      ],
      "execution_count": null,
      "outputs": []
    },
    {
      "cell_type": "code",
      "metadata": {
        "id": "cGCluJH0MxYl"
      },
      "source": [
        "df = df.set_index('developer')\n",
        "# convert the dataframe into matrix\n",
        "DR = df.to_numpy()\n",
        "DR.shape"
      ],
      "execution_count": null,
      "outputs": []
    },
    {
      "cell_type": "markdown",
      "metadata": {
        "id": "pMh5l15fOKM8"
      },
      "source": [
        "#### All together\n",
        "as 'cal_collaboration' function"
      ]
    },
    {
      "cell_type": "code",
      "metadata": {
        "id": "RfRPBPF-OXSc"
      },
      "source": [
        "# Function to extract 'Collaboration' metrix\n",
        "# Returns N*M matrix named DR\n",
        "def cal_collaboration(all_devs, all_reviewers, train):\n",
        "\n",
        "  # create a dataframe that its first column is all existing developers\n",
        "  df = pd.DataFrame(all_devs)\n",
        "  df = df.rename(columns={0:'developer'})\n",
        "\n",
        "  # add a column of zeros for each existing reviewer to dataframe\n",
        "  for r in all_reviewers:\n",
        "    df[r] = 0\n",
        "  \n",
        "  # fill the values of dataframe by checking PRs one by one\n",
        "  for pr in train:\n",
        "    for r in pr['reviewersId']:\n",
        "      df.loc[(df['developer'] == pr['ownerId']), r] += len(pr['filePaths'])\n",
        "\n",
        "  # convert the dataframe into matrix\n",
        "  df = df.set_index('developer')\n",
        "  DR = df.to_numpy()\n",
        "  print(\"Shape of DR matrix is:\", DR.shape)\n",
        "  return DR"
      ],
      "execution_count": 4,
      "outputs": []
    },
    {
      "cell_type": "markdown",
      "metadata": {
        "id": "DiQ3eg8h3Z7c"
      },
      "source": [
        "### **Availability** model"
      ]
    },
    {
      "cell_type": "markdown",
      "metadata": {
        "id": "FzF936na3fny"
      },
      "source": [
        "#### step by step"
      ]
    },
    {
      "cell_type": "code",
      "metadata": {
        "id": "HqeNmXMVDMth"
      },
      "source": [
        "len(all_reviewers)"
      ],
      "execution_count": null,
      "outputs": []
    },
    {
      "cell_type": "code",
      "metadata": {
        "id": "Z9TkgusY6c7I"
      },
      "source": [
        "test['time']"
      ],
      "execution_count": null,
      "outputs": []
    },
    {
      "cell_type": "code",
      "metadata": {
        "id": "xPNN_Gxs9D3J"
      },
      "source": [
        "import datetime as DT\n",
        "\n",
        "# seven day before the time of our test PR\n",
        "week_ago = test['time'] - DT.timedelta(days=7)\n",
        "week_ago"
      ],
      "execution_count": null,
      "outputs": []
    },
    {
      "cell_type": "code",
      "metadata": {
        "id": "THLvHAoJ9pPR"
      },
      "source": [
        "# Extract a list of PRs that are between time of seven days ago up to the time of test PR\n",
        "week_pr = []\n",
        "\n",
        "for pr in train:\n",
        "  if pr['time'] > week_ago and pr['time'] < test['time']:\n",
        "    week_pr.append(pr)\n",
        "\n",
        "len(week_pr)"
      ],
      "execution_count": null,
      "outputs": []
    },
    {
      "cell_type": "code",
      "metadata": {
        "id": "Nw2Rm-GB_vF1"
      },
      "source": [
        "# Extract the availability matrix named 'A' that is 1*M\n",
        "A = []\n",
        "\n",
        "for r in all_reviewers:\n",
        "  A.append(0)\n",
        "  for pr in week_pr:\n",
        "    if r in pr['reviewersId']:\n",
        "      A[-1] += len(pr['filePaths'])\n",
        "\n",
        "len(A)"
      ],
      "execution_count": null,
      "outputs": []
    },
    {
      "cell_type": "markdown",
      "metadata": {
        "id": "fV8wDsPh9jDu"
      },
      "source": [
        "#### All together\n",
        "as 'cal_availability' function"
      ]
    },
    {
      "cell_type": "code",
      "metadata": {
        "id": "bmTt3eRoE6z6"
      },
      "source": [
        "# Function to extract 'Availability' vector\n",
        "# Returns 1*M matrix named A \n",
        "def cal_availability(all_reviewers, train, test):\n",
        "\n",
        "  # seven day before the time of our test PR\n",
        "  week_ago = test['time'] - DT.timedelta(days=7)\n",
        "  \n",
        "  # Extract a list of PRs that are between time of seven days ago up to the time of test PR\n",
        "  week_pr = []\n",
        "  for pr in train:\n",
        "    if pr['time'] > week_ago and pr['time'] < test['time']:\n",
        "      week_pr.append(pr)\n",
        "  print(\"Num of PRs in last 7 days:\", len(week_pr))\n",
        "\n",
        "  # Extract the availability matrix named 'A' that is 1*M\n",
        "  A = []\n",
        "  for r in all_reviewers:\n",
        "    A.append(0)\n",
        "    for pr in week_pr:\n",
        "      if r in pr['reviewersId']:\n",
        "        A[-1] += len(pr['filePaths'])\n",
        "  \n",
        "  print(\"Size of A matrix is:\", len(A))\n",
        "  return A"
      ],
      "execution_count": 5,
      "outputs": []
    },
    {
      "cell_type": "markdown",
      "metadata": {
        "id": "EyhwlHRy6X7p"
      },
      "source": [
        "### **File-Developer** matrix"
      ]
    },
    {
      "cell_type": "markdown",
      "metadata": {
        "id": "olYfiHt16dI4"
      },
      "source": [
        "#### step by step"
      ]
    },
    {
      "cell_type": "code",
      "metadata": {
        "id": "co2xqpWZ6foh"
      },
      "source": [
        "len(all_devs)"
      ],
      "execution_count": null,
      "outputs": []
    },
    {
      "cell_type": "code",
      "metadata": {
        "id": "DtUV-al76iHQ"
      },
      "source": [
        "len(files)"
      ],
      "execution_count": null,
      "outputs": []
    },
    {
      "cell_type": "code",
      "metadata": {
        "id": "p2l8UpSP6mKo"
      },
      "source": [
        "# create a dataframe that its first column is all existing developers\n",
        "df = pd.DataFrame(all_devs)\n",
        "df = df.rename(columns={0:'developer'})\n",
        "df.head()"
      ],
      "execution_count": null,
      "outputs": []
    },
    {
      "cell_type": "code",
      "metadata": {
        "id": "z43Hf4s86o3K"
      },
      "source": [
        "# add a column of zeros for each existing file in test PR\n",
        "for f in files:\n",
        "  df[f] = 0\n",
        "\n",
        "df.head()"
      ],
      "execution_count": null,
      "outputs": []
    },
    {
      "cell_type": "code",
      "metadata": {
        "id": "ggkxSeLN6sKo"
      },
      "source": [
        "# Fill the dataframe with number of times each developer worked on each file\n",
        "for pr in train:\n",
        "  for f in pr['filePaths']:\n",
        "    if f in files:\n",
        "      df.loc[(df['developer'] == pr['ownerId']), f] += 1\n",
        "\n",
        "df[df['nova/tests/test_migrations.py']>0]"
      ],
      "execution_count": null,
      "outputs": []
    },
    {
      "cell_type": "code",
      "metadata": {
        "id": "iJpNUY3F6u3S"
      },
      "source": [
        "df = df.set_index('developer')\n",
        "# convert the dataframe into matrix\n",
        "FD = df.to_numpy()\n",
        "FD.shape"
      ],
      "execution_count": null,
      "outputs": []
    },
    {
      "cell_type": "markdown",
      "metadata": {
        "id": "0qPAL7kA60jN"
      },
      "source": [
        "#### All together"
      ]
    },
    {
      "cell_type": "code",
      "metadata": {
        "id": "SmqibzIQ62UI"
      },
      "source": [
        "# Function to extract File-Developer matrix\n",
        "# Returns N*P matrix named FD \n",
        "def cal_fileDev(all_devs, files, train):\n",
        "\n",
        "  # create a dataframe that its first column is all existing developers\n",
        "  df = pd.DataFrame(all_devs)\n",
        "  df = df.rename(columns={0:'developer'})\n",
        "\n",
        "  # add a column of zeros for each existing file in test PR\n",
        "  for f in files:\n",
        "    df[f] = 0\n",
        "  \n",
        "  # Fill the dataframe with number of times each developer worked on each file\n",
        "  for pr in train:\n",
        "    for f in pr['filePaths']:\n",
        "      if f in files:\n",
        "        df.loc[(df['developer'] == pr['ownerId']), f] += 1\n",
        "\n",
        "  # convert the dataframe into matrix\n",
        "  df = df.set_index('developer')\n",
        "  FD = df.to_numpy()\n",
        "  print(\"Shape of FD matrix is:\", FD.shape)\n",
        "  return FD"
      ],
      "execution_count": 6,
      "outputs": []
    },
    {
      "cell_type": "markdown",
      "metadata": {
        "id": "_e3L3NdgBciU"
      },
      "source": [
        "## Problem Formulation"
      ]
    },
    {
      "cell_type": "markdown",
      "metadata": {
        "id": "ER-OFM84BxeM"
      },
      "source": [
        "### Solution representation\n",
        "Gene defenition"
      ]
    },
    {
      "cell_type": "code",
      "metadata": {
        "id": "CRIO1je4qFWp"
      },
      "source": [
        "# Gene creation\n",
        "# Reviewer-File matrix named S with shape of P*M \n",
        "\n",
        "def init_gene(files, all_reviewers):\n",
        "  P = len(files)  # number of files in test PR\n",
        "  M = len(all_reviewers) # number of all candidate reviewers\n",
        "\n",
        "  # create a dataframe that its first column is all files in test PR\n",
        "  df = pd.DataFrame(files)\n",
        "  df = df.rename(columns={0:'file'})\n",
        "\n",
        "  # add a column of zeros for each existing reviewer to dataframe\n",
        "  for r in all_reviewers:\n",
        "    df[r] = 0\n",
        "\n",
        "  # convert the dataframe into matrix\n",
        "  df = df.set_index('file')\n",
        "  S = df.to_numpy()\n",
        "\n",
        "  # assign random number to each cell of the dataframe\n",
        "  # each \"row\" must have all the integer numbers from 0 to M (distinct numbers)\n",
        "  for row in range(0, P):\n",
        "    num_of_zeros = random.randint(0, M+1)\n",
        "    # print(\"number of zero ranks in row\", row, \"is:\", num_of_zeros)\n",
        "    rand_ranks = num_of_zeros * [0]\n",
        "    rand_ranks.extend(random.sample(range(1, M-num_of_zeros+1), M-num_of_zeros))  # sampling without replacement\n",
        "    # print(\"number of non-zero ranks in row\", row, \"is:\", max(rand_ranks))\n",
        "    random.shuffle(rand_ranks)   # Shuffle zeros with non-zero ranks\n",
        "    S[row] = rand_ranks\n",
        "  \n",
        "  return S"
      ],
      "execution_count": 7,
      "outputs": []
    },
    {
      "cell_type": "markdown",
      "metadata": {
        "id": "F8WFK4WOB32c"
      },
      "source": [
        "### Fitness functions"
      ]
    },
    {
      "cell_type": "code",
      "metadata": {
        "id": "Oy5dCh16bc1s"
      },
      "source": [
        "def fit_avail(A, S):\n",
        "  Availability = 1/np.sum(np.dot(A, S.T))\n",
        "  print(\"Availability value:\", Availability)\n",
        "  return Availability\n",
        "\n",
        "################### Alternative #######################\n",
        "# Avail = 0\n",
        "# for k in range(0, len(files)):\n",
        "#   for i in range(0, len(all_reviewers)):\n",
        "#     # if S[k][i] > 0:\n",
        "#     Avail += (A[i] * S[k][i])\n",
        "# Availability = 1/Avail"
      ],
      "execution_count": 8,
      "outputs": []
    },
    {
      "cell_type": "code",
      "metadata": {
        "id": "XoT2PmB5x5lR"
      },
      "source": [
        "def fit_expert(FR, S):\n",
        "  Expertise = np.sum(np.divide(FR, S, where=(S!=0)))\n",
        "  print(\"Expertise value:\", Expertise)\n",
        "  return Expertise\n",
        "\n",
        "################### Alternative #######################\n",
        "# PR matrix that is file priority will set to all zeros (because there is no priority tag)\n",
        "# PR = len(files)*[0]\n",
        "# Expertise = 0\n",
        "# for k in range(0, len(files)):\n",
        "#   for i in range(0, len(all_reviewers)):\n",
        "#     if S[k][i] > 0:\n",
        "#       Expertise += ((FR[k][i] + PR[k]) / S[k][i])"
      ],
      "execution_count": 9,
      "outputs": []
    },
    {
      "cell_type": "code",
      "metadata": {
        "id": "jGmWk514NWam"
      },
      "source": [
        "def fit_collab(all_devs, files, all_reviewers, DR, FD, S):\n",
        "  Collaboration = 0\n",
        "  for k in range(0, len(all_devs)):\n",
        "    for j in range(0, len(files)):\n",
        "      for i in range(0, len(all_reviewers)):\n",
        "        Collaboration += (DR[k][i]*FD[k][j]*(S[j][i]>0))\n",
        "  print(\"Collaboration value:\", Collaboration)\n",
        "  return Collaboration\n",
        "\n",
        "################### Alternative #######################\n",
        "# still not true!!!\n",
        "# Collaboration = np.sum(np.dot(np.dot(DR.T, FD), (S>0)))"
      ],
      "execution_count": 10,
      "outputs": []
    },
    {
      "cell_type": "markdown",
      "metadata": {
        "id": "UaZ0rQH7rXw4"
      },
      "source": [
        "## Genetic"
      ]
    },
    {
      "cell_type": "code",
      "metadata": {
        "id": "LVyHiRhmrpln"
      },
      "source": [
        ""
      ],
      "execution_count": null,
      "outputs": []
    },
    {
      "cell_type": "markdown",
      "metadata": {
        "id": "nlLVMfhDzVhg"
      },
      "source": [
        "## Run"
      ]
    },
    {
      "cell_type": "markdown",
      "metadata": {
        "id": "pQ0OzQGlNNkI"
      },
      "source": [
        "### load final data"
      ]
    },
    {
      "cell_type": "code",
      "metadata": {
        "colab": {
          "base_uri": "https://localhost:8080/"
        },
        "id": "AuIchz87KTA4",
        "outputId": "fea102cc-3e6b-48da-bb39-68e7e5d01013"
      },
      "source": [
        "# Load final data from drive\n",
        "f = open('/content/drive/MyDrive/Colab Notebooks/My Project/openstack_final.json',)\n",
        "data = json.load(f)  # returns json object as a dictionary\n",
        "for i in range(5):   # 5 first elements of the json list\n",
        "    print(data[i])\n",
        "f.close()"
      ],
      "execution_count": 11,
      "outputs": [
        {
          "output_type": "stream",
          "name": "stdout",
          "text": [
            "{'time': '2011-07-18 15:43:34', 'changeId': 'Ibb2f047c9c45d011361d253d4444b2fd1ebd3612', 'ownerId': '1', 'reviewersId': ['2'], 'filePaths': ['modules/ssh/files/sshd_config', 'manifests/server.pp', 'modules/ssh/manifests/init.pp']}\n",
            "{'time': '2011-07-18 16:56:22', 'changeId': 'Iea32ad3aedbee996db53655842061d14c9e3d876', 'ownerId': '1', 'reviewersId': ['1'], 'filePaths': ['modules/jenkins_slave/manifests/jenkinsuser.pp', 'modules/jenkins_slave/files/known_hosts']}\n",
            "{'time': '2011-07-18 17:14:05', 'changeId': 'Ib6af08a6af71a6e5853d958a12f63c381eafa039', 'ownerId': '1', 'reviewersId': ['1'], 'filePaths': ['modules/jenkins_slave/manifests/jenkinsuser.pp']}\n",
            "{'time': '2011-07-20 14:37:53', 'changeId': 'Ide7975c522b6b31a23af67b135135c07d75d9bde', 'ownerId': '2', 'reviewersId': ['1'], 'filePaths': ['modules/jenkins_slave/files/pubring.gpg', 'modules/jenkins_slave/manifests/jenkinsuser.pp']}\n",
            "{'time': '2011-07-20 15:12:47', 'changeId': 'I28119ac1735127812866a4b0519368a829e2e666', 'ownerId': '2', 'reviewersId': ['1'], 'filePaths': ['manifests/openstack_ci.pp']}\n"
          ]
        }
      ]
    },
    {
      "cell_type": "code",
      "metadata": {
        "colab": {
          "base_uri": "https://localhost:8080/"
        },
        "id": "KjDt8F7B8uGj",
        "outputId": "6264b819-483b-4a95-e563-bc7b80c8b627"
      },
      "source": [
        "# convert times to datetime format\n",
        "from dateutil import parser\n",
        "\n",
        "for pr in data:\n",
        "  pr['time'] = parser.parse(pr['time'])\n",
        "\n",
        "data[0]"
      ],
      "execution_count": 12,
      "outputs": [
        {
          "output_type": "execute_result",
          "data": {
            "text/plain": [
              "{'changeId': 'Ibb2f047c9c45d011361d253d4444b2fd1ebd3612',\n",
              " 'filePaths': ['modules/ssh/files/sshd_config',\n",
              "  'manifests/server.pp',\n",
              "  'modules/ssh/manifests/init.pp'],\n",
              " 'ownerId': '1',\n",
              " 'reviewersId': ['2'],\n",
              " 'time': datetime.datetime(2011, 7, 18, 15, 43, 34)}"
            ]
          },
          "metadata": {},
          "execution_count": 12
        }
      ]
    },
    {
      "cell_type": "code",
      "metadata": {
        "colab": {
          "base_uri": "https://localhost:8080/"
        },
        "id": "k_-nzsBuizst",
        "outputId": "aa446d4f-da34-4b65-9451-079b372a2643"
      },
      "source": [
        "# Number of files in whole data\n",
        "all_files = set()   # make a \"set\" of all file paths\n",
        "max_file = 0\n",
        "\n",
        "for pr in data:\n",
        "  num_file = 0\n",
        "  for f in pr['filePaths']:\n",
        "    all_files.add(f)\n",
        "    num_file += 1\n",
        "  if num_file > max_file:\n",
        "    max_file = num_file\n",
        "\n",
        "print(\"Total number of files in dataset:\", len(all_files))\n",
        "print(\"Maximum number of files in a PR:\", max_file)"
      ],
      "execution_count": 13,
      "outputs": [
        {
          "output_type": "stream",
          "name": "stdout",
          "text": [
            "Total number of files in dataset: 11421\n",
            "Maximum number of files in a PR: 1757\n"
          ]
        }
      ]
    },
    {
      "cell_type": "code",
      "metadata": {
        "colab": {
          "base_uri": "https://localhost:8080/"
        },
        "id": "c1wigISqjI1u",
        "outputId": "0f8d605e-bb0e-4c53-9f88-51f8a7a72c22"
      },
      "source": [
        "# Number of reviewers in whole data\n",
        "all_reviewers = set()   # make a set of all reviewers\n",
        "for pr in data:\n",
        "  for r in pr['reviewersId']:\n",
        "    all_reviewers.add(r)\n",
        "\n",
        "print(\"Total number of reviewers in dataset:\", len(all_reviewers))"
      ],
      "execution_count": 14,
      "outputs": [
        {
          "output_type": "stream",
          "name": "stdout",
          "text": [
            "Total number of reviewers in dataset: 82\n"
          ]
        }
      ]
    },
    {
      "cell_type": "code",
      "metadata": {
        "colab": {
          "base_uri": "https://localhost:8080/"
        },
        "id": "O--ZnJJr26mB",
        "outputId": "9ad39c1c-3f9c-43f0-9872-de15c001aa39"
      },
      "source": [
        "# Number of developers in whole data\n",
        "all_devs = set()   # make a \"set\" of all developers\n",
        "for pr in data:\n",
        "  all_devs.add(pr['ownerId'])\n",
        "\n",
        "print(\"Total number of developers in dataset:\", len(all_devs))"
      ],
      "execution_count": 15,
      "outputs": [
        {
          "output_type": "stream",
          "name": "stdout",
          "text": [
            "Total number of developers in dataset: 324\n"
          ]
        }
      ]
    },
    {
      "cell_type": "markdown",
      "metadata": {
        "id": "HTzNT27Dwsgt"
      },
      "source": [
        "### split train/test sets"
      ]
    },
    {
      "cell_type": "code",
      "metadata": {
        "id": "ZUlPf94X0AxZ"
      },
      "source": [
        "# Split data for train/test sets\n",
        "init_train = data[0:5900]     # 90% of data is for initial train set (5900 PR)\n",
        "total_test = data[5900:6545]  # 10% of data will be tested in the whole examination (645 PR)"
      ],
      "execution_count": 16,
      "outputs": []
    },
    {
      "cell_type": "markdown",
      "metadata": {
        "id": "WSVDjK4ow2Gk"
      },
      "source": [
        "### functions"
      ]
    },
    {
      "cell_type": "code",
      "metadata": {
        "id": "rYXoLDsGtEdr"
      },
      "source": [
        "def get_files(pr):\n",
        "  # create a \"set\" of file paths in PR. we selected set to ensure not collecting repeated files\n",
        "  files = set()  \n",
        "  for f in pr['filePaths']:\n",
        "    files.add(f) \n",
        "  print(\"P is:\", len(files))\n",
        "  return files"
      ],
      "execution_count": 17,
      "outputs": []
    },
    {
      "cell_type": "code",
      "metadata": {
        "id": "us1k9gs4tYBy"
      },
      "source": [
        "def get_all_reviewers(train):\n",
        "  # create a set of all reviewers\n",
        "  all_reviewers = set()   \n",
        "  for pr in train:\n",
        "    for r in pr['reviewersId']:\n",
        "      all_reviewers.add(r)\n",
        "  print(\"M is:\", len(all_reviewers))\n",
        "  return all_reviewers"
      ],
      "execution_count": 18,
      "outputs": []
    },
    {
      "cell_type": "code",
      "metadata": {
        "id": "zqN9PxUDtlsi"
      },
      "source": [
        "def get_all_devs(train):\n",
        "  # create a \"set\" of all developers\n",
        "  all_devs = set()  \n",
        "  for pr in train:\n",
        "    all_devs.add(pr['ownerId'])\n",
        "  print(\"N is:\", len(all_devs))\n",
        "  return all_devs"
      ],
      "execution_count": 19,
      "outputs": []
    },
    {
      "cell_type": "markdown",
      "metadata": {
        "id": "udQDcGXPw6Tr"
      },
      "source": [
        "### main"
      ]
    },
    {
      "cell_type": "code",
      "metadata": {
        "colab": {
          "base_uri": "https://localhost:8080/"
        },
        "id": "yUaGN-pf_fDR",
        "outputId": "a2b3564a-7621-48b1-e29b-e5b412ab6a24"
      },
      "source": [
        "for test_num in range(0, 1):  # number of examination can be 0 to 644\n",
        "  # creating test set\n",
        "  test = total_test[test_num]   # one PR is test in each examination\n",
        "  # creating train set\n",
        "  if test_num == 0:\n",
        "    train = init_train\n",
        "  else:\n",
        "    train.append(total_test[test_num-1])\n",
        "  \n",
        "  # other calculations\n",
        "  files = get_files(test)\n",
        "  P = len(files)\n",
        "  all_reviewers = get_all_reviewers(train)\n",
        "  M = len(all_reviewers)\n",
        "  all_devs = get_all_devs(train)\n",
        "  N = len(all_devs)\n",
        "\n",
        "  # Extract 3 metrices just one time\n",
        "  FR = cal_expertise(files, all_reviewers, train)         # File-Reviewer matrix\n",
        "  DR = cal_collaboration(all_devs, all_reviewers, train)  # Developer-Reviwer matrix\n",
        "  A = cal_availability(all_reviewers, train, test)        # Availability vector\n",
        "  FD = cal_fileDev(all_devs, files, train)                # File-Developer matrix"
      ],
      "execution_count": 169,
      "outputs": [
        {
          "output_type": "stream",
          "name": "stdout",
          "text": [
            "P is: 1\n",
            "M is: 78\n",
            "N is: 305\n",
            "Shape of FR matrix is: (1, 78)\n",
            "Shape of DR matrix is: (305, 78)\n",
            "Num of PRs in last 7 days: 214\n",
            "Size of A matrix is: 78\n",
            "Shape of FD matrix is: (305, 1)\n"
          ]
        }
      ]
    },
    {
      "cell_type": "code",
      "metadata": {
        "id": "V_uM9xDTWMMH"
      },
      "source": [
        "# Genetic\n",
        "pop_size = 10          # also for 20, 30, 40, 50\n",
        "max_gen = 1000         # stopping criterion = 100,000 fitness evaluations\n",
        "cross_prob = 0.5       # crossover probability\n",
        "mute_prob = 0.4        # mutation probabillity\n",
        "gene_modif_prob = 0.2  # probability of gene modification"
      ],
      "execution_count": 170,
      "outputs": []
    },
    {
      "cell_type": "code",
      "metadata": {
        "id": "vYYlaMUHYtb3"
      },
      "source": [
        "# Swap mutation function\n",
        "def mutation(gene):\n",
        "  r = random.random()\n",
        "  if r < mute_prob:\n",
        "    # mutation can accure at each row with some probability\n",
        "    dict_rows = {}  # dictionary of selected rows for mutation and their probability\n",
        "    for i in range(0, P): \n",
        "      rand = random.random()\n",
        "      if rand < gene_modif_prob:\n",
        "        dict_rows[i] = rand   # this row added to selected rows for mutation process\n",
        "    # print(\"rows number for swapping\", dict_rows)\n",
        "\n",
        "    if len(dict_rows) > 1:  # if two or more rows selected\n",
        "      # find two rows with maximum probabilities (sort dictionary by values in descending order)\n",
        "      sort_dict = sorted(dict_rows.items(), key=lambda x: x[1], reverse=True)\n",
        "      r1 = sort_dict[0][0]\n",
        "      r2 = sort_dict[1][0]\n",
        "      # print(\"selected rows for swapping:\", gene, r1, r2)\n",
        "\n",
        "      # swapping these two rows\n",
        "      gene[[r1, r2]] = gene[[r2, r1]]\n",
        "    \n",
        "  return gene"
      ],
      "execution_count": 171,
      "outputs": []
    },
    {
      "cell_type": "code",
      "metadata": {
        "id": "UfrptWjiAdD-"
      },
      "source": [
        "# Function to repaire genes with infeasible ranks\n",
        "# This function not change the gene if it is a feasible solution\n",
        "# the repair mechanism just apply on the mixed row of the child\n",
        "def repair_gene(gene):\n",
        "  num_of_nonzero = np.count_nonzero(gene)\n",
        "  non_zero_vals = gene[(gene!=0)]   # non zero elements of gene matrix\n",
        "  non_zero_vals.sort()\n",
        "  new_vals = [i for i in range(1, num_of_nonzero+1)]   # new elements for repaired gene\n",
        "\n",
        "  dic = dict(zip(new_vals, non_zero_vals))  # create a dictionary of new values to previous one\n",
        "  key_list = list(dic.keys())\n",
        "  val_list = list(dic.values())\n",
        "\n",
        "  # replace gene elements with repaired ones according to dictionary\n",
        "  for i in range(0, len(gene)):\n",
        "    if gene[i] != 0:\n",
        "      position = val_list.index(gene[i])\n",
        "      val_list.remove(gene[i])\n",
        "      gene[i] = key_list[position]\n",
        "      key_list.remove(key_list[position])\n",
        "\n",
        "  # return repaired gene\n",
        "  return gene"
      ],
      "execution_count": 172,
      "outputs": []
    },
    {
      "cell_type": "code",
      "metadata": {
        "id": "r3_6W0YUYs4R"
      },
      "source": [
        "# Single point crossover function\n",
        "def crossover(gene1, gene2):\n",
        "  childs = []\n",
        "  r = random.random()  # random number between 0 and 1\n",
        "  if r < cross_prob:\n",
        "    # crossover point\n",
        "    row = random.randint(0, P-1)   \n",
        "    col = random.randint(0, M-1)\n",
        "    # print(\"crossover point\", row, col)\n",
        "\n",
        "    # first child : (0, 0) to (row, col) from first parent and the rest from second parent\n",
        "    child1 = gene1[0:row, :]\n",
        "    child1 = np.append(np.append(np.append(child1, gene1[row, 0:col]), gene2[row, col:]), gene2[row+1:, :]).reshape((P, M))\n",
        "    # second child : first part from parent2 and second part from parent1\n",
        "    child2 = gene2[0:row, :]\n",
        "    child2 = np.append(np.append(np.append(child2, gene2[row, 0:col]), gene1[row, col:]), gene1[row+1:, :]).reshape((P, M))\n",
        "    # print(\"child1 before repair\", child1)\n",
        "    # print(\"child2 before repair\", child2)\n",
        "\n",
        "    # repair mechanism on mixed row of each child\n",
        "    child1[row] = repair_gene(child1[row])\n",
        "    child2[row] = repair_gene(child2[row])\n",
        "    # print(\"child1 after repair\", child1)\n",
        "    # print(\"child2 after repair\", child2)\n",
        "\n",
        "    # mutation\n",
        "    child1 = mutation(child1)\n",
        "    child2 = mutation(child2)\n",
        "    # print(\"child1 after mutation\", child1)\n",
        "    # print(\"child2 after mutation\", child2)\n",
        "\n",
        "    childs.append(child1)\n",
        "    childs.append(child2)\n",
        "\n",
        "  return childs     # it returns empty list when no crossover happend"
      ],
      "execution_count": 173,
      "outputs": []
    },
    {
      "cell_type": "code",
      "metadata": {
        "id": "LkvCVWtMWD0-"
      },
      "source": [
        "def child_generate(P0):\n",
        "  childs = []\n",
        "  while len(childs) < pop_size:\n",
        "    gene1 = P0[random.randint(0, pop_size-1)]\n",
        "    # print(\"first parent\", gene1)\n",
        "    gene2 = P0[random.randint(0, pop_size-1)]\n",
        "    # print(\"second parent\", gene2)\n",
        "    child1_2 = crossover(gene1, gene2)\n",
        "    if len(child1_2)!=0:\n",
        "      childs.append(child1_2[0])\n",
        "      childs.append(child1_2[1])\n",
        "    # print(\"childs up to now\", childs)\n",
        "    # print(\"-----------------next loop-------------------\")\n",
        "  return childs"
      ],
      "execution_count": 174,
      "outputs": []
    },
    {
      "cell_type": "code",
      "metadata": {
        "id": "4cTdAcQeE5yd"
      },
      "source": [
        "def fast_non_dominated_sort(avail_values, expert_values, collab_values):\n",
        "  pop = len(avail_values)   # population\n",
        "  S = [[] for i in range(0, pop)]  # means who are you dominating\n",
        "  n = [0 for i in range(0, pop)]   # means how many people dominate you\n",
        "  front = [[]]  # Pareto-fornts\n",
        "  rank = [0 for i in range(0, pop)]\n",
        "\n",
        "  # fill S and n lists for each gene\n",
        "  for p in range(0, pop):\n",
        "    S[p] = []\n",
        "    n[p] = 0\n",
        "    for q in range(0, pop):\n",
        "      if ((avail_values[p] > avail_values[q] and expert_values[p] > expert_values[q] and collab_values[p] < collab_values[q])\n",
        "          or (avail_values[p] >= avail_values[q] and expert_values[p] >  expert_values[q] and collab_values[p] <  collab_values[q]) \n",
        "          or (avail_values[p] >  avail_values[q] and expert_values[p] >= expert_values[q] and collab_values[p] <  collab_values[q])\n",
        "          or (avail_values[p] >  avail_values[q] and expert_values[p] >  expert_values[q] and collab_values[p] <= collab_values[q])\n",
        "          or (avail_values[p] >= avail_values[q] and expert_values[p] >= expert_values[q] and collab_values[p] <  collab_values[q])\n",
        "          or (avail_values[p] >= avail_values[q] and expert_values[p] >  expert_values[q] and collab_values[p] <= collab_values[q])\n",
        "          or (avail_values[p] >  avail_values[q] and expert_values[p] >= expert_values[q] and collab_values[p] <= collab_values[q])):\n",
        "          if q not in S[p]:\n",
        "            S[p].append(q)\n",
        "\n",
        "      elif ((avail_values[q] > avail_values[p] and expert_values[q] > expert_values[p] and collab_values[q] < collab_values[p])\n",
        "          or (avail_values[q] >= avail_values[p] and expert_values[q] >  expert_values[p] and collab_values[q] <  collab_values[p]) \n",
        "          or (avail_values[q] >  avail_values[p] and expert_values[q] >= expert_values[p] and collab_values[q] <  collab_values[p])\n",
        "          or (avail_values[q] >  avail_values[p] and expert_values[q] >  expert_values[p] and collab_values[q] <= collab_values[p])\n",
        "          or (avail_values[q] >= avail_values[p] and expert_values[q] >= expert_values[p] and collab_values[q] <  collab_values[p])\n",
        "          or (avail_values[q] >= avail_values[p] and expert_values[q] >  expert_values[p] and collab_values[q] <= collab_values[p])\n",
        "          or (avail_values[q] >  avail_values[p] and expert_values[q] >= expert_values[p] and collab_values[q] <= collab_values[p])):\n",
        "          n[p] = n[p] + 1\n",
        "\n",
        "    if n[p] == 0:\n",
        "      rank[p] = 0\n",
        "      if p not in front[0]:\n",
        "        front[0].append(p)\n",
        "\n",
        "  # calculate other front levels of the remaining population\n",
        "  i = 0\n",
        "  while(front[i] != []):\n",
        "    Q = []\n",
        "    for p in front[i]:\n",
        "      for q in S[p]:\n",
        "        n[q] -= 1\n",
        "        if n[q] == 0:\n",
        "          rank[q] = i+1\n",
        "          if q not in Q:\n",
        "            Q.append(q)\n",
        "    i = i+1\n",
        "    front[i].append(Q)\n",
        "\n",
        "  del front[len(front)-1]  # delete one last empty level added to front levels\n",
        "  return front\n"
      ],
      "execution_count": 182,
      "outputs": []
    },
    {
      "cell_type": "code",
      "metadata": {
        "id": "X_IF1x7aO89N",
        "colab": {
          "base_uri": "https://localhost:8080/"
        },
        "outputId": "c1db1701-20f2-44cb-8ea4-75fb911fce87"
      },
      "source": [
        "# Create initial population\n",
        "P0 = [init_gene(files, all_reviewers) for i in range(0, pop_size)]\n",
        "print(\"Initial population:\", len(P0))\n",
        "\n",
        "# Generating offspring population\n",
        "Q0 = child_generate(P0)\n",
        "print(\"Offspring population:\", len(Q0))\n",
        "\n",
        "t = 0   # generation number\n",
        "P = P0\n",
        "Q = Q0\n",
        "\n",
        "while t < max_gen:   # while stopping criteria not reached\n",
        "  P.extend(Q)  # equivalent to R in sudo-code. The final population is union of parents and childs\n",
        "  N = len(P)   # number of whole population contains parents and childs that is 2*pop_size (constant number to the end of algorithm)\n",
        "\n",
        "  # Fast non-dominated sort\n",
        "  # calculate fitness values for all genes in population\n",
        "  Availability_values = [fit_avail(A, P[i]) for i in range(0, N)]\n",
        "  Expertise_values = [fit_expert(FR, P[i]) for i in range(0, N)]\n",
        "  Collaboration_values = [fit_collab(all_devs, files, all_reviewers, DR, FD, P[i]) for i in range(0, N)]\n",
        "  F = fast_non_dominated_sort(Availability_values, Expertise_values, Collaboration_values)\n",
        "\n",
        "  P_new = []    # parent population\n",
        "  i = 0\n",
        "  while len(P_new) + len(F[i]) <= N:\n",
        "    # Apply crowding distance on F[i]\n",
        "    crowding_distance_values = crowding_distance(Availability_values, Expertise_values, Collaboration_values, F[i])\n",
        "    P_new.extend(F[i])\n",
        "    i += 1\n",
        "  "
      ],
      "execution_count": null,
      "outputs": [
        {
          "output_type": "stream",
          "name": "stdout",
          "text": [
            "Initial population: 10\n",
            "Offspring population: 10\n"
          ]
        }
      ]
    },
    {
      "cell_type": "code",
      "metadata": {
        "colab": {
          "base_uri": "https://localhost:8080/"
        },
        "id": "NMz8ViM8pf7N",
        "outputId": "7622f68f-ea66-439a-a1a1-18e9110acfb6"
      },
      "source": [
        "Availability = fit_avail(A, S)\n",
        "Expertise = fit_expert(FR, S)\n",
        "Collaboration = fit_collab(all_devs, files, all_reviewers, DR, FD, S)"
      ],
      "execution_count": null,
      "outputs": [
        {
          "output_type": "stream",
          "name": "stdout",
          "text": [
            "Availability value: 5.326231691078562e-05\n",
            "Expertise value: 0.5632905982905982\n",
            "Collaboration value: 3475\n"
          ]
        }
      ]
    }
  ]
}