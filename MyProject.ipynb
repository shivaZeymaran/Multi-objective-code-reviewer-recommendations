{
  "nbformat": 4,
  "nbformat_minor": 0,
  "metadata": {
    "colab": {
      "name": "MyProject.ipynb",
      "provenance": [],
      "collapsed_sections": [
        "8J1aB34OT2vv",
        "bgCIXkyJXg43",
        "iJv6aqisdePZ",
        "VnDL2S8t4q2V",
        "pQ0OzQGlNNkI",
        "scd43oQFNoYC",
        "YWNl1pAuwtMn",
        "x4BWT4AUw06Q",
        "8FcG8-Ql0R2w",
        "5wMzpA-P0dPI",
        "pMh5l15fOKM8",
        "DiQ3eg8h3Z7c",
        "nlLVMfhDzVhg"
      ]
    },
    "kernelspec": {
      "name": "python3",
      "display_name": "Python 3"
    },
    "language_info": {
      "name": "python"
    }
  },
  "cells": [
    {
      "cell_type": "code",
      "metadata": {
        "id": "8DMH1PQiSrhi"
      },
      "source": [
        "import os\n",
        "import numpy as np\n",
        "import json\n",
        "import pandas as pd\n",
        "import datetime as DT\n",
        "import random"
      ],
      "execution_count": 48,
      "outputs": []
    },
    {
      "cell_type": "code",
      "metadata": {
        "colab": {
          "base_uri": "https://localhost:8080/"
        },
        "id": "M0sbZPFbSs_6",
        "outputId": "01810cc9-42a2-47c5-fa04-328441726449"
      },
      "source": [
        "from google.colab import drive\n",
        "drive.mount('/content/drive')"
      ],
      "execution_count": 2,
      "outputs": [
        {
          "output_type": "stream",
          "name": "stdout",
          "text": [
            "Mounted at /content/drive\n"
          ]
        }
      ]
    },
    {
      "cell_type": "markdown",
      "metadata": {
        "id": "8J1aB34OT2vv"
      },
      "source": [
        "# Get required data\n",
        "From the github repository"
      ]
    },
    {
      "cell_type": "code",
      "metadata": {
        "colab": {
          "base_uri": "https://localhost:8080/"
        },
        "id": "YncyX3P4Suzu",
        "outputId": "2afeb863-e06d-4c41-9f92-ee9caad6b16e"
      },
      "source": [
        "# Clone the entire repo.\n",
        "!git clone -l -s https://github.com/XLipcak/rev-rec.git cloned-repo"
      ],
      "execution_count": 47,
      "outputs": [
        {
          "output_type": "stream",
          "name": "stdout",
          "text": [
            "fatal: destination path 'cloned-repo' already exists and is not an empty directory.\n"
          ]
        }
      ]
    },
    {
      "cell_type": "code",
      "metadata": {
        "colab": {
          "base_uri": "https://localhost:8080/"
        },
        "id": "NUO0DfuaS8_2",
        "outputId": "b6de397b-6fcb-4b43-9397-91d147395ae9"
      },
      "source": [
        "%ls"
      ],
      "execution_count": 48,
      "outputs": [
        {
          "output_type": "stream",
          "name": "stdout",
          "text": [
            "\u001b[0m\u001b[01;34mcloned-repo\u001b[0m/  \u001b[01;34mdrive\u001b[0m/  \u001b[01;34msample_data\u001b[0m/\n"
          ]
        }
      ]
    },
    {
      "cell_type": "code",
      "metadata": {
        "colab": {
          "base_uri": "https://localhost:8080/",
          "height": 0
        },
        "id": "ovkSscBBS75P",
        "outputId": "adbbd8d4-d9b1-4960-a5e9-30a644738282"
      },
      "source": [
        "# Save OpenStack dataset\n",
        "import shutil\n",
        "src = \"/content/cloned-repo/rev-rec-data/openstack.json\"\n",
        "dst = \"/content/drive/MyDrive/Colab Notebooks/My Project/openstack.json\"\n",
        "shutil.move(src, dst)"
      ],
      "execution_count": 49,
      "outputs": [
        {
          "output_type": "error",
          "ename": "FileNotFoundError",
          "evalue": "ignored",
          "traceback": [
            "\u001b[0;31m---------------------------------------------------------------------------\u001b[0m",
            "\u001b[0;31mOSError\u001b[0m                                   Traceback (most recent call last)",
            "\u001b[0;32m/usr/lib/python3.7/shutil.py\u001b[0m in \u001b[0;36mmove\u001b[0;34m(src, dst, copy_function)\u001b[0m\n\u001b[1;32m    565\u001b[0m     \u001b[0;32mtry\u001b[0m\u001b[0;34m:\u001b[0m\u001b[0;34m\u001b[0m\u001b[0;34m\u001b[0m\u001b[0m\n\u001b[0;32m--> 566\u001b[0;31m         \u001b[0mos\u001b[0m\u001b[0;34m.\u001b[0m\u001b[0mrename\u001b[0m\u001b[0;34m(\u001b[0m\u001b[0msrc\u001b[0m\u001b[0;34m,\u001b[0m \u001b[0mreal_dst\u001b[0m\u001b[0;34m)\u001b[0m\u001b[0;34m\u001b[0m\u001b[0;34m\u001b[0m\u001b[0m\n\u001b[0m\u001b[1;32m    567\u001b[0m     \u001b[0;32mexcept\u001b[0m \u001b[0mOSError\u001b[0m\u001b[0;34m:\u001b[0m\u001b[0;34m\u001b[0m\u001b[0;34m\u001b[0m\u001b[0m\n",
            "\u001b[0;31mOSError\u001b[0m: [Errno 18] Invalid cross-device link: '/content/cloned-repo/rev-rec-data/openstack.json' -> '/content/drive/MyDrive/Colab Notebooks/My Project/openstack.json'",
            "\nDuring handling of the above exception, another exception occurred:\n",
            "\u001b[0;31mFileNotFoundError\u001b[0m                         Traceback (most recent call last)",
            "\u001b[0;32m<ipython-input-49-5148ef986175>\u001b[0m in \u001b[0;36m<module>\u001b[0;34m()\u001b[0m\n\u001b[1;32m      3\u001b[0m \u001b[0msrc\u001b[0m \u001b[0;34m=\u001b[0m \u001b[0;34m\"/content/cloned-repo/rev-rec-data/openstack.json\"\u001b[0m\u001b[0;34m\u001b[0m\u001b[0;34m\u001b[0m\u001b[0m\n\u001b[1;32m      4\u001b[0m \u001b[0mdst\u001b[0m \u001b[0;34m=\u001b[0m \u001b[0;34m\"/content/drive/MyDrive/Colab Notebooks/My Project/openstack.json\"\u001b[0m\u001b[0;34m\u001b[0m\u001b[0;34m\u001b[0m\u001b[0m\n\u001b[0;32m----> 5\u001b[0;31m \u001b[0mshutil\u001b[0m\u001b[0;34m.\u001b[0m\u001b[0mmove\u001b[0m\u001b[0;34m(\u001b[0m\u001b[0msrc\u001b[0m\u001b[0;34m,\u001b[0m \u001b[0mdst\u001b[0m\u001b[0;34m)\u001b[0m\u001b[0;34m\u001b[0m\u001b[0;34m\u001b[0m\u001b[0m\n\u001b[0m",
            "\u001b[0;32m/usr/lib/python3.7/shutil.py\u001b[0m in \u001b[0;36mmove\u001b[0;34m(src, dst, copy_function)\u001b[0m\n\u001b[1;32m    578\u001b[0m             \u001b[0mrmtree\u001b[0m\u001b[0;34m(\u001b[0m\u001b[0msrc\u001b[0m\u001b[0;34m)\u001b[0m\u001b[0;34m\u001b[0m\u001b[0;34m\u001b[0m\u001b[0m\n\u001b[1;32m    579\u001b[0m         \u001b[0;32melse\u001b[0m\u001b[0;34m:\u001b[0m\u001b[0;34m\u001b[0m\u001b[0;34m\u001b[0m\u001b[0m\n\u001b[0;32m--> 580\u001b[0;31m             \u001b[0mcopy_function\u001b[0m\u001b[0;34m(\u001b[0m\u001b[0msrc\u001b[0m\u001b[0;34m,\u001b[0m \u001b[0mreal_dst\u001b[0m\u001b[0;34m)\u001b[0m\u001b[0;34m\u001b[0m\u001b[0;34m\u001b[0m\u001b[0m\n\u001b[0m\u001b[1;32m    581\u001b[0m             \u001b[0mos\u001b[0m\u001b[0;34m.\u001b[0m\u001b[0munlink\u001b[0m\u001b[0;34m(\u001b[0m\u001b[0msrc\u001b[0m\u001b[0;34m)\u001b[0m\u001b[0;34m\u001b[0m\u001b[0;34m\u001b[0m\u001b[0m\n\u001b[1;32m    582\u001b[0m     \u001b[0;32mreturn\u001b[0m \u001b[0mreal_dst\u001b[0m\u001b[0;34m\u001b[0m\u001b[0;34m\u001b[0m\u001b[0m\n",
            "\u001b[0;32m/usr/lib/python3.7/shutil.py\u001b[0m in \u001b[0;36mcopy2\u001b[0;34m(src, dst, follow_symlinks)\u001b[0m\n\u001b[1;32m    264\u001b[0m     \u001b[0;32mif\u001b[0m \u001b[0mos\u001b[0m\u001b[0;34m.\u001b[0m\u001b[0mpath\u001b[0m\u001b[0;34m.\u001b[0m\u001b[0misdir\u001b[0m\u001b[0;34m(\u001b[0m\u001b[0mdst\u001b[0m\u001b[0;34m)\u001b[0m\u001b[0;34m:\u001b[0m\u001b[0;34m\u001b[0m\u001b[0;34m\u001b[0m\u001b[0m\n\u001b[1;32m    265\u001b[0m         \u001b[0mdst\u001b[0m \u001b[0;34m=\u001b[0m \u001b[0mos\u001b[0m\u001b[0;34m.\u001b[0m\u001b[0mpath\u001b[0m\u001b[0;34m.\u001b[0m\u001b[0mjoin\u001b[0m\u001b[0;34m(\u001b[0m\u001b[0mdst\u001b[0m\u001b[0;34m,\u001b[0m \u001b[0mos\u001b[0m\u001b[0;34m.\u001b[0m\u001b[0mpath\u001b[0m\u001b[0;34m.\u001b[0m\u001b[0mbasename\u001b[0m\u001b[0;34m(\u001b[0m\u001b[0msrc\u001b[0m\u001b[0;34m)\u001b[0m\u001b[0;34m)\u001b[0m\u001b[0;34m\u001b[0m\u001b[0;34m\u001b[0m\u001b[0m\n\u001b[0;32m--> 266\u001b[0;31m     \u001b[0mcopyfile\u001b[0m\u001b[0;34m(\u001b[0m\u001b[0msrc\u001b[0m\u001b[0;34m,\u001b[0m \u001b[0mdst\u001b[0m\u001b[0;34m,\u001b[0m \u001b[0mfollow_symlinks\u001b[0m\u001b[0;34m=\u001b[0m\u001b[0mfollow_symlinks\u001b[0m\u001b[0;34m)\u001b[0m\u001b[0;34m\u001b[0m\u001b[0;34m\u001b[0m\u001b[0m\n\u001b[0m\u001b[1;32m    267\u001b[0m     \u001b[0mcopystat\u001b[0m\u001b[0;34m(\u001b[0m\u001b[0msrc\u001b[0m\u001b[0;34m,\u001b[0m \u001b[0mdst\u001b[0m\u001b[0;34m,\u001b[0m \u001b[0mfollow_symlinks\u001b[0m\u001b[0;34m=\u001b[0m\u001b[0mfollow_symlinks\u001b[0m\u001b[0;34m)\u001b[0m\u001b[0;34m\u001b[0m\u001b[0;34m\u001b[0m\u001b[0m\n\u001b[1;32m    268\u001b[0m     \u001b[0;32mreturn\u001b[0m \u001b[0mdst\u001b[0m\u001b[0;34m\u001b[0m\u001b[0;34m\u001b[0m\u001b[0m\n",
            "\u001b[0;32m/usr/lib/python3.7/shutil.py\u001b[0m in \u001b[0;36mcopyfile\u001b[0;34m(src, dst, follow_symlinks)\u001b[0m\n\u001b[1;32m    118\u001b[0m         \u001b[0mos\u001b[0m\u001b[0;34m.\u001b[0m\u001b[0msymlink\u001b[0m\u001b[0;34m(\u001b[0m\u001b[0mos\u001b[0m\u001b[0;34m.\u001b[0m\u001b[0mreadlink\u001b[0m\u001b[0;34m(\u001b[0m\u001b[0msrc\u001b[0m\u001b[0;34m)\u001b[0m\u001b[0;34m,\u001b[0m \u001b[0mdst\u001b[0m\u001b[0;34m)\u001b[0m\u001b[0;34m\u001b[0m\u001b[0;34m\u001b[0m\u001b[0m\n\u001b[1;32m    119\u001b[0m     \u001b[0;32melse\u001b[0m\u001b[0;34m:\u001b[0m\u001b[0;34m\u001b[0m\u001b[0;34m\u001b[0m\u001b[0m\n\u001b[0;32m--> 120\u001b[0;31m         \u001b[0;32mwith\u001b[0m \u001b[0mopen\u001b[0m\u001b[0;34m(\u001b[0m\u001b[0msrc\u001b[0m\u001b[0;34m,\u001b[0m \u001b[0;34m'rb'\u001b[0m\u001b[0;34m)\u001b[0m \u001b[0;32mas\u001b[0m \u001b[0mfsrc\u001b[0m\u001b[0;34m:\u001b[0m\u001b[0;34m\u001b[0m\u001b[0;34m\u001b[0m\u001b[0m\n\u001b[0m\u001b[1;32m    121\u001b[0m             \u001b[0;32mwith\u001b[0m \u001b[0mopen\u001b[0m\u001b[0;34m(\u001b[0m\u001b[0mdst\u001b[0m\u001b[0;34m,\u001b[0m \u001b[0;34m'wb'\u001b[0m\u001b[0;34m)\u001b[0m \u001b[0;32mas\u001b[0m \u001b[0mfdst\u001b[0m\u001b[0;34m:\u001b[0m\u001b[0;34m\u001b[0m\u001b[0;34m\u001b[0m\u001b[0m\n\u001b[1;32m    122\u001b[0m                 \u001b[0mcopyfileobj\u001b[0m\u001b[0;34m(\u001b[0m\u001b[0mfsrc\u001b[0m\u001b[0;34m,\u001b[0m \u001b[0mfdst\u001b[0m\u001b[0;34m)\u001b[0m\u001b[0;34m\u001b[0m\u001b[0;34m\u001b[0m\u001b[0m\n",
            "\u001b[0;31mFileNotFoundError\u001b[0m: [Errno 2] No such file or directory: '/content/cloned-repo/rev-rec-data/openstack.json'"
          ]
        }
      ]
    },
    {
      "cell_type": "markdown",
      "metadata": {
        "id": "bgCIXkyJXg43"
      },
      "source": [
        "# Read json file"
      ]
    },
    {
      "cell_type": "code",
      "metadata": {
        "colab": {
          "base_uri": "https://localhost:8080/"
        },
        "id": "HYaj-H2BTHN2",
        "outputId": "9a7ac528-bd26-41bc-e179-aa3beb223205"
      },
      "source": [
        "f = open('/content/drive/MyDrive/Colab Notebooks/My Project/openstack.json',)\n",
        "data = json.load(f)  # returns json object as a dictionary\n",
        "for i in range(5):   # 5 first elements of the json list\n",
        "    print(data[i])\n",
        "f.close()"
      ],
      "execution_count": 110,
      "outputs": [
        {
          "output_type": "stream",
          "name": "stdout",
          "text": [
            "{'subProject': 'openstack/tempest', 'changeId': 'I9e7b9a2491d6a3f01d71551e4cadcccf154d992d', 'changeNumber': 6139, 'timestamp': 1333428006000, 'reviewers': [{'accountId': '97', 'email': 'daryl.walleck@rackspace.com', 'name': 'Daryl Walleck', 'avatar': None}, {'accountId': '7', 'email': 'jaypipes@gmail.com', 'name': 'Jay Pipes', 'avatar': None}], 'owner': {'accountId': '2238', 'email': 'rajalakshmi.girish@hpe.com', 'name': 'rajalakshmi-ganesan', 'avatar': None}, 'filePaths': [{'location': 'tempest/tests/test_volumes_get.py'}]}\n",
            "{'subProject': 'openstack/tempest', 'changeId': 'I10e7116570f922ec87e23b1f880cd4b1c08c3088', 'changeNumber': 7438, 'timestamp': 1337072165000, 'reviewers': [{'accountId': '97', 'email': 'daryl.walleck@rackspace.com', 'name': 'Daryl Walleck', 'avatar': None}, {'accountId': '7', 'email': 'jaypipes@gmail.com', 'name': 'Jay Pipes', 'avatar': None}], 'owner': {'accountId': '4120', 'email': 'rohit.karajgi@ril.com', 'name': 'Rohit Karajgi', 'avatar': None}, 'filePaths': [{'location': 'tempest/tests/identity/test_roles.py'}, {'location': 'tempest/services/identity/json/admin_client.py'}, {'location': 'tempest/tests/identity/base_admin_test.py'}]}\n",
            "{'subProject': 'openstack/nova', 'changeId': 'I1d0c395cf679e07e304dd878d97734307b685f4c', 'changeNumber': 7951, 'timestamp': 1338410316000, 'reviewers': [{'accountId': '679', 'email': 'klmitch@mit.edu', 'name': 'Kevin L. Mitchell', 'avatar': None}, {'accountId': '1561', 'email': 'rbryant@redhat.com', 'name': 'Russell Bryant', 'avatar': None}], 'owner': {'accountId': '1849', 'email': 'joe.gordon0@gmail.com', 'name': 'Joe Gordon', 'avatar': None}, 'filePaths': [{'location': '.gitignore'}]}\n",
            "{'subProject': 'openstack/nova', 'changeId': 'Ia151f265bf62e6704de6cc2f2c01963be9e2dd69', 'changeNumber': 7765, 'timestamp': 1337879042000, 'reviewers': [{'accountId': '1561', 'email': 'rbryant@redhat.com', 'name': 'Russell Bryant', 'avatar': None}, {'accountId': '357', 'email': 'devin@openstack.org', 'name': 'Devin Carlen', 'avatar': None}], 'owner': {'accountId': '1849', 'email': 'joe.gordon0@gmail.com', 'name': 'Joe Gordon', 'avatar': None}, 'filePaths': [{'location': 'tools/hacking.py'}]}\n",
            "{'subProject': 'openstack/nova', 'changeId': 'Ie4cfec6f89d6b37554b5345cde92f982397915e2', 'changeNumber': 7807, 'timestamp': 1337967413000, 'reviewers': [{'accountId': '1561', 'email': 'rbryant@redhat.com', 'name': 'Russell Bryant', 'avatar': None}, {'accountId': '357', 'email': 'devin@openstack.org', 'name': 'Devin Carlen', 'avatar': None}], 'owner': {'accountId': '2', 'email': 'mordred@inaugust.com', 'name': 'Monty Taylor', 'avatar': None}, 'filePaths': [{'location': 'tox.ini'}]}\n"
          ]
        }
      ]
    },
    {
      "cell_type": "markdown",
      "metadata": {
        "id": "iJv6aqisdePZ"
      },
      "source": [
        "## Hands on with given data"
      ]
    },
    {
      "cell_type": "code",
      "metadata": {
        "id": "m7AGHyP4ZAZH",
        "colab": {
          "base_uri": "https://localhost:8080/"
        },
        "outputId": "392c8c04-9b1c-4731-fcb2-f630c943be41"
      },
      "source": [
        "type(data)"
      ],
      "execution_count": 111,
      "outputs": [
        {
          "output_type": "execute_result",
          "data": {
            "text/plain": [
              "list"
            ]
          },
          "metadata": {},
          "execution_count": 111
        }
      ]
    },
    {
      "cell_type": "code",
      "metadata": {
        "colab": {
          "base_uri": "https://localhost:8080/"
        },
        "id": "rT6NArSMZ2hB",
        "outputId": "ac2af89e-15ab-422d-f254-43befd92af2d"
      },
      "source": [
        "len(data)"
      ],
      "execution_count": 112,
      "outputs": [
        {
          "output_type": "execute_result",
          "data": {
            "text/plain": [
              "6545"
            ]
          },
          "metadata": {},
          "execution_count": 112
        }
      ]
    },
    {
      "cell_type": "code",
      "metadata": {
        "colab": {
          "base_uri": "https://localhost:8080/"
        },
        "id": "6zyDNbX2Z9k_",
        "outputId": "d5ba173a-db3f-4685-88a7-fa4a9f0bcb25"
      },
      "source": [
        "# get an element of the list of data\n",
        "data[0]"
      ],
      "execution_count": 113,
      "outputs": [
        {
          "output_type": "execute_result",
          "data": {
            "text/plain": [
              "{'changeId': 'I9e7b9a2491d6a3f01d71551e4cadcccf154d992d',\n",
              " 'changeNumber': 6139,\n",
              " 'filePaths': [{'location': 'tempest/tests/test_volumes_get.py'}],\n",
              " 'owner': {'accountId': '2238',\n",
              "  'avatar': None,\n",
              "  'email': 'rajalakshmi.girish@hpe.com',\n",
              "  'name': 'rajalakshmi-ganesan'},\n",
              " 'reviewers': [{'accountId': '97',\n",
              "   'avatar': None,\n",
              "   'email': 'daryl.walleck@rackspace.com',\n",
              "   'name': 'Daryl Walleck'},\n",
              "  {'accountId': '7',\n",
              "   'avatar': None,\n",
              "   'email': 'jaypipes@gmail.com',\n",
              "   'name': 'Jay Pipes'}],\n",
              " 'subProject': 'openstack/tempest',\n",
              " 'timestamp': 1333428006000}"
            ]
          },
          "metadata": {},
          "execution_count": 113
        }
      ]
    },
    {
      "cell_type": "code",
      "metadata": {
        "colab": {
          "base_uri": "https://localhost:8080/"
        },
        "id": "FwVmnNz6aQQY",
        "outputId": "d02e5f83-304c-486a-8b02-997219880753"
      },
      "source": [
        "# read a single feature of an element\n",
        "data[0]['reviewers']"
      ],
      "execution_count": 114,
      "outputs": [
        {
          "output_type": "execute_result",
          "data": {
            "text/plain": [
              "[{'accountId': '97',\n",
              "  'avatar': None,\n",
              "  'email': 'daryl.walleck@rackspace.com',\n",
              "  'name': 'Daryl Walleck'},\n",
              " {'accountId': '7',\n",
              "  'avatar': None,\n",
              "  'email': 'jaypipes@gmail.com',\n",
              "  'name': 'Jay Pipes'}]"
            ]
          },
          "metadata": {},
          "execution_count": 114
        }
      ]
    },
    {
      "cell_type": "markdown",
      "metadata": {
        "id": "VnDL2S8t4q2V"
      },
      "source": [
        "## Cleaning data"
      ]
    },
    {
      "cell_type": "code",
      "metadata": {
        "colab": {
          "base_uri": "https://localhost:8080/"
        },
        "id": "mcqqHao6eqFR",
        "outputId": "8688fa1b-0d64-4cc6-e1b0-f0395a623ffe"
      },
      "source": [
        "# Extract and save desired features from each pull request. The new desired data is new_data\n",
        "new_data = []\n",
        "\n",
        "for i in range(0, len(data)):\n",
        "  elem_dict = {\"changeId\":data[i]['changeId'], \"reviewers\":data[i]['reviewers'], \"owner\":data[i]['owner'], \"filePaths\":data[i]['filePaths'], \"time\":data[i]['timestamp']}\n",
        "  new_data.append(elem_dict)\n",
        "  # print(new_data[i])\n",
        "\n",
        "print(len(new_data))"
      ],
      "execution_count": 115,
      "outputs": [
        {
          "output_type": "stream",
          "name": "stdout",
          "text": [
            "6545\n"
          ]
        }
      ]
    },
    {
      "cell_type": "code",
      "metadata": {
        "colab": {
          "base_uri": "https://localhost:8080/"
        },
        "id": "YVBJ2Q1n62P2",
        "outputId": "af054d01-67be-403f-858c-4def4f348f40"
      },
      "source": [
        "new_data[0]"
      ],
      "execution_count": 116,
      "outputs": [
        {
          "output_type": "execute_result",
          "data": {
            "text/plain": [
              "{'changeId': 'I9e7b9a2491d6a3f01d71551e4cadcccf154d992d',\n",
              " 'filePaths': [{'location': 'tempest/tests/test_volumes_get.py'}],\n",
              " 'owner': {'accountId': '2238',\n",
              "  'avatar': None,\n",
              "  'email': 'rajalakshmi.girish@hpe.com',\n",
              "  'name': 'rajalakshmi-ganesan'},\n",
              " 'reviewers': [{'accountId': '97',\n",
              "   'avatar': None,\n",
              "   'email': 'daryl.walleck@rackspace.com',\n",
              "   'name': 'Daryl Walleck'},\n",
              "  {'accountId': '7',\n",
              "   'avatar': None,\n",
              "   'email': 'jaypipes@gmail.com',\n",
              "   'name': 'Jay Pipes'}],\n",
              " 'time': 1333428006000}"
            ]
          },
          "metadata": {},
          "execution_count": 116
        }
      ]
    },
    {
      "cell_type": "code",
      "metadata": {
        "colab": {
          "base_uri": "https://localhost:8080/"
        },
        "id": "g1jslJtq759N",
        "outputId": "a59c3e84-7806-44e0-8cef-881eb35edb40"
      },
      "source": [
        "# Remove remaining undesired features. The final desired information is saved in final_data\n",
        "final_data = []\n",
        "\n",
        "for i in range(0, len(new_data)):\n",
        "  elem_dict = {\"time\":new_data[i]['time'], \"changeId\":new_data[i]['changeId'], \"ownerId\": new_data[i]['owner']['accountId'], \"reviewersId\":[], \"filePaths\":[]}\n",
        "\n",
        "  for j in range(0, len(new_data[i]['reviewers'])):\n",
        "    elem_dict[\"reviewersId\"].append(new_data[i]['reviewers'][j]['accountId'])\n",
        "\n",
        "  for j in range(0, len(new_data[i]['filePaths'])):\n",
        "    elem_dict[\"filePaths\"].append(new_data[i]['filePaths'][j]['location'])\n",
        "  \n",
        "  final_data.append(elem_dict)\n",
        "  # print(final_data[i])\n",
        "\n",
        "print(len(final_data))"
      ],
      "execution_count": 117,
      "outputs": [
        {
          "output_type": "stream",
          "name": "stdout",
          "text": [
            "6545\n"
          ]
        }
      ]
    },
    {
      "cell_type": "code",
      "metadata": {
        "colab": {
          "base_uri": "https://localhost:8080/"
        },
        "id": "RVK0wQRC_mMI",
        "outputId": "adf20710-bcf1-47dd-fe09-1b651d59521e"
      },
      "source": [
        "final_data[0]"
      ],
      "execution_count": 118,
      "outputs": [
        {
          "output_type": "execute_result",
          "data": {
            "text/plain": [
              "{'changeId': 'I9e7b9a2491d6a3f01d71551e4cadcccf154d992d',\n",
              " 'filePaths': ['tempest/tests/test_volumes_get.py'],\n",
              " 'ownerId': '2238',\n",
              " 'reviewersId': ['97', '7'],\n",
              " 'time': 1333428006000}"
            ]
          },
          "metadata": {},
          "execution_count": 118
        }
      ]
    },
    {
      "cell_type": "code",
      "metadata": {
        "id": "Ebjq1N8RJ_YR"
      },
      "source": [
        "# change timestamp value from int to date format\n",
        "from datetime import datetime\n",
        "\n",
        "for pr in final_data:\n",
        "  timestamp = int(pr['time']/1000)  # removing the 3 last zero digits \n",
        "  dt_obj = datetime.fromtimestamp(timestamp) \n",
        "  pr['time'] = dt_obj"
      ],
      "execution_count": 119,
      "outputs": []
    },
    {
      "cell_type": "code",
      "metadata": {
        "colab": {
          "base_uri": "https://localhost:8080/"
        },
        "id": "ofFuDQxFK6sy",
        "outputId": "d463bf40-69fe-4ebb-c977-f9a04cde6be5"
      },
      "source": [
        "final_data[0]"
      ],
      "execution_count": 120,
      "outputs": [
        {
          "output_type": "execute_result",
          "data": {
            "text/plain": [
              "{'changeId': 'I9e7b9a2491d6a3f01d71551e4cadcccf154d992d',\n",
              " 'filePaths': ['tempest/tests/test_volumes_get.py'],\n",
              " 'ownerId': '2238',\n",
              " 'reviewersId': ['97', '7'],\n",
              " 'time': datetime.datetime(2012, 4, 3, 4, 40, 6)}"
            ]
          },
          "metadata": {},
          "execution_count": 120
        }
      ]
    },
    {
      "cell_type": "code",
      "metadata": {
        "colab": {
          "base_uri": "https://localhost:8080/"
        },
        "id": "enh50GDlvdg4",
        "outputId": "4c4d3499-db67-4ede-b8dd-250f5d58053f"
      },
      "source": [
        "# sort data by time\n",
        "sorted_data = sorted(final_data, key=lambda d: d['time'])\n",
        "\n",
        "# Get the Time of available data from selected project\n",
        "print(\"Start date:\", sorted_data[0]['time'])\n",
        "print(\"End date:\", sorted_data[-1]['time'])"
      ],
      "execution_count": 121,
      "outputs": [
        {
          "output_type": "stream",
          "name": "stdout",
          "text": [
            "Start date: 2011-07-18 15:43:34\n",
            "End date: 2012-05-30 21:39:57\n"
          ]
        }
      ]
    },
    {
      "cell_type": "markdown",
      "metadata": {
        "id": "2BqZjVtrwpj9"
      },
      "source": [
        "The openstack data that we use in here, containes about 10 months information of openstack project (2011-2012)"
      ]
    },
    {
      "cell_type": "code",
      "metadata": {
        "colab": {
          "base_uri": "https://localhost:8080/"
        },
        "id": "eFmjc100GumD",
        "outputId": "8322df3e-baff-49ec-b350-95980668e06b"
      },
      "source": [
        "type(sorted_data)"
      ],
      "execution_count": 122,
      "outputs": [
        {
          "output_type": "execute_result",
          "data": {
            "text/plain": [
              "list"
            ]
          },
          "metadata": {},
          "execution_count": 122
        }
      ]
    },
    {
      "cell_type": "code",
      "metadata": {
        "id": "BNTdHBiGI3EP"
      },
      "source": [
        "# Convert list to json\n",
        "# It should be a string before write it to file\n",
        "# \"default\" is added to dumps to make anything not serializable for JSON to string format (like datatime) \n",
        "json_string = json.dumps(sorted_data, default=str) \n",
        "\n",
        "# Save OpenStack new dataset\n",
        "file = open('openstack_final.json', 'w')\n",
        "file.write(json_string)\n",
        "file.close()"
      ],
      "execution_count": 123,
      "outputs": []
    },
    {
      "cell_type": "code",
      "metadata": {
        "colab": {
          "base_uri": "https://localhost:8080/",
          "height": 0
        },
        "id": "BGjuswdSJKrP",
        "outputId": "93115631-29e3-4318-851b-742ad5220a75"
      },
      "source": [
        "# Move OpenStack dataset to proper location\n",
        "import shutil\n",
        "\n",
        "src = \"./openstack_final.json\"\n",
        "dst = \"/content/drive/MyDrive/Colab Notebooks/My Project/openstack_final.json\"\n",
        "shutil.move(src, dst)"
      ],
      "execution_count": 124,
      "outputs": [
        {
          "output_type": "execute_result",
          "data": {
            "application/vnd.google.colaboratory.intrinsic+json": {
              "type": "string"
            },
            "text/plain": [
              "'/content/drive/MyDrive/Colab Notebooks/My Project/openstack_final.json'"
            ]
          },
          "metadata": {},
          "execution_count": 124
        }
      ]
    },
    {
      "cell_type": "markdown",
      "metadata": {
        "id": "OrepSN13fjWp"
      },
      "source": [
        "# Approach\n",
        "\n",
        "Should run the code each time from this part"
      ]
    },
    {
      "cell_type": "markdown",
      "metadata": {
        "id": "pQ0OzQGlNNkI"
      },
      "source": [
        "## Load final data and split"
      ]
    },
    {
      "cell_type": "code",
      "metadata": {
        "colab": {
          "base_uri": "https://localhost:8080/"
        },
        "id": "AuIchz87KTA4",
        "outputId": "9465f8e4-a4fb-4dc5-91d1-286e78d7b768"
      },
      "source": [
        "# Load final data from drive\n",
        "f = open('/content/drive/MyDrive/Colab Notebooks/My Project/openstack_final.json',)\n",
        "data = json.load(f)  # returns json object as a dictionary\n",
        "for i in range(5):   # 5 first elements of the json list\n",
        "    print(data[i])\n",
        "f.close()"
      ],
      "execution_count": 3,
      "outputs": [
        {
          "output_type": "stream",
          "name": "stdout",
          "text": [
            "{'time': '2011-07-18 15:43:34', 'changeId': 'Ibb2f047c9c45d011361d253d4444b2fd1ebd3612', 'ownerId': '1', 'reviewersId': ['2'], 'filePaths': ['modules/ssh/files/sshd_config', 'manifests/server.pp', 'modules/ssh/manifests/init.pp']}\n",
            "{'time': '2011-07-18 16:56:22', 'changeId': 'Iea32ad3aedbee996db53655842061d14c9e3d876', 'ownerId': '1', 'reviewersId': ['1'], 'filePaths': ['modules/jenkins_slave/manifests/jenkinsuser.pp', 'modules/jenkins_slave/files/known_hosts']}\n",
            "{'time': '2011-07-18 17:14:05', 'changeId': 'Ib6af08a6af71a6e5853d958a12f63c381eafa039', 'ownerId': '1', 'reviewersId': ['1'], 'filePaths': ['modules/jenkins_slave/manifests/jenkinsuser.pp']}\n",
            "{'time': '2011-07-20 14:37:53', 'changeId': 'Ide7975c522b6b31a23af67b135135c07d75d9bde', 'ownerId': '2', 'reviewersId': ['1'], 'filePaths': ['modules/jenkins_slave/files/pubring.gpg', 'modules/jenkins_slave/manifests/jenkinsuser.pp']}\n",
            "{'time': '2011-07-20 15:12:47', 'changeId': 'I28119ac1735127812866a4b0519368a829e2e666', 'ownerId': '2', 'reviewersId': ['1'], 'filePaths': ['manifests/openstack_ci.pp']}\n"
          ]
        }
      ]
    },
    {
      "cell_type": "code",
      "metadata": {
        "colab": {
          "base_uri": "https://localhost:8080/"
        },
        "id": "KjDt8F7B8uGj",
        "outputId": "1ff54a7e-016b-4753-c19f-65d3d0993367"
      },
      "source": [
        "# convert times to datetime format\n",
        "from dateutil import parser\n",
        "\n",
        "for pr in data:\n",
        "  pr['time'] = parser.parse(pr['time'])\n",
        "\n",
        "data[0]"
      ],
      "execution_count": 4,
      "outputs": [
        {
          "output_type": "execute_result",
          "data": {
            "text/plain": [
              "{'changeId': 'Ibb2f047c9c45d011361d253d4444b2fd1ebd3612',\n",
              " 'filePaths': ['modules/ssh/files/sshd_config',\n",
              "  'manifests/server.pp',\n",
              "  'modules/ssh/manifests/init.pp'],\n",
              " 'ownerId': '1',\n",
              " 'reviewersId': ['2'],\n",
              " 'time': datetime.datetime(2011, 7, 18, 15, 43, 34)}"
            ]
          },
          "metadata": {},
          "execution_count": 4
        }
      ]
    },
    {
      "cell_type": "code",
      "metadata": {
        "colab": {
          "base_uri": "https://localhost:8080/"
        },
        "id": "k_-nzsBuizst",
        "outputId": "1927685e-a145-469e-d328-3eb1ec64accc"
      },
      "source": [
        "# Number of files in whole data\n",
        "all_files = set()   # make a \"set\" of all file paths\n",
        "max_file = 0\n",
        "\n",
        "for pr in data:\n",
        "  num_file = 0\n",
        "  for f in pr['filePaths']:\n",
        "    all_files.add(f)\n",
        "    num_file += 1\n",
        "  if num_file > max_file:\n",
        "    max_file = num_file\n",
        "\n",
        "print(\"Total number of files in dataset:\", len(all_files))\n",
        "print(\"Maximum number of files in a PR:\", max_file)"
      ],
      "execution_count": 5,
      "outputs": [
        {
          "output_type": "stream",
          "name": "stdout",
          "text": [
            "Total number of files in dataset: 11421\n",
            "Maximum number of files in a PR: 1757\n"
          ]
        }
      ]
    },
    {
      "cell_type": "code",
      "metadata": {
        "colab": {
          "base_uri": "https://localhost:8080/"
        },
        "id": "c1wigISqjI1u",
        "outputId": "c87a151c-9397-45e3-e63f-eb56fc736958"
      },
      "source": [
        "# Number of reviewers in whole data\n",
        "all_reviewers = set()   # make a set of all reviewers\n",
        "for pr in data:\n",
        "  for r in pr['reviewersId']:\n",
        "    all_reviewers.add(r)\n",
        "\n",
        "len(all_reviewers)"
      ],
      "execution_count": 6,
      "outputs": [
        {
          "output_type": "execute_result",
          "data": {
            "text/plain": [
              "82"
            ]
          },
          "metadata": {},
          "execution_count": 6
        }
      ]
    },
    {
      "cell_type": "code",
      "metadata": {
        "colab": {
          "base_uri": "https://localhost:8080/"
        },
        "id": "O--ZnJJr26mB",
        "outputId": "15670ebe-1020-4f1e-a7f9-65d12ee0f605"
      },
      "source": [
        "# Number of developers in whole data\n",
        "all_devs = set()   # make a \"set\" of all developers\n",
        "for pr in data:\n",
        "  all_devs.add(pr['ownerId'])\n",
        "\n",
        "len(all_devs)"
      ],
      "execution_count": 7,
      "outputs": [
        {
          "output_type": "execute_result",
          "data": {
            "text/plain": [
              "324"
            ]
          },
          "metadata": {},
          "execution_count": 7
        }
      ]
    },
    {
      "cell_type": "code",
      "metadata": {
        "id": "ZUlPf94X0AxZ"
      },
      "source": [
        "# Split data for train/test sets\n",
        "init_train = data[0:5900]     # 90% of data is for initial train set (5900 PR)\n",
        "total_test = data[5900:6545]  # 10% of data will be tested in the whole examination (645 PR)"
      ],
      "execution_count": 8,
      "outputs": []
    },
    {
      "cell_type": "markdown",
      "metadata": {
        "id": "Slk7yWpWfrdw"
      },
      "source": [
        "## Main components of the approach\n",
        "Extract 3 interaction metrices"
      ]
    },
    {
      "cell_type": "code",
      "metadata": {
        "id": "ipbFwOuIdpss"
      },
      "source": [
        "# temporary\n",
        "train = init_train\n",
        "test = data[5900]"
      ],
      "execution_count": 9,
      "outputs": []
    },
    {
      "cell_type": "code",
      "metadata": {
        "colab": {
          "base_uri": "https://localhost:8080/"
        },
        "id": "zeohTrG9kTQd",
        "outputId": "e6a61cc1-18a2-4231-f1c6-fb61e74d4606"
      },
      "source": [
        "test"
      ],
      "execution_count": 10,
      "outputs": [
        {
          "output_type": "execute_result",
          "data": {
            "text/plain": [
              "{'changeId': 'I38787d4c3e3f2896fdc349d6f7817d3ef78cc2a5',\n",
              " 'filePaths': ['nova/tests/test_migrations.py'],\n",
              " 'ownerId': '2835',\n",
              " 'reviewersId': ['616', '100'],\n",
              " 'time': datetime.datetime(2012, 5, 3, 21, 32, 38)}"
            ]
          },
          "metadata": {},
          "execution_count": 10
        }
      ]
    },
    {
      "cell_type": "markdown",
      "metadata": {
        "id": "scd43oQFNoYC"
      },
      "source": [
        "### Reviewer's **expertise** model"
      ]
    },
    {
      "cell_type": "markdown",
      "metadata": {
        "id": "YWNl1pAuwtMn"
      },
      "source": [
        "#### step by step"
      ]
    },
    {
      "cell_type": "code",
      "metadata": {
        "colab": {
          "base_uri": "https://localhost:8080/"
        },
        "id": "d962H1N7bAJb",
        "outputId": "9627aa66-b4ff-4b2d-fee9-db9f78f13c81"
      },
      "source": [
        "files = set()   # make a \"set\" of file paths. we selected set to ensure not collecting repeated files\n",
        "\n",
        "for f in test['filePaths']:\n",
        "  files.add(f)\n",
        "\n",
        "len(files)"
      ],
      "execution_count": 18,
      "outputs": [
        {
          "output_type": "execute_result",
          "data": {
            "text/plain": [
              "1"
            ]
          },
          "metadata": {},
          "execution_count": 18
        }
      ]
    },
    {
      "cell_type": "code",
      "metadata": {
        "colab": {
          "base_uri": "https://localhost:8080/"
        },
        "id": "RVJH5Ihyelos",
        "outputId": "c0c9a274-aa96-49e4-e6fb-dea43a94f141"
      },
      "source": [
        "all_reviewers = set()   # make a set of all reviewers\n",
        "for pr in train:\n",
        "  for r in pr['reviewersId']:\n",
        "    all_reviewers.add(r)\n",
        "\n",
        "len(all_reviewers)"
      ],
      "execution_count": 19,
      "outputs": [
        {
          "output_type": "execute_result",
          "data": {
            "text/plain": [
              "78"
            ]
          },
          "metadata": {},
          "execution_count": 19
        }
      ]
    },
    {
      "cell_type": "code",
      "metadata": {
        "colab": {
          "base_uri": "https://localhost:8080/",
          "height": 81
        },
        "id": "wDyhyvjAfKr8",
        "outputId": "d4393792-f347-4263-fa74-fce733ca06db"
      },
      "source": [
        "# create a dataframe that its first column is all existing files\n",
        "df = pd.DataFrame(files)\n",
        "df.head()"
      ],
      "execution_count": 20,
      "outputs": [
        {
          "output_type": "execute_result",
          "data": {
            "text/html": [
              "<div>\n",
              "<style scoped>\n",
              "    .dataframe tbody tr th:only-of-type {\n",
              "        vertical-align: middle;\n",
              "    }\n",
              "\n",
              "    .dataframe tbody tr th {\n",
              "        vertical-align: top;\n",
              "    }\n",
              "\n",
              "    .dataframe thead th {\n",
              "        text-align: right;\n",
              "    }\n",
              "</style>\n",
              "<table border=\"1\" class=\"dataframe\">\n",
              "  <thead>\n",
              "    <tr style=\"text-align: right;\">\n",
              "      <th></th>\n",
              "      <th>0</th>\n",
              "    </tr>\n",
              "  </thead>\n",
              "  <tbody>\n",
              "    <tr>\n",
              "      <th>0</th>\n",
              "      <td>nova/tests/test_migrations.py</td>\n",
              "    </tr>\n",
              "  </tbody>\n",
              "</table>\n",
              "</div>"
            ],
            "text/plain": [
              "                               0\n",
              "0  nova/tests/test_migrations.py"
            ]
          },
          "metadata": {},
          "execution_count": 20
        }
      ]
    },
    {
      "cell_type": "code",
      "metadata": {
        "colab": {
          "base_uri": "https://localhost:8080/",
          "height": 81
        },
        "id": "jE0GaeuTgToU",
        "outputId": "c0c7d250-acd6-4e1c-a415-3feb20354d83"
      },
      "source": [
        "df = df.rename(columns={0:'file'})\n",
        "df.head()"
      ],
      "execution_count": 21,
      "outputs": [
        {
          "output_type": "execute_result",
          "data": {
            "text/html": [
              "<div>\n",
              "<style scoped>\n",
              "    .dataframe tbody tr th:only-of-type {\n",
              "        vertical-align: middle;\n",
              "    }\n",
              "\n",
              "    .dataframe tbody tr th {\n",
              "        vertical-align: top;\n",
              "    }\n",
              "\n",
              "    .dataframe thead th {\n",
              "        text-align: right;\n",
              "    }\n",
              "</style>\n",
              "<table border=\"1\" class=\"dataframe\">\n",
              "  <thead>\n",
              "    <tr style=\"text-align: right;\">\n",
              "      <th></th>\n",
              "      <th>file</th>\n",
              "    </tr>\n",
              "  </thead>\n",
              "  <tbody>\n",
              "    <tr>\n",
              "      <th>0</th>\n",
              "      <td>nova/tests/test_migrations.py</td>\n",
              "    </tr>\n",
              "  </tbody>\n",
              "</table>\n",
              "</div>"
            ],
            "text/plain": [
              "                            file\n",
              "0  nova/tests/test_migrations.py"
            ]
          },
          "metadata": {},
          "execution_count": 21
        }
      ]
    },
    {
      "cell_type": "code",
      "metadata": {
        "colab": {
          "base_uri": "https://localhost:8080/",
          "height": 101
        },
        "id": "1W455OgIg9f-",
        "outputId": "b01c1864-ba92-47c1-e4fd-fe24ac1d9f2f"
      },
      "source": [
        "# add a column of zeros for each existing reviewer to dataframe\n",
        "for r in all_reviewers:\n",
        "  df[r] = 0\n",
        "\n",
        "df.head()"
      ],
      "execution_count": 22,
      "outputs": [
        {
          "output_type": "execute_result",
          "data": {
            "text/html": [
              "<div>\n",
              "<style scoped>\n",
              "    .dataframe tbody tr th:only-of-type {\n",
              "        vertical-align: middle;\n",
              "    }\n",
              "\n",
              "    .dataframe tbody tr th {\n",
              "        vertical-align: top;\n",
              "    }\n",
              "\n",
              "    .dataframe thead th {\n",
              "        text-align: right;\n",
              "    }\n",
              "</style>\n",
              "<table border=\"1\" class=\"dataframe\">\n",
              "  <thead>\n",
              "    <tr style=\"text-align: right;\">\n",
              "      <th></th>\n",
              "      <th>file</th>\n",
              "      <th>494</th>\n",
              "      <th>1603</th>\n",
              "      <th>97</th>\n",
              "      <th>1179</th>\n",
              "      <th>2</th>\n",
              "      <th>161</th>\n",
              "      <th>1</th>\n",
              "      <th>360</th>\n",
              "      <th>70</th>\n",
              "      <th>1247</th>\n",
              "      <th>2325</th>\n",
              "      <th>512</th>\n",
              "      <th>452</th>\n",
              "      <th>2243</th>\n",
              "      <th>2284</th>\n",
              "      <th>1228</th>\n",
              "      <th>335</th>\n",
              "      <th>1456</th>\n",
              "      <th>475</th>\n",
              "      <th>6</th>\n",
              "      <th>1009</th>\n",
              "      <th>2035</th>\n",
              "      <th>236</th>\n",
              "      <th>2472</th>\n",
              "      <th>5</th>\n",
              "      <th>543</th>\n",
              "      <th>964</th>\n",
              "      <th>642</th>\n",
              "      <th>1132</th>\n",
              "      <th>1549</th>\n",
              "      <th>2622</th>\n",
              "      <th>917</th>\n",
              "      <th>1192</th>\n",
              "      <th>100</th>\n",
              "      <th>308</th>\n",
              "      <th>1216</th>\n",
              "      <th>321</th>\n",
              "      <th>1205</th>\n",
              "      <th>1155</th>\n",
              "      <th>706</th>\n",
              "      <th>681</th>\n",
              "      <th>941</th>\n",
              "      <th>330</th>\n",
              "      <th>490</th>\n",
              "      <th>1561</th>\n",
              "      <th>1998</th>\n",
              "      <th>704</th>\n",
              "      <th>1030</th>\n",
              "      <th>518</th>\n",
              "      <th>385</th>\n",
              "      <th>970</th>\n",
              "      <th>688</th>\n",
              "      <th>8</th>\n",
              "      <th>679</th>\n",
              "      <th>845</th>\n",
              "      <th>693</th>\n",
              "      <th>2230</th>\n",
              "      <th>616</th>\n",
              "      <th>2458</th>\n",
              "      <th>191</th>\n",
              "      <th>2828</th>\n",
              "      <th>927</th>\n",
              "      <th>209</th>\n",
              "      <th>261</th>\n",
              "      <th>24</th>\n",
              "      <th>67</th>\n",
              "      <th>357</th>\n",
              "      <th>447</th>\n",
              "      <th>1816</th>\n",
              "      <th>1689</th>\n",
              "      <th>979</th>\n",
              "      <th>995</th>\n",
              "      <th>233</th>\n",
              "      <th>34</th>\n",
              "      <th>2170</th>\n",
              "      <th>4</th>\n",
              "      <th>112</th>\n",
              "      <th>7</th>\n",
              "    </tr>\n",
              "  </thead>\n",
              "  <tbody>\n",
              "    <tr>\n",
              "      <th>0</th>\n",
              "      <td>nova/tests/test_migrations.py</td>\n",
              "      <td>0</td>\n",
              "      <td>0</td>\n",
              "      <td>0</td>\n",
              "      <td>0</td>\n",
              "      <td>0</td>\n",
              "      <td>0</td>\n",
              "      <td>0</td>\n",
              "      <td>0</td>\n",
              "      <td>0</td>\n",
              "      <td>0</td>\n",
              "      <td>0</td>\n",
              "      <td>0</td>\n",
              "      <td>0</td>\n",
              "      <td>0</td>\n",
              "      <td>0</td>\n",
              "      <td>0</td>\n",
              "      <td>0</td>\n",
              "      <td>0</td>\n",
              "      <td>0</td>\n",
              "      <td>0</td>\n",
              "      <td>0</td>\n",
              "      <td>0</td>\n",
              "      <td>0</td>\n",
              "      <td>0</td>\n",
              "      <td>0</td>\n",
              "      <td>0</td>\n",
              "      <td>0</td>\n",
              "      <td>0</td>\n",
              "      <td>0</td>\n",
              "      <td>0</td>\n",
              "      <td>0</td>\n",
              "      <td>0</td>\n",
              "      <td>0</td>\n",
              "      <td>0</td>\n",
              "      <td>0</td>\n",
              "      <td>0</td>\n",
              "      <td>0</td>\n",
              "      <td>0</td>\n",
              "      <td>0</td>\n",
              "      <td>0</td>\n",
              "      <td>0</td>\n",
              "      <td>0</td>\n",
              "      <td>0</td>\n",
              "      <td>0</td>\n",
              "      <td>0</td>\n",
              "      <td>0</td>\n",
              "      <td>0</td>\n",
              "      <td>0</td>\n",
              "      <td>0</td>\n",
              "      <td>0</td>\n",
              "      <td>0</td>\n",
              "      <td>0</td>\n",
              "      <td>0</td>\n",
              "      <td>0</td>\n",
              "      <td>0</td>\n",
              "      <td>0</td>\n",
              "      <td>0</td>\n",
              "      <td>0</td>\n",
              "      <td>0</td>\n",
              "      <td>0</td>\n",
              "      <td>0</td>\n",
              "      <td>0</td>\n",
              "      <td>0</td>\n",
              "      <td>0</td>\n",
              "      <td>0</td>\n",
              "      <td>0</td>\n",
              "      <td>0</td>\n",
              "      <td>0</td>\n",
              "      <td>0</td>\n",
              "      <td>0</td>\n",
              "      <td>0</td>\n",
              "      <td>0</td>\n",
              "      <td>0</td>\n",
              "      <td>0</td>\n",
              "      <td>0</td>\n",
              "      <td>0</td>\n",
              "      <td>0</td>\n",
              "      <td>0</td>\n",
              "    </tr>\n",
              "  </tbody>\n",
              "</table>\n",
              "</div>"
            ],
            "text/plain": [
              "                            file  494  1603  97  1179  ...  34  2170  4  112  7\n",
              "0  nova/tests/test_migrations.py    0     0   0     0  ...   0     0  0    0  0\n",
              "\n",
              "[1 rows x 79 columns]"
            ]
          },
          "metadata": {},
          "execution_count": 22
        }
      ]
    },
    {
      "cell_type": "code",
      "metadata": {
        "colab": {
          "base_uri": "https://localhost:8080/",
          "height": 101
        },
        "id": "qB7lTIT_hOy0",
        "outputId": "cd50e567-432a-45b2-830f-9a89002cc659"
      },
      "source": [
        "# fill the values of dataframe by checking PRs one by one\n",
        "for f in files:\n",
        "  for pr in train:\n",
        "    if f in pr['filePaths']:\n",
        "      for r in pr['reviewersId']:\n",
        "        df.loc[(df['file'] == f), r] += 1\n",
        "\n",
        "df.head()"
      ],
      "execution_count": 23,
      "outputs": [
        {
          "output_type": "execute_result",
          "data": {
            "text/html": [
              "<div>\n",
              "<style scoped>\n",
              "    .dataframe tbody tr th:only-of-type {\n",
              "        vertical-align: middle;\n",
              "    }\n",
              "\n",
              "    .dataframe tbody tr th {\n",
              "        vertical-align: top;\n",
              "    }\n",
              "\n",
              "    .dataframe thead th {\n",
              "        text-align: right;\n",
              "    }\n",
              "</style>\n",
              "<table border=\"1\" class=\"dataframe\">\n",
              "  <thead>\n",
              "    <tr style=\"text-align: right;\">\n",
              "      <th></th>\n",
              "      <th>file</th>\n",
              "      <th>494</th>\n",
              "      <th>1603</th>\n",
              "      <th>97</th>\n",
              "      <th>1179</th>\n",
              "      <th>2</th>\n",
              "      <th>161</th>\n",
              "      <th>1</th>\n",
              "      <th>360</th>\n",
              "      <th>70</th>\n",
              "      <th>1247</th>\n",
              "      <th>2325</th>\n",
              "      <th>512</th>\n",
              "      <th>452</th>\n",
              "      <th>2243</th>\n",
              "      <th>2284</th>\n",
              "      <th>1228</th>\n",
              "      <th>335</th>\n",
              "      <th>1456</th>\n",
              "      <th>475</th>\n",
              "      <th>6</th>\n",
              "      <th>1009</th>\n",
              "      <th>2035</th>\n",
              "      <th>236</th>\n",
              "      <th>2472</th>\n",
              "      <th>5</th>\n",
              "      <th>543</th>\n",
              "      <th>964</th>\n",
              "      <th>642</th>\n",
              "      <th>1132</th>\n",
              "      <th>1549</th>\n",
              "      <th>2622</th>\n",
              "      <th>917</th>\n",
              "      <th>1192</th>\n",
              "      <th>100</th>\n",
              "      <th>308</th>\n",
              "      <th>1216</th>\n",
              "      <th>321</th>\n",
              "      <th>1205</th>\n",
              "      <th>1155</th>\n",
              "      <th>706</th>\n",
              "      <th>681</th>\n",
              "      <th>941</th>\n",
              "      <th>330</th>\n",
              "      <th>490</th>\n",
              "      <th>1561</th>\n",
              "      <th>1998</th>\n",
              "      <th>704</th>\n",
              "      <th>1030</th>\n",
              "      <th>518</th>\n",
              "      <th>385</th>\n",
              "      <th>970</th>\n",
              "      <th>688</th>\n",
              "      <th>8</th>\n",
              "      <th>679</th>\n",
              "      <th>845</th>\n",
              "      <th>693</th>\n",
              "      <th>2230</th>\n",
              "      <th>616</th>\n",
              "      <th>2458</th>\n",
              "      <th>191</th>\n",
              "      <th>2828</th>\n",
              "      <th>927</th>\n",
              "      <th>209</th>\n",
              "      <th>261</th>\n",
              "      <th>24</th>\n",
              "      <th>67</th>\n",
              "      <th>357</th>\n",
              "      <th>447</th>\n",
              "      <th>1816</th>\n",
              "      <th>1689</th>\n",
              "      <th>979</th>\n",
              "      <th>995</th>\n",
              "      <th>233</th>\n",
              "      <th>34</th>\n",
              "      <th>2170</th>\n",
              "      <th>4</th>\n",
              "      <th>112</th>\n",
              "      <th>7</th>\n",
              "    </tr>\n",
              "  </thead>\n",
              "  <tbody>\n",
              "    <tr>\n",
              "      <th>0</th>\n",
              "      <td>nova/tests/test_migrations.py</td>\n",
              "      <td>0</td>\n",
              "      <td>0</td>\n",
              "      <td>0</td>\n",
              "      <td>0</td>\n",
              "      <td>1</td>\n",
              "      <td>0</td>\n",
              "      <td>0</td>\n",
              "      <td>1</td>\n",
              "      <td>0</td>\n",
              "      <td>1</td>\n",
              "      <td>0</td>\n",
              "      <td>0</td>\n",
              "      <td>0</td>\n",
              "      <td>0</td>\n",
              "      <td>0</td>\n",
              "      <td>0</td>\n",
              "      <td>0</td>\n",
              "      <td>0</td>\n",
              "      <td>1</td>\n",
              "      <td>0</td>\n",
              "      <td>0</td>\n",
              "      <td>0</td>\n",
              "      <td>0</td>\n",
              "      <td>0</td>\n",
              "      <td>0</td>\n",
              "      <td>0</td>\n",
              "      <td>0</td>\n",
              "      <td>0</td>\n",
              "      <td>0</td>\n",
              "      <td>0</td>\n",
              "      <td>0</td>\n",
              "      <td>0</td>\n",
              "      <td>0</td>\n",
              "      <td>3</td>\n",
              "      <td>0</td>\n",
              "      <td>0</td>\n",
              "      <td>0</td>\n",
              "      <td>0</td>\n",
              "      <td>0</td>\n",
              "      <td>0</td>\n",
              "      <td>0</td>\n",
              "      <td>0</td>\n",
              "      <td>0</td>\n",
              "      <td>0</td>\n",
              "      <td>0</td>\n",
              "      <td>0</td>\n",
              "      <td>0</td>\n",
              "      <td>1</td>\n",
              "      <td>0</td>\n",
              "      <td>0</td>\n",
              "      <td>0</td>\n",
              "      <td>1</td>\n",
              "      <td>0</td>\n",
              "      <td>2</td>\n",
              "      <td>0</td>\n",
              "      <td>0</td>\n",
              "      <td>0</td>\n",
              "      <td>0</td>\n",
              "      <td>0</td>\n",
              "      <td>2</td>\n",
              "      <td>0</td>\n",
              "      <td>0</td>\n",
              "      <td>0</td>\n",
              "      <td>0</td>\n",
              "      <td>0</td>\n",
              "      <td>4</td>\n",
              "      <td>0</td>\n",
              "      <td>0</td>\n",
              "      <td>0</td>\n",
              "      <td>0</td>\n",
              "      <td>0</td>\n",
              "      <td>0</td>\n",
              "      <td>0</td>\n",
              "      <td>0</td>\n",
              "      <td>0</td>\n",
              "      <td>0</td>\n",
              "      <td>0</td>\n",
              "      <td>0</td>\n",
              "    </tr>\n",
              "  </tbody>\n",
              "</table>\n",
              "</div>"
            ],
            "text/plain": [
              "                            file  494  1603  97  1179  ...  34  2170  4  112  7\n",
              "0  nova/tests/test_migrations.py    0     0   0     0  ...   0     0  0    0  0\n",
              "\n",
              "[1 rows x 79 columns]"
            ]
          },
          "metadata": {},
          "execution_count": 23
        }
      ]
    },
    {
      "cell_type": "code",
      "metadata": {
        "colab": {
          "base_uri": "https://localhost:8080/",
          "height": 132
        },
        "id": "-6HyVrYiwWlP",
        "outputId": "e01b44bb-3290-48a3-8f80-37f7403a2911"
      },
      "source": [
        "df = df.set_index('file')\n",
        "df.head()"
      ],
      "execution_count": 24,
      "outputs": [
        {
          "output_type": "execute_result",
          "data": {
            "text/html": [
              "<div>\n",
              "<style scoped>\n",
              "    .dataframe tbody tr th:only-of-type {\n",
              "        vertical-align: middle;\n",
              "    }\n",
              "\n",
              "    .dataframe tbody tr th {\n",
              "        vertical-align: top;\n",
              "    }\n",
              "\n",
              "    .dataframe thead th {\n",
              "        text-align: right;\n",
              "    }\n",
              "</style>\n",
              "<table border=\"1\" class=\"dataframe\">\n",
              "  <thead>\n",
              "    <tr style=\"text-align: right;\">\n",
              "      <th></th>\n",
              "      <th>494</th>\n",
              "      <th>1603</th>\n",
              "      <th>97</th>\n",
              "      <th>1179</th>\n",
              "      <th>2</th>\n",
              "      <th>161</th>\n",
              "      <th>1</th>\n",
              "      <th>360</th>\n",
              "      <th>70</th>\n",
              "      <th>1247</th>\n",
              "      <th>2325</th>\n",
              "      <th>512</th>\n",
              "      <th>452</th>\n",
              "      <th>2243</th>\n",
              "      <th>2284</th>\n",
              "      <th>1228</th>\n",
              "      <th>335</th>\n",
              "      <th>1456</th>\n",
              "      <th>475</th>\n",
              "      <th>6</th>\n",
              "      <th>1009</th>\n",
              "      <th>2035</th>\n",
              "      <th>236</th>\n",
              "      <th>2472</th>\n",
              "      <th>5</th>\n",
              "      <th>543</th>\n",
              "      <th>964</th>\n",
              "      <th>642</th>\n",
              "      <th>1132</th>\n",
              "      <th>1549</th>\n",
              "      <th>2622</th>\n",
              "      <th>917</th>\n",
              "      <th>1192</th>\n",
              "      <th>100</th>\n",
              "      <th>308</th>\n",
              "      <th>1216</th>\n",
              "      <th>321</th>\n",
              "      <th>1205</th>\n",
              "      <th>1155</th>\n",
              "      <th>706</th>\n",
              "      <th>681</th>\n",
              "      <th>941</th>\n",
              "      <th>330</th>\n",
              "      <th>490</th>\n",
              "      <th>1561</th>\n",
              "      <th>1998</th>\n",
              "      <th>704</th>\n",
              "      <th>1030</th>\n",
              "      <th>518</th>\n",
              "      <th>385</th>\n",
              "      <th>970</th>\n",
              "      <th>688</th>\n",
              "      <th>8</th>\n",
              "      <th>679</th>\n",
              "      <th>845</th>\n",
              "      <th>693</th>\n",
              "      <th>2230</th>\n",
              "      <th>616</th>\n",
              "      <th>2458</th>\n",
              "      <th>191</th>\n",
              "      <th>2828</th>\n",
              "      <th>927</th>\n",
              "      <th>209</th>\n",
              "      <th>261</th>\n",
              "      <th>24</th>\n",
              "      <th>67</th>\n",
              "      <th>357</th>\n",
              "      <th>447</th>\n",
              "      <th>1816</th>\n",
              "      <th>1689</th>\n",
              "      <th>979</th>\n",
              "      <th>995</th>\n",
              "      <th>233</th>\n",
              "      <th>34</th>\n",
              "      <th>2170</th>\n",
              "      <th>4</th>\n",
              "      <th>112</th>\n",
              "      <th>7</th>\n",
              "    </tr>\n",
              "    <tr>\n",
              "      <th>file</th>\n",
              "      <th></th>\n",
              "      <th></th>\n",
              "      <th></th>\n",
              "      <th></th>\n",
              "      <th></th>\n",
              "      <th></th>\n",
              "      <th></th>\n",
              "      <th></th>\n",
              "      <th></th>\n",
              "      <th></th>\n",
              "      <th></th>\n",
              "      <th></th>\n",
              "      <th></th>\n",
              "      <th></th>\n",
              "      <th></th>\n",
              "      <th></th>\n",
              "      <th></th>\n",
              "      <th></th>\n",
              "      <th></th>\n",
              "      <th></th>\n",
              "      <th></th>\n",
              "      <th></th>\n",
              "      <th></th>\n",
              "      <th></th>\n",
              "      <th></th>\n",
              "      <th></th>\n",
              "      <th></th>\n",
              "      <th></th>\n",
              "      <th></th>\n",
              "      <th></th>\n",
              "      <th></th>\n",
              "      <th></th>\n",
              "      <th></th>\n",
              "      <th></th>\n",
              "      <th></th>\n",
              "      <th></th>\n",
              "      <th></th>\n",
              "      <th></th>\n",
              "      <th></th>\n",
              "      <th></th>\n",
              "      <th></th>\n",
              "      <th></th>\n",
              "      <th></th>\n",
              "      <th></th>\n",
              "      <th></th>\n",
              "      <th></th>\n",
              "      <th></th>\n",
              "      <th></th>\n",
              "      <th></th>\n",
              "      <th></th>\n",
              "      <th></th>\n",
              "      <th></th>\n",
              "      <th></th>\n",
              "      <th></th>\n",
              "      <th></th>\n",
              "      <th></th>\n",
              "      <th></th>\n",
              "      <th></th>\n",
              "      <th></th>\n",
              "      <th></th>\n",
              "      <th></th>\n",
              "      <th></th>\n",
              "      <th></th>\n",
              "      <th></th>\n",
              "      <th></th>\n",
              "      <th></th>\n",
              "      <th></th>\n",
              "      <th></th>\n",
              "      <th></th>\n",
              "      <th></th>\n",
              "      <th></th>\n",
              "      <th></th>\n",
              "      <th></th>\n",
              "      <th></th>\n",
              "      <th></th>\n",
              "      <th></th>\n",
              "      <th></th>\n",
              "      <th></th>\n",
              "    </tr>\n",
              "  </thead>\n",
              "  <tbody>\n",
              "    <tr>\n",
              "      <th>nova/tests/test_migrations.py</th>\n",
              "      <td>0</td>\n",
              "      <td>0</td>\n",
              "      <td>0</td>\n",
              "      <td>0</td>\n",
              "      <td>1</td>\n",
              "      <td>0</td>\n",
              "      <td>0</td>\n",
              "      <td>1</td>\n",
              "      <td>0</td>\n",
              "      <td>1</td>\n",
              "      <td>0</td>\n",
              "      <td>0</td>\n",
              "      <td>0</td>\n",
              "      <td>0</td>\n",
              "      <td>0</td>\n",
              "      <td>0</td>\n",
              "      <td>0</td>\n",
              "      <td>0</td>\n",
              "      <td>1</td>\n",
              "      <td>0</td>\n",
              "      <td>0</td>\n",
              "      <td>0</td>\n",
              "      <td>0</td>\n",
              "      <td>0</td>\n",
              "      <td>0</td>\n",
              "      <td>0</td>\n",
              "      <td>0</td>\n",
              "      <td>0</td>\n",
              "      <td>0</td>\n",
              "      <td>0</td>\n",
              "      <td>0</td>\n",
              "      <td>0</td>\n",
              "      <td>0</td>\n",
              "      <td>3</td>\n",
              "      <td>0</td>\n",
              "      <td>0</td>\n",
              "      <td>0</td>\n",
              "      <td>0</td>\n",
              "      <td>0</td>\n",
              "      <td>0</td>\n",
              "      <td>0</td>\n",
              "      <td>0</td>\n",
              "      <td>0</td>\n",
              "      <td>0</td>\n",
              "      <td>0</td>\n",
              "      <td>0</td>\n",
              "      <td>0</td>\n",
              "      <td>1</td>\n",
              "      <td>0</td>\n",
              "      <td>0</td>\n",
              "      <td>0</td>\n",
              "      <td>1</td>\n",
              "      <td>0</td>\n",
              "      <td>2</td>\n",
              "      <td>0</td>\n",
              "      <td>0</td>\n",
              "      <td>0</td>\n",
              "      <td>0</td>\n",
              "      <td>0</td>\n",
              "      <td>2</td>\n",
              "      <td>0</td>\n",
              "      <td>0</td>\n",
              "      <td>0</td>\n",
              "      <td>0</td>\n",
              "      <td>0</td>\n",
              "      <td>4</td>\n",
              "      <td>0</td>\n",
              "      <td>0</td>\n",
              "      <td>0</td>\n",
              "      <td>0</td>\n",
              "      <td>0</td>\n",
              "      <td>0</td>\n",
              "      <td>0</td>\n",
              "      <td>0</td>\n",
              "      <td>0</td>\n",
              "      <td>0</td>\n",
              "      <td>0</td>\n",
              "      <td>0</td>\n",
              "    </tr>\n",
              "  </tbody>\n",
              "</table>\n",
              "</div>"
            ],
            "text/plain": [
              "                               494  1603  97  1179  2  ...  34  2170  4  112  7\n",
              "file                                                   ...                     \n",
              "nova/tests/test_migrations.py    0     0   0     0  1  ...   0     0  0    0  0\n",
              "\n",
              "[1 rows x 78 columns]"
            ]
          },
          "metadata": {},
          "execution_count": 24
        }
      ]
    },
    {
      "cell_type": "code",
      "metadata": {
        "colab": {
          "base_uri": "https://localhost:8080/"
        },
        "id": "RwOwl6shv99B",
        "outputId": "e372500e-7097-4213-88f1-9f8a264c24a1"
      },
      "source": [
        "# convert the dataframe into matrix\n",
        "FR = df.to_numpy()\n",
        "FR.shape"
      ],
      "execution_count": 25,
      "outputs": [
        {
          "output_type": "execute_result",
          "data": {
            "text/plain": [
              "(1, 78)"
            ]
          },
          "metadata": {},
          "execution_count": 25
        }
      ]
    },
    {
      "cell_type": "markdown",
      "metadata": {
        "id": "x4BWT4AUw06Q"
      },
      "source": [
        "#### All together\n",
        "as 'cal_expertise' function"
      ]
    },
    {
      "cell_type": "code",
      "metadata": {
        "id": "S0EO-lXkfrPB"
      },
      "source": [
        "# Function to extract 'Expertise' metrix\n",
        "# Returns P*M matrix named FR\n",
        "def cal_expertise(train, test):\n",
        "\n",
        "  # create a \"set\" of file paths in test PR. we selected set to ensure not collecting repeated files\n",
        "  files = set()  \n",
        "  for f in test['filePaths']:\n",
        "    files.add(f) \n",
        "  print(\"P is:\", len(files))\n",
        "\n",
        "  # create a set of all reviewers\n",
        "  all_reviewers = set()   \n",
        "  for pr in train:\n",
        "    for r in pr['reviewersId']:\n",
        "      all_reviewers.add(r)\n",
        "  print(\"M is:\", len(all_reviewers))\n",
        "\n",
        "  # create a dataframe that its first column is files in test PR\n",
        "  df = pd.DataFrame(files)  \n",
        "  df = df.rename(columns={0:'file'})  # set a name for this column\n",
        "\n",
        "  # add a column of zeros for each existing reviewer to dataframe\n",
        "  for r in all_reviewers:\n",
        "    df[r] = 0\n",
        "\n",
        "  # fill the cells of the dataframe by checking PRs one by one\n",
        "  for f in files:\n",
        "    for pr in train:\n",
        "      if f in pr['filePaths']:\n",
        "        for r in pr['reviewersId']:\n",
        "          df.loc[(df['file'] == f), r] += 1\n",
        "\n",
        "  # convert the dataframe into matrix\n",
        "  df = df.set_index('file')\n",
        "  FR = df.to_numpy()\n",
        "  print(\"Shape of FR matrix is:\", FR.shape)\n",
        "  return FR"
      ],
      "execution_count": 26,
      "outputs": []
    },
    {
      "cell_type": "markdown",
      "metadata": {
        "id": "8FcG8-Ql0R2w"
      },
      "source": [
        "### Reviewer‑developer **collaboration** model"
      ]
    },
    {
      "cell_type": "markdown",
      "metadata": {
        "id": "5wMzpA-P0dPI"
      },
      "source": [
        "#### step by step"
      ]
    },
    {
      "cell_type": "code",
      "metadata": {
        "colab": {
          "base_uri": "https://localhost:8080/"
        },
        "id": "spxTR07O00ic",
        "outputId": "89232819-2579-4c15-a384-aa7b5087ec12"
      },
      "source": [
        "all_devs = set()   # make a \"set\" of all developers\n",
        "for pr in train:\n",
        "  all_devs.add(pr['ownerId'])\n",
        "\n",
        "len(all_devs)"
      ],
      "execution_count": 11,
      "outputs": [
        {
          "output_type": "execute_result",
          "data": {
            "text/plain": [
              "305"
            ]
          },
          "metadata": {},
          "execution_count": 11
        }
      ]
    },
    {
      "cell_type": "code",
      "metadata": {
        "colab": {
          "base_uri": "https://localhost:8080/"
        },
        "id": "2CogC9qxL7qB",
        "outputId": "d60271a3-599c-4007-fab3-b6e8f0dee9a6"
      },
      "source": [
        "len(all_reviewers)"
      ],
      "execution_count": 12,
      "outputs": [
        {
          "output_type": "execute_result",
          "data": {
            "text/plain": [
              "82"
            ]
          },
          "metadata": {},
          "execution_count": 12
        }
      ]
    },
    {
      "cell_type": "code",
      "metadata": {
        "colab": {
          "base_uri": "https://localhost:8080/",
          "height": 205
        },
        "id": "Vf7jK7kZMC1d",
        "outputId": "50241eea-67d3-4381-e18e-e97ae9f43d0c"
      },
      "source": [
        "# create a dataframe that its first column is all existing developers\n",
        "df = pd.DataFrame(all_devs)\n",
        "df = df.rename(columns={0:'developer'})\n",
        "df.head()"
      ],
      "execution_count": 13,
      "outputs": [
        {
          "output_type": "execute_result",
          "data": {
            "text/html": [
              "<div>\n",
              "<style scoped>\n",
              "    .dataframe tbody tr th:only-of-type {\n",
              "        vertical-align: middle;\n",
              "    }\n",
              "\n",
              "    .dataframe tbody tr th {\n",
              "        vertical-align: top;\n",
              "    }\n",
              "\n",
              "    .dataframe thead th {\n",
              "        text-align: right;\n",
              "    }\n",
              "</style>\n",
              "<table border=\"1\" class=\"dataframe\">\n",
              "  <thead>\n",
              "    <tr style=\"text-align: right;\">\n",
              "      <th></th>\n",
              "      <th>developer</th>\n",
              "    </tr>\n",
              "  </thead>\n",
              "  <tbody>\n",
              "    <tr>\n",
              "      <th>0</th>\n",
              "      <td>494</td>\n",
              "    </tr>\n",
              "    <tr>\n",
              "      <th>1</th>\n",
              "      <td>1603</td>\n",
              "    </tr>\n",
              "    <tr>\n",
              "      <th>2</th>\n",
              "      <td>97</td>\n",
              "    </tr>\n",
              "    <tr>\n",
              "      <th>3</th>\n",
              "      <td>866</td>\n",
              "    </tr>\n",
              "    <tr>\n",
              "      <th>4</th>\n",
              "      <td>2459</td>\n",
              "    </tr>\n",
              "  </tbody>\n",
              "</table>\n",
              "</div>"
            ],
            "text/plain": [
              "  developer\n",
              "0       494\n",
              "1      1603\n",
              "2        97\n",
              "3       866\n",
              "4      2459"
            ]
          },
          "metadata": {},
          "execution_count": 13
        }
      ]
    },
    {
      "cell_type": "code",
      "metadata": {
        "colab": {
          "base_uri": "https://localhost:8080/",
          "height": 255
        },
        "id": "3NDY8S99MhdG",
        "outputId": "5703b238-d54e-4a10-aa41-72a2eb1b84b2"
      },
      "source": [
        "# add a column of zeros for each existing reviewer to dataframe\n",
        "for r in all_reviewers:\n",
        "  df[r] = 0\n",
        "\n",
        "df.head()"
      ],
      "execution_count": 14,
      "outputs": [
        {
          "output_type": "execute_result",
          "data": {
            "text/html": [
              "<div>\n",
              "<style scoped>\n",
              "    .dataframe tbody tr th:only-of-type {\n",
              "        vertical-align: middle;\n",
              "    }\n",
              "\n",
              "    .dataframe tbody tr th {\n",
              "        vertical-align: top;\n",
              "    }\n",
              "\n",
              "    .dataframe thead th {\n",
              "        text-align: right;\n",
              "    }\n",
              "</style>\n",
              "<table border=\"1\" class=\"dataframe\">\n",
              "  <thead>\n",
              "    <tr style=\"text-align: right;\">\n",
              "      <th></th>\n",
              "      <th>developer</th>\n",
              "      <th>494</th>\n",
              "      <th>1603</th>\n",
              "      <th>97</th>\n",
              "      <th>866</th>\n",
              "      <th>1179</th>\n",
              "      <th>2</th>\n",
              "      <th>161</th>\n",
              "      <th>1</th>\n",
              "      <th>360</th>\n",
              "      <th>70</th>\n",
              "      <th>1247</th>\n",
              "      <th>2325</th>\n",
              "      <th>512</th>\n",
              "      <th>452</th>\n",
              "      <th>2243</th>\n",
              "      <th>2284</th>\n",
              "      <th>1228</th>\n",
              "      <th>335</th>\n",
              "      <th>1456</th>\n",
              "      <th>475</th>\n",
              "      <th>6</th>\n",
              "      <th>1009</th>\n",
              "      <th>2035</th>\n",
              "      <th>236</th>\n",
              "      <th>2472</th>\n",
              "      <th>5</th>\n",
              "      <th>543</th>\n",
              "      <th>964</th>\n",
              "      <th>642</th>\n",
              "      <th>1132</th>\n",
              "      <th>1549</th>\n",
              "      <th>2622</th>\n",
              "      <th>917</th>\n",
              "      <th>838</th>\n",
              "      <th>1192</th>\n",
              "      <th>100</th>\n",
              "      <th>612</th>\n",
              "      <th>308</th>\n",
              "      <th>1216</th>\n",
              "      <th>...</th>\n",
              "      <th>706</th>\n",
              "      <th>681</th>\n",
              "      <th>941</th>\n",
              "      <th>1699</th>\n",
              "      <th>330</th>\n",
              "      <th>490</th>\n",
              "      <th>1561</th>\n",
              "      <th>1998</th>\n",
              "      <th>704</th>\n",
              "      <th>1030</th>\n",
              "      <th>518</th>\n",
              "      <th>385</th>\n",
              "      <th>970</th>\n",
              "      <th>688</th>\n",
              "      <th>8</th>\n",
              "      <th>679</th>\n",
              "      <th>845</th>\n",
              "      <th>693</th>\n",
              "      <th>2230</th>\n",
              "      <th>616</th>\n",
              "      <th>2458</th>\n",
              "      <th>191</th>\n",
              "      <th>2828</th>\n",
              "      <th>927</th>\n",
              "      <th>209</th>\n",
              "      <th>261</th>\n",
              "      <th>24</th>\n",
              "      <th>67</th>\n",
              "      <th>357</th>\n",
              "      <th>447</th>\n",
              "      <th>1816</th>\n",
              "      <th>1689</th>\n",
              "      <th>979</th>\n",
              "      <th>995</th>\n",
              "      <th>233</th>\n",
              "      <th>34</th>\n",
              "      <th>2170</th>\n",
              "      <th>4</th>\n",
              "      <th>112</th>\n",
              "      <th>7</th>\n",
              "    </tr>\n",
              "  </thead>\n",
              "  <tbody>\n",
              "    <tr>\n",
              "      <th>0</th>\n",
              "      <td>494</td>\n",
              "      <td>0</td>\n",
              "      <td>0</td>\n",
              "      <td>0</td>\n",
              "      <td>0</td>\n",
              "      <td>0</td>\n",
              "      <td>0</td>\n",
              "      <td>0</td>\n",
              "      <td>0</td>\n",
              "      <td>0</td>\n",
              "      <td>0</td>\n",
              "      <td>0</td>\n",
              "      <td>0</td>\n",
              "      <td>0</td>\n",
              "      <td>0</td>\n",
              "      <td>0</td>\n",
              "      <td>0</td>\n",
              "      <td>0</td>\n",
              "      <td>0</td>\n",
              "      <td>0</td>\n",
              "      <td>0</td>\n",
              "      <td>0</td>\n",
              "      <td>0</td>\n",
              "      <td>0</td>\n",
              "      <td>0</td>\n",
              "      <td>0</td>\n",
              "      <td>0</td>\n",
              "      <td>0</td>\n",
              "      <td>0</td>\n",
              "      <td>0</td>\n",
              "      <td>0</td>\n",
              "      <td>0</td>\n",
              "      <td>0</td>\n",
              "      <td>0</td>\n",
              "      <td>0</td>\n",
              "      <td>0</td>\n",
              "      <td>0</td>\n",
              "      <td>0</td>\n",
              "      <td>0</td>\n",
              "      <td>0</td>\n",
              "      <td>...</td>\n",
              "      <td>0</td>\n",
              "      <td>0</td>\n",
              "      <td>0</td>\n",
              "      <td>0</td>\n",
              "      <td>0</td>\n",
              "      <td>0</td>\n",
              "      <td>0</td>\n",
              "      <td>0</td>\n",
              "      <td>0</td>\n",
              "      <td>0</td>\n",
              "      <td>0</td>\n",
              "      <td>0</td>\n",
              "      <td>0</td>\n",
              "      <td>0</td>\n",
              "      <td>0</td>\n",
              "      <td>0</td>\n",
              "      <td>0</td>\n",
              "      <td>0</td>\n",
              "      <td>0</td>\n",
              "      <td>0</td>\n",
              "      <td>0</td>\n",
              "      <td>0</td>\n",
              "      <td>0</td>\n",
              "      <td>0</td>\n",
              "      <td>0</td>\n",
              "      <td>0</td>\n",
              "      <td>0</td>\n",
              "      <td>0</td>\n",
              "      <td>0</td>\n",
              "      <td>0</td>\n",
              "      <td>0</td>\n",
              "      <td>0</td>\n",
              "      <td>0</td>\n",
              "      <td>0</td>\n",
              "      <td>0</td>\n",
              "      <td>0</td>\n",
              "      <td>0</td>\n",
              "      <td>0</td>\n",
              "      <td>0</td>\n",
              "      <td>0</td>\n",
              "    </tr>\n",
              "    <tr>\n",
              "      <th>1</th>\n",
              "      <td>1603</td>\n",
              "      <td>0</td>\n",
              "      <td>0</td>\n",
              "      <td>0</td>\n",
              "      <td>0</td>\n",
              "      <td>0</td>\n",
              "      <td>0</td>\n",
              "      <td>0</td>\n",
              "      <td>0</td>\n",
              "      <td>0</td>\n",
              "      <td>0</td>\n",
              "      <td>0</td>\n",
              "      <td>0</td>\n",
              "      <td>0</td>\n",
              "      <td>0</td>\n",
              "      <td>0</td>\n",
              "      <td>0</td>\n",
              "      <td>0</td>\n",
              "      <td>0</td>\n",
              "      <td>0</td>\n",
              "      <td>0</td>\n",
              "      <td>0</td>\n",
              "      <td>0</td>\n",
              "      <td>0</td>\n",
              "      <td>0</td>\n",
              "      <td>0</td>\n",
              "      <td>0</td>\n",
              "      <td>0</td>\n",
              "      <td>0</td>\n",
              "      <td>0</td>\n",
              "      <td>0</td>\n",
              "      <td>0</td>\n",
              "      <td>0</td>\n",
              "      <td>0</td>\n",
              "      <td>0</td>\n",
              "      <td>0</td>\n",
              "      <td>0</td>\n",
              "      <td>0</td>\n",
              "      <td>0</td>\n",
              "      <td>0</td>\n",
              "      <td>...</td>\n",
              "      <td>0</td>\n",
              "      <td>0</td>\n",
              "      <td>0</td>\n",
              "      <td>0</td>\n",
              "      <td>0</td>\n",
              "      <td>0</td>\n",
              "      <td>0</td>\n",
              "      <td>0</td>\n",
              "      <td>0</td>\n",
              "      <td>0</td>\n",
              "      <td>0</td>\n",
              "      <td>0</td>\n",
              "      <td>0</td>\n",
              "      <td>0</td>\n",
              "      <td>0</td>\n",
              "      <td>0</td>\n",
              "      <td>0</td>\n",
              "      <td>0</td>\n",
              "      <td>0</td>\n",
              "      <td>0</td>\n",
              "      <td>0</td>\n",
              "      <td>0</td>\n",
              "      <td>0</td>\n",
              "      <td>0</td>\n",
              "      <td>0</td>\n",
              "      <td>0</td>\n",
              "      <td>0</td>\n",
              "      <td>0</td>\n",
              "      <td>0</td>\n",
              "      <td>0</td>\n",
              "      <td>0</td>\n",
              "      <td>0</td>\n",
              "      <td>0</td>\n",
              "      <td>0</td>\n",
              "      <td>0</td>\n",
              "      <td>0</td>\n",
              "      <td>0</td>\n",
              "      <td>0</td>\n",
              "      <td>0</td>\n",
              "      <td>0</td>\n",
              "    </tr>\n",
              "    <tr>\n",
              "      <th>2</th>\n",
              "      <td>97</td>\n",
              "      <td>0</td>\n",
              "      <td>0</td>\n",
              "      <td>0</td>\n",
              "      <td>0</td>\n",
              "      <td>0</td>\n",
              "      <td>0</td>\n",
              "      <td>0</td>\n",
              "      <td>0</td>\n",
              "      <td>0</td>\n",
              "      <td>0</td>\n",
              "      <td>0</td>\n",
              "      <td>0</td>\n",
              "      <td>0</td>\n",
              "      <td>0</td>\n",
              "      <td>0</td>\n",
              "      <td>0</td>\n",
              "      <td>0</td>\n",
              "      <td>0</td>\n",
              "      <td>0</td>\n",
              "      <td>0</td>\n",
              "      <td>0</td>\n",
              "      <td>0</td>\n",
              "      <td>0</td>\n",
              "      <td>0</td>\n",
              "      <td>0</td>\n",
              "      <td>0</td>\n",
              "      <td>0</td>\n",
              "      <td>0</td>\n",
              "      <td>0</td>\n",
              "      <td>0</td>\n",
              "      <td>0</td>\n",
              "      <td>0</td>\n",
              "      <td>0</td>\n",
              "      <td>0</td>\n",
              "      <td>0</td>\n",
              "      <td>0</td>\n",
              "      <td>0</td>\n",
              "      <td>0</td>\n",
              "      <td>0</td>\n",
              "      <td>...</td>\n",
              "      <td>0</td>\n",
              "      <td>0</td>\n",
              "      <td>0</td>\n",
              "      <td>0</td>\n",
              "      <td>0</td>\n",
              "      <td>0</td>\n",
              "      <td>0</td>\n",
              "      <td>0</td>\n",
              "      <td>0</td>\n",
              "      <td>0</td>\n",
              "      <td>0</td>\n",
              "      <td>0</td>\n",
              "      <td>0</td>\n",
              "      <td>0</td>\n",
              "      <td>0</td>\n",
              "      <td>0</td>\n",
              "      <td>0</td>\n",
              "      <td>0</td>\n",
              "      <td>0</td>\n",
              "      <td>0</td>\n",
              "      <td>0</td>\n",
              "      <td>0</td>\n",
              "      <td>0</td>\n",
              "      <td>0</td>\n",
              "      <td>0</td>\n",
              "      <td>0</td>\n",
              "      <td>0</td>\n",
              "      <td>0</td>\n",
              "      <td>0</td>\n",
              "      <td>0</td>\n",
              "      <td>0</td>\n",
              "      <td>0</td>\n",
              "      <td>0</td>\n",
              "      <td>0</td>\n",
              "      <td>0</td>\n",
              "      <td>0</td>\n",
              "      <td>0</td>\n",
              "      <td>0</td>\n",
              "      <td>0</td>\n",
              "      <td>0</td>\n",
              "    </tr>\n",
              "    <tr>\n",
              "      <th>3</th>\n",
              "      <td>866</td>\n",
              "      <td>0</td>\n",
              "      <td>0</td>\n",
              "      <td>0</td>\n",
              "      <td>0</td>\n",
              "      <td>0</td>\n",
              "      <td>0</td>\n",
              "      <td>0</td>\n",
              "      <td>0</td>\n",
              "      <td>0</td>\n",
              "      <td>0</td>\n",
              "      <td>0</td>\n",
              "      <td>0</td>\n",
              "      <td>0</td>\n",
              "      <td>0</td>\n",
              "      <td>0</td>\n",
              "      <td>0</td>\n",
              "      <td>0</td>\n",
              "      <td>0</td>\n",
              "      <td>0</td>\n",
              "      <td>0</td>\n",
              "      <td>0</td>\n",
              "      <td>0</td>\n",
              "      <td>0</td>\n",
              "      <td>0</td>\n",
              "      <td>0</td>\n",
              "      <td>0</td>\n",
              "      <td>0</td>\n",
              "      <td>0</td>\n",
              "      <td>0</td>\n",
              "      <td>0</td>\n",
              "      <td>0</td>\n",
              "      <td>0</td>\n",
              "      <td>0</td>\n",
              "      <td>0</td>\n",
              "      <td>0</td>\n",
              "      <td>0</td>\n",
              "      <td>0</td>\n",
              "      <td>0</td>\n",
              "      <td>0</td>\n",
              "      <td>...</td>\n",
              "      <td>0</td>\n",
              "      <td>0</td>\n",
              "      <td>0</td>\n",
              "      <td>0</td>\n",
              "      <td>0</td>\n",
              "      <td>0</td>\n",
              "      <td>0</td>\n",
              "      <td>0</td>\n",
              "      <td>0</td>\n",
              "      <td>0</td>\n",
              "      <td>0</td>\n",
              "      <td>0</td>\n",
              "      <td>0</td>\n",
              "      <td>0</td>\n",
              "      <td>0</td>\n",
              "      <td>0</td>\n",
              "      <td>0</td>\n",
              "      <td>0</td>\n",
              "      <td>0</td>\n",
              "      <td>0</td>\n",
              "      <td>0</td>\n",
              "      <td>0</td>\n",
              "      <td>0</td>\n",
              "      <td>0</td>\n",
              "      <td>0</td>\n",
              "      <td>0</td>\n",
              "      <td>0</td>\n",
              "      <td>0</td>\n",
              "      <td>0</td>\n",
              "      <td>0</td>\n",
              "      <td>0</td>\n",
              "      <td>0</td>\n",
              "      <td>0</td>\n",
              "      <td>0</td>\n",
              "      <td>0</td>\n",
              "      <td>0</td>\n",
              "      <td>0</td>\n",
              "      <td>0</td>\n",
              "      <td>0</td>\n",
              "      <td>0</td>\n",
              "    </tr>\n",
              "    <tr>\n",
              "      <th>4</th>\n",
              "      <td>2459</td>\n",
              "      <td>0</td>\n",
              "      <td>0</td>\n",
              "      <td>0</td>\n",
              "      <td>0</td>\n",
              "      <td>0</td>\n",
              "      <td>0</td>\n",
              "      <td>0</td>\n",
              "      <td>0</td>\n",
              "      <td>0</td>\n",
              "      <td>0</td>\n",
              "      <td>0</td>\n",
              "      <td>0</td>\n",
              "      <td>0</td>\n",
              "      <td>0</td>\n",
              "      <td>0</td>\n",
              "      <td>0</td>\n",
              "      <td>0</td>\n",
              "      <td>0</td>\n",
              "      <td>0</td>\n",
              "      <td>0</td>\n",
              "      <td>0</td>\n",
              "      <td>0</td>\n",
              "      <td>0</td>\n",
              "      <td>0</td>\n",
              "      <td>0</td>\n",
              "      <td>0</td>\n",
              "      <td>0</td>\n",
              "      <td>0</td>\n",
              "      <td>0</td>\n",
              "      <td>0</td>\n",
              "      <td>0</td>\n",
              "      <td>0</td>\n",
              "      <td>0</td>\n",
              "      <td>0</td>\n",
              "      <td>0</td>\n",
              "      <td>0</td>\n",
              "      <td>0</td>\n",
              "      <td>0</td>\n",
              "      <td>0</td>\n",
              "      <td>...</td>\n",
              "      <td>0</td>\n",
              "      <td>0</td>\n",
              "      <td>0</td>\n",
              "      <td>0</td>\n",
              "      <td>0</td>\n",
              "      <td>0</td>\n",
              "      <td>0</td>\n",
              "      <td>0</td>\n",
              "      <td>0</td>\n",
              "      <td>0</td>\n",
              "      <td>0</td>\n",
              "      <td>0</td>\n",
              "      <td>0</td>\n",
              "      <td>0</td>\n",
              "      <td>0</td>\n",
              "      <td>0</td>\n",
              "      <td>0</td>\n",
              "      <td>0</td>\n",
              "      <td>0</td>\n",
              "      <td>0</td>\n",
              "      <td>0</td>\n",
              "      <td>0</td>\n",
              "      <td>0</td>\n",
              "      <td>0</td>\n",
              "      <td>0</td>\n",
              "      <td>0</td>\n",
              "      <td>0</td>\n",
              "      <td>0</td>\n",
              "      <td>0</td>\n",
              "      <td>0</td>\n",
              "      <td>0</td>\n",
              "      <td>0</td>\n",
              "      <td>0</td>\n",
              "      <td>0</td>\n",
              "      <td>0</td>\n",
              "      <td>0</td>\n",
              "      <td>0</td>\n",
              "      <td>0</td>\n",
              "      <td>0</td>\n",
              "      <td>0</td>\n",
              "    </tr>\n",
              "  </tbody>\n",
              "</table>\n",
              "<p>5 rows × 83 columns</p>\n",
              "</div>"
            ],
            "text/plain": [
              "  developer  494  1603  97  866  1179  2  ...  995  233  34  2170  4  112  7\n",
              "0       494    0     0   0    0     0  0  ...    0    0   0     0  0    0  0\n",
              "1      1603    0     0   0    0     0  0  ...    0    0   0     0  0    0  0\n",
              "2        97    0     0   0    0     0  0  ...    0    0   0     0  0    0  0\n",
              "3       866    0     0   0    0     0  0  ...    0    0   0     0  0    0  0\n",
              "4      2459    0     0   0    0     0  0  ...    0    0   0     0  0    0  0\n",
              "\n",
              "[5 rows x 83 columns]"
            ]
          },
          "metadata": {},
          "execution_count": 14
        }
      ]
    },
    {
      "cell_type": "code",
      "metadata": {
        "colab": {
          "base_uri": "https://localhost:8080/",
          "height": 255
        },
        "id": "rJ91pp1ZMpzR",
        "outputId": "d6b2db51-7842-4db5-8c07-c524d2eb254d"
      },
      "source": [
        "# fill the values of dataframe by checking PRs one by one\n",
        "for pr in train:\n",
        "  for r in pr['reviewersId']:\n",
        "    df.loc[(df['developer'] == pr['ownerId']), r] += len(pr['filePaths'])\n",
        "\n",
        "df.head()"
      ],
      "execution_count": 15,
      "outputs": [
        {
          "output_type": "execute_result",
          "data": {
            "text/html": [
              "<div>\n",
              "<style scoped>\n",
              "    .dataframe tbody tr th:only-of-type {\n",
              "        vertical-align: middle;\n",
              "    }\n",
              "\n",
              "    .dataframe tbody tr th {\n",
              "        vertical-align: top;\n",
              "    }\n",
              "\n",
              "    .dataframe thead th {\n",
              "        text-align: right;\n",
              "    }\n",
              "</style>\n",
              "<table border=\"1\" class=\"dataframe\">\n",
              "  <thead>\n",
              "    <tr style=\"text-align: right;\">\n",
              "      <th></th>\n",
              "      <th>developer</th>\n",
              "      <th>494</th>\n",
              "      <th>1603</th>\n",
              "      <th>97</th>\n",
              "      <th>866</th>\n",
              "      <th>1179</th>\n",
              "      <th>2</th>\n",
              "      <th>161</th>\n",
              "      <th>1</th>\n",
              "      <th>360</th>\n",
              "      <th>70</th>\n",
              "      <th>1247</th>\n",
              "      <th>2325</th>\n",
              "      <th>512</th>\n",
              "      <th>452</th>\n",
              "      <th>2243</th>\n",
              "      <th>2284</th>\n",
              "      <th>1228</th>\n",
              "      <th>335</th>\n",
              "      <th>1456</th>\n",
              "      <th>475</th>\n",
              "      <th>6</th>\n",
              "      <th>1009</th>\n",
              "      <th>2035</th>\n",
              "      <th>236</th>\n",
              "      <th>2472</th>\n",
              "      <th>5</th>\n",
              "      <th>543</th>\n",
              "      <th>964</th>\n",
              "      <th>642</th>\n",
              "      <th>1132</th>\n",
              "      <th>1549</th>\n",
              "      <th>2622</th>\n",
              "      <th>917</th>\n",
              "      <th>838</th>\n",
              "      <th>1192</th>\n",
              "      <th>100</th>\n",
              "      <th>612</th>\n",
              "      <th>308</th>\n",
              "      <th>1216</th>\n",
              "      <th>...</th>\n",
              "      <th>706</th>\n",
              "      <th>681</th>\n",
              "      <th>941</th>\n",
              "      <th>1699</th>\n",
              "      <th>330</th>\n",
              "      <th>490</th>\n",
              "      <th>1561</th>\n",
              "      <th>1998</th>\n",
              "      <th>704</th>\n",
              "      <th>1030</th>\n",
              "      <th>518</th>\n",
              "      <th>385</th>\n",
              "      <th>970</th>\n",
              "      <th>688</th>\n",
              "      <th>8</th>\n",
              "      <th>679</th>\n",
              "      <th>845</th>\n",
              "      <th>693</th>\n",
              "      <th>2230</th>\n",
              "      <th>616</th>\n",
              "      <th>2458</th>\n",
              "      <th>191</th>\n",
              "      <th>2828</th>\n",
              "      <th>927</th>\n",
              "      <th>209</th>\n",
              "      <th>261</th>\n",
              "      <th>24</th>\n",
              "      <th>67</th>\n",
              "      <th>357</th>\n",
              "      <th>447</th>\n",
              "      <th>1816</th>\n",
              "      <th>1689</th>\n",
              "      <th>979</th>\n",
              "      <th>995</th>\n",
              "      <th>233</th>\n",
              "      <th>34</th>\n",
              "      <th>2170</th>\n",
              "      <th>4</th>\n",
              "      <th>112</th>\n",
              "      <th>7</th>\n",
              "    </tr>\n",
              "  </thead>\n",
              "  <tbody>\n",
              "    <tr>\n",
              "      <th>0</th>\n",
              "      <td>494</td>\n",
              "      <td>37</td>\n",
              "      <td>0</td>\n",
              "      <td>0</td>\n",
              "      <td>0</td>\n",
              "      <td>0</td>\n",
              "      <td>0</td>\n",
              "      <td>0</td>\n",
              "      <td>0</td>\n",
              "      <td>0</td>\n",
              "      <td>0</td>\n",
              "      <td>0</td>\n",
              "      <td>0</td>\n",
              "      <td>0</td>\n",
              "      <td>0</td>\n",
              "      <td>0</td>\n",
              "      <td>0</td>\n",
              "      <td>0</td>\n",
              "      <td>0</td>\n",
              "      <td>0</td>\n",
              "      <td>0</td>\n",
              "      <td>9</td>\n",
              "      <td>0</td>\n",
              "      <td>0</td>\n",
              "      <td>0</td>\n",
              "      <td>0</td>\n",
              "      <td>0</td>\n",
              "      <td>0</td>\n",
              "      <td>0</td>\n",
              "      <td>0</td>\n",
              "      <td>6</td>\n",
              "      <td>0</td>\n",
              "      <td>0</td>\n",
              "      <td>0</td>\n",
              "      <td>0</td>\n",
              "      <td>0</td>\n",
              "      <td>0</td>\n",
              "      <td>0</td>\n",
              "      <td>0</td>\n",
              "      <td>0</td>\n",
              "      <td>...</td>\n",
              "      <td>1</td>\n",
              "      <td>0</td>\n",
              "      <td>0</td>\n",
              "      <td>0</td>\n",
              "      <td>0</td>\n",
              "      <td>0</td>\n",
              "      <td>0</td>\n",
              "      <td>0</td>\n",
              "      <td>0</td>\n",
              "      <td>0</td>\n",
              "      <td>0</td>\n",
              "      <td>0</td>\n",
              "      <td>1</td>\n",
              "      <td>0</td>\n",
              "      <td>0</td>\n",
              "      <td>0</td>\n",
              "      <td>0</td>\n",
              "      <td>0</td>\n",
              "      <td>0</td>\n",
              "      <td>0</td>\n",
              "      <td>0</td>\n",
              "      <td>0</td>\n",
              "      <td>0</td>\n",
              "      <td>0</td>\n",
              "      <td>0</td>\n",
              "      <td>0</td>\n",
              "      <td>0</td>\n",
              "      <td>3</td>\n",
              "      <td>0</td>\n",
              "      <td>0</td>\n",
              "      <td>0</td>\n",
              "      <td>0</td>\n",
              "      <td>0</td>\n",
              "      <td>0</td>\n",
              "      <td>0</td>\n",
              "      <td>0</td>\n",
              "      <td>0</td>\n",
              "      <td>16</td>\n",
              "      <td>17</td>\n",
              "      <td>3</td>\n",
              "    </tr>\n",
              "    <tr>\n",
              "      <th>1</th>\n",
              "      <td>1603</td>\n",
              "      <td>0</td>\n",
              "      <td>0</td>\n",
              "      <td>0</td>\n",
              "      <td>0</td>\n",
              "      <td>0</td>\n",
              "      <td>0</td>\n",
              "      <td>0</td>\n",
              "      <td>0</td>\n",
              "      <td>0</td>\n",
              "      <td>0</td>\n",
              "      <td>0</td>\n",
              "      <td>0</td>\n",
              "      <td>0</td>\n",
              "      <td>0</td>\n",
              "      <td>0</td>\n",
              "      <td>0</td>\n",
              "      <td>0</td>\n",
              "      <td>0</td>\n",
              "      <td>0</td>\n",
              "      <td>0</td>\n",
              "      <td>0</td>\n",
              "      <td>0</td>\n",
              "      <td>0</td>\n",
              "      <td>0</td>\n",
              "      <td>0</td>\n",
              "      <td>0</td>\n",
              "      <td>0</td>\n",
              "      <td>0</td>\n",
              "      <td>0</td>\n",
              "      <td>0</td>\n",
              "      <td>0</td>\n",
              "      <td>0</td>\n",
              "      <td>0</td>\n",
              "      <td>0</td>\n",
              "      <td>0</td>\n",
              "      <td>0</td>\n",
              "      <td>0</td>\n",
              "      <td>0</td>\n",
              "      <td>13</td>\n",
              "      <td>...</td>\n",
              "      <td>0</td>\n",
              "      <td>0</td>\n",
              "      <td>0</td>\n",
              "      <td>0</td>\n",
              "      <td>14</td>\n",
              "      <td>0</td>\n",
              "      <td>0</td>\n",
              "      <td>0</td>\n",
              "      <td>0</td>\n",
              "      <td>0</td>\n",
              "      <td>0</td>\n",
              "      <td>0</td>\n",
              "      <td>0</td>\n",
              "      <td>0</td>\n",
              "      <td>0</td>\n",
              "      <td>0</td>\n",
              "      <td>0</td>\n",
              "      <td>0</td>\n",
              "      <td>0</td>\n",
              "      <td>0</td>\n",
              "      <td>0</td>\n",
              "      <td>0</td>\n",
              "      <td>0</td>\n",
              "      <td>0</td>\n",
              "      <td>0</td>\n",
              "      <td>0</td>\n",
              "      <td>0</td>\n",
              "      <td>0</td>\n",
              "      <td>0</td>\n",
              "      <td>0</td>\n",
              "      <td>0</td>\n",
              "      <td>0</td>\n",
              "      <td>0</td>\n",
              "      <td>2</td>\n",
              "      <td>0</td>\n",
              "      <td>0</td>\n",
              "      <td>0</td>\n",
              "      <td>0</td>\n",
              "      <td>0</td>\n",
              "      <td>0</td>\n",
              "    </tr>\n",
              "    <tr>\n",
              "      <th>2</th>\n",
              "      <td>97</td>\n",
              "      <td>0</td>\n",
              "      <td>0</td>\n",
              "      <td>0</td>\n",
              "      <td>0</td>\n",
              "      <td>0</td>\n",
              "      <td>0</td>\n",
              "      <td>0</td>\n",
              "      <td>0</td>\n",
              "      <td>0</td>\n",
              "      <td>0</td>\n",
              "      <td>0</td>\n",
              "      <td>0</td>\n",
              "      <td>0</td>\n",
              "      <td>0</td>\n",
              "      <td>0</td>\n",
              "      <td>0</td>\n",
              "      <td>0</td>\n",
              "      <td>0</td>\n",
              "      <td>0</td>\n",
              "      <td>0</td>\n",
              "      <td>0</td>\n",
              "      <td>0</td>\n",
              "      <td>0</td>\n",
              "      <td>0</td>\n",
              "      <td>0</td>\n",
              "      <td>0</td>\n",
              "      <td>0</td>\n",
              "      <td>0</td>\n",
              "      <td>0</td>\n",
              "      <td>0</td>\n",
              "      <td>0</td>\n",
              "      <td>0</td>\n",
              "      <td>0</td>\n",
              "      <td>0</td>\n",
              "      <td>0</td>\n",
              "      <td>0</td>\n",
              "      <td>0</td>\n",
              "      <td>0</td>\n",
              "      <td>0</td>\n",
              "      <td>...</td>\n",
              "      <td>1</td>\n",
              "      <td>0</td>\n",
              "      <td>0</td>\n",
              "      <td>0</td>\n",
              "      <td>0</td>\n",
              "      <td>0</td>\n",
              "      <td>0</td>\n",
              "      <td>0</td>\n",
              "      <td>0</td>\n",
              "      <td>0</td>\n",
              "      <td>0</td>\n",
              "      <td>0</td>\n",
              "      <td>0</td>\n",
              "      <td>0</td>\n",
              "      <td>0</td>\n",
              "      <td>0</td>\n",
              "      <td>0</td>\n",
              "      <td>0</td>\n",
              "      <td>0</td>\n",
              "      <td>0</td>\n",
              "      <td>0</td>\n",
              "      <td>0</td>\n",
              "      <td>0</td>\n",
              "      <td>11</td>\n",
              "      <td>0</td>\n",
              "      <td>0</td>\n",
              "      <td>0</td>\n",
              "      <td>0</td>\n",
              "      <td>0</td>\n",
              "      <td>0</td>\n",
              "      <td>0</td>\n",
              "      <td>0</td>\n",
              "      <td>0</td>\n",
              "      <td>0</td>\n",
              "      <td>0</td>\n",
              "      <td>0</td>\n",
              "      <td>0</td>\n",
              "      <td>0</td>\n",
              "      <td>0</td>\n",
              "      <td>192</td>\n",
              "    </tr>\n",
              "    <tr>\n",
              "      <th>3</th>\n",
              "      <td>866</td>\n",
              "      <td>25</td>\n",
              "      <td>0</td>\n",
              "      <td>0</td>\n",
              "      <td>0</td>\n",
              "      <td>0</td>\n",
              "      <td>2</td>\n",
              "      <td>0</td>\n",
              "      <td>0</td>\n",
              "      <td>2</td>\n",
              "      <td>0</td>\n",
              "      <td>0</td>\n",
              "      <td>0</td>\n",
              "      <td>0</td>\n",
              "      <td>0</td>\n",
              "      <td>0</td>\n",
              "      <td>4</td>\n",
              "      <td>0</td>\n",
              "      <td>0</td>\n",
              "      <td>0</td>\n",
              "      <td>0</td>\n",
              "      <td>26</td>\n",
              "      <td>0</td>\n",
              "      <td>0</td>\n",
              "      <td>0</td>\n",
              "      <td>0</td>\n",
              "      <td>4</td>\n",
              "      <td>0</td>\n",
              "      <td>1</td>\n",
              "      <td>0</td>\n",
              "      <td>8</td>\n",
              "      <td>0</td>\n",
              "      <td>0</td>\n",
              "      <td>0</td>\n",
              "      <td>0</td>\n",
              "      <td>0</td>\n",
              "      <td>0</td>\n",
              "      <td>0</td>\n",
              "      <td>0</td>\n",
              "      <td>6</td>\n",
              "      <td>...</td>\n",
              "      <td>0</td>\n",
              "      <td>0</td>\n",
              "      <td>0</td>\n",
              "      <td>0</td>\n",
              "      <td>15</td>\n",
              "      <td>0</td>\n",
              "      <td>0</td>\n",
              "      <td>0</td>\n",
              "      <td>0</td>\n",
              "      <td>0</td>\n",
              "      <td>0</td>\n",
              "      <td>0</td>\n",
              "      <td>36</td>\n",
              "      <td>0</td>\n",
              "      <td>0</td>\n",
              "      <td>0</td>\n",
              "      <td>0</td>\n",
              "      <td>0</td>\n",
              "      <td>0</td>\n",
              "      <td>0</td>\n",
              "      <td>0</td>\n",
              "      <td>0</td>\n",
              "      <td>0</td>\n",
              "      <td>0</td>\n",
              "      <td>0</td>\n",
              "      <td>0</td>\n",
              "      <td>0</td>\n",
              "      <td>11</td>\n",
              "      <td>0</td>\n",
              "      <td>0</td>\n",
              "      <td>0</td>\n",
              "      <td>0</td>\n",
              "      <td>0</td>\n",
              "      <td>8</td>\n",
              "      <td>0</td>\n",
              "      <td>0</td>\n",
              "      <td>0</td>\n",
              "      <td>5</td>\n",
              "      <td>35</td>\n",
              "      <td>0</td>\n",
              "    </tr>\n",
              "    <tr>\n",
              "      <th>4</th>\n",
              "      <td>2459</td>\n",
              "      <td>0</td>\n",
              "      <td>0</td>\n",
              "      <td>0</td>\n",
              "      <td>0</td>\n",
              "      <td>0</td>\n",
              "      <td>0</td>\n",
              "      <td>0</td>\n",
              "      <td>0</td>\n",
              "      <td>0</td>\n",
              "      <td>0</td>\n",
              "      <td>0</td>\n",
              "      <td>0</td>\n",
              "      <td>0</td>\n",
              "      <td>0</td>\n",
              "      <td>0</td>\n",
              "      <td>0</td>\n",
              "      <td>0</td>\n",
              "      <td>0</td>\n",
              "      <td>0</td>\n",
              "      <td>0</td>\n",
              "      <td>0</td>\n",
              "      <td>0</td>\n",
              "      <td>0</td>\n",
              "      <td>0</td>\n",
              "      <td>0</td>\n",
              "      <td>0</td>\n",
              "      <td>0</td>\n",
              "      <td>0</td>\n",
              "      <td>0</td>\n",
              "      <td>1</td>\n",
              "      <td>0</td>\n",
              "      <td>0</td>\n",
              "      <td>0</td>\n",
              "      <td>0</td>\n",
              "      <td>0</td>\n",
              "      <td>4</td>\n",
              "      <td>0</td>\n",
              "      <td>0</td>\n",
              "      <td>0</td>\n",
              "      <td>...</td>\n",
              "      <td>0</td>\n",
              "      <td>0</td>\n",
              "      <td>0</td>\n",
              "      <td>0</td>\n",
              "      <td>0</td>\n",
              "      <td>0</td>\n",
              "      <td>0</td>\n",
              "      <td>0</td>\n",
              "      <td>0</td>\n",
              "      <td>0</td>\n",
              "      <td>0</td>\n",
              "      <td>0</td>\n",
              "      <td>0</td>\n",
              "      <td>0</td>\n",
              "      <td>0</td>\n",
              "      <td>3</td>\n",
              "      <td>0</td>\n",
              "      <td>0</td>\n",
              "      <td>0</td>\n",
              "      <td>0</td>\n",
              "      <td>0</td>\n",
              "      <td>0</td>\n",
              "      <td>0</td>\n",
              "      <td>0</td>\n",
              "      <td>0</td>\n",
              "      <td>0</td>\n",
              "      <td>0</td>\n",
              "      <td>0</td>\n",
              "      <td>0</td>\n",
              "      <td>0</td>\n",
              "      <td>0</td>\n",
              "      <td>0</td>\n",
              "      <td>0</td>\n",
              "      <td>0</td>\n",
              "      <td>0</td>\n",
              "      <td>0</td>\n",
              "      <td>0</td>\n",
              "      <td>0</td>\n",
              "      <td>0</td>\n",
              "      <td>0</td>\n",
              "    </tr>\n",
              "  </tbody>\n",
              "</table>\n",
              "<p>5 rows × 83 columns</p>\n",
              "</div>"
            ],
            "text/plain": [
              "  developer  494  1603  97  866  1179  2  ...  995  233  34  2170   4  112    7\n",
              "0       494   37     0   0    0     0  0  ...    0    0   0     0  16   17    3\n",
              "1      1603    0     0   0    0     0  0  ...    2    0   0     0   0    0    0\n",
              "2        97    0     0   0    0     0  0  ...    0    0   0     0   0    0  192\n",
              "3       866   25     0   0    0     0  2  ...    8    0   0     0   5   35    0\n",
              "4      2459    0     0   0    0     0  0  ...    0    0   0     0   0    0    0\n",
              "\n",
              "[5 rows x 83 columns]"
            ]
          },
          "metadata": {},
          "execution_count": 15
        }
      ]
    },
    {
      "cell_type": "code",
      "metadata": {
        "colab": {
          "base_uri": "https://localhost:8080/"
        },
        "id": "cGCluJH0MxYl",
        "outputId": "cd09ab4f-eef6-4b2f-c028-57d7d4ba5459"
      },
      "source": [
        "df = df.set_index('developer')\n",
        "# convert the dataframe into matrix\n",
        "DR = df.to_numpy()\n",
        "DR.shape"
      ],
      "execution_count": 16,
      "outputs": [
        {
          "output_type": "execute_result",
          "data": {
            "text/plain": [
              "(305, 82)"
            ]
          },
          "metadata": {},
          "execution_count": 16
        }
      ]
    },
    {
      "cell_type": "markdown",
      "metadata": {
        "id": "pMh5l15fOKM8"
      },
      "source": [
        "#### All together\n",
        "as 'cal_collaboration' function"
      ]
    },
    {
      "cell_type": "code",
      "metadata": {
        "id": "RfRPBPF-OXSc"
      },
      "source": [
        "# Function to extract 'Collaboration' metrix\n",
        "# Returns N*M matrix named DR\n",
        "def cal_collaboration(train, test):\n",
        "\n",
        "  # create a \"set\" of all developers\n",
        "  all_devs = set()  \n",
        "  for pr in train:\n",
        "    all_devs.add(pr['ownerId'])\n",
        "  print(\"N is:\", len(all_devs))\n",
        "\n",
        "  # There is a set of all reviewers\n",
        "  print(\"M is:\", len(all_reviewers))\n",
        "\n",
        "  # create a dataframe that its first column is all existing developers\n",
        "  df = pd.DataFrame(all_devs)\n",
        "  df = df.rename(columns={0:'developer'})\n",
        "\n",
        "  # add a column of zeros for each existing reviewer to dataframe\n",
        "  for r in all_reviewers:\n",
        "    df[r] = 0\n",
        "  \n",
        "  # fill the values of dataframe by checking PRs one by one\n",
        "  for pr in train:\n",
        "    for r in pr['reviewersId']:\n",
        "      df.loc[(df['developer'] == pr['ownerId']), r] += len(pr['filePaths'])\n",
        "\n",
        "  # convert the dataframe into matrix\n",
        "  df = df.set_index('developer')\n",
        "  DR = df.to_numpy()\n",
        "  print(\"Shape of DR matrix is:\", DR.shape)\n",
        "  return DR"
      ],
      "execution_count": 17,
      "outputs": []
    },
    {
      "cell_type": "markdown",
      "metadata": {
        "id": "DiQ3eg8h3Z7c"
      },
      "source": [
        "### **Availability** model"
      ]
    },
    {
      "cell_type": "markdown",
      "metadata": {
        "id": "FzF936na3fny"
      },
      "source": [
        "#### step by step"
      ]
    },
    {
      "cell_type": "code",
      "metadata": {
        "colab": {
          "base_uri": "https://localhost:8080/"
        },
        "id": "HqeNmXMVDMth",
        "outputId": "51192c66-8059-45f3-c57a-b1142ea0d4cd"
      },
      "source": [
        "len(all_reviewers)"
      ],
      "execution_count": 27,
      "outputs": [
        {
          "output_type": "execute_result",
          "data": {
            "text/plain": [
              "78"
            ]
          },
          "metadata": {},
          "execution_count": 27
        }
      ]
    },
    {
      "cell_type": "code",
      "metadata": {
        "colab": {
          "base_uri": "https://localhost:8080/"
        },
        "id": "Z9TkgusY6c7I",
        "outputId": "22a8660b-5e6f-4e66-9f1c-aaa3b0a58b89"
      },
      "source": [
        "test['time']"
      ],
      "execution_count": 28,
      "outputs": [
        {
          "output_type": "execute_result",
          "data": {
            "text/plain": [
              "datetime.datetime(2012, 5, 3, 21, 32, 38)"
            ]
          },
          "metadata": {},
          "execution_count": 28
        }
      ]
    },
    {
      "cell_type": "code",
      "metadata": {
        "colab": {
          "base_uri": "https://localhost:8080/"
        },
        "id": "xPNN_Gxs9D3J",
        "outputId": "870c9825-b4ca-4cb5-be40-bed8ef4188e1"
      },
      "source": [
        "import datetime as DT\n",
        "\n",
        "# seven day before the time of our test PR\n",
        "week_ago = test['time'] - DT.timedelta(days=7)\n",
        "week_ago"
      ],
      "execution_count": 29,
      "outputs": [
        {
          "output_type": "execute_result",
          "data": {
            "text/plain": [
              "datetime.datetime(2012, 4, 26, 21, 32, 38)"
            ]
          },
          "metadata": {},
          "execution_count": 29
        }
      ]
    },
    {
      "cell_type": "code",
      "metadata": {
        "colab": {
          "base_uri": "https://localhost:8080/"
        },
        "id": "THLvHAoJ9pPR",
        "outputId": "0f73c699-817d-4249-d836-f305160e00fe"
      },
      "source": [
        "# Extract a list of PRs that are between time of seven days ago up to the time of test PR\n",
        "week_pr = []\n",
        "\n",
        "for pr in train:\n",
        "  if pr['time'] > week_ago and pr['time'] < test['time']:\n",
        "    week_pr.append(pr)\n",
        "\n",
        "len(week_pr)"
      ],
      "execution_count": 30,
      "outputs": [
        {
          "output_type": "execute_result",
          "data": {
            "text/plain": [
              "214"
            ]
          },
          "metadata": {},
          "execution_count": 30
        }
      ]
    },
    {
      "cell_type": "code",
      "metadata": {
        "colab": {
          "base_uri": "https://localhost:8080/"
        },
        "id": "Nw2Rm-GB_vF1",
        "outputId": "b7a41611-4ddd-4932-e556-be2585102273"
      },
      "source": [
        "# Extract the availability matrix named 'A' that is 1*M\n",
        "A = []\n",
        "\n",
        "for r in all_reviewers:\n",
        "  A.append(0)\n",
        "  for pr in week_pr:\n",
        "    if r in pr['reviewersId']:\n",
        "      A[-1] += len(pr['filePaths'])\n",
        "\n",
        "len(A)"
      ],
      "execution_count": 31,
      "outputs": [
        {
          "output_type": "execute_result",
          "data": {
            "text/plain": [
              "78"
            ]
          },
          "metadata": {},
          "execution_count": 31
        }
      ]
    },
    {
      "cell_type": "markdown",
      "metadata": {
        "id": "fV8wDsPh9jDu"
      },
      "source": [
        "#### All together\n",
        "as 'cal_availability' function"
      ]
    },
    {
      "cell_type": "code",
      "metadata": {
        "id": "bmTt3eRoE6z6"
      },
      "source": [
        "# Function to extract 'Availability' vector\n",
        "# Returns 1*M matrix named A \n",
        "def cal_availability(train, test):\n",
        "\n",
        "  # seven day before the time of our test PR\n",
        "  week_ago = test['time'] - DT.timedelta(days=7)\n",
        "  \n",
        "  # Extract a list of PRs that are between time of seven days ago up to the time of test PR\n",
        "  week_pr = []\n",
        "  for pr in train:\n",
        "    if pr['time'] > week_ago and pr['time'] < test['time']:\n",
        "      week_pr.append(pr)\n",
        "  print(\"Num of PRs in last 7 days:\", len(week_pr))\n",
        "\n",
        "  # Extract the availability matrix named 'A' that is 1*M\n",
        "  A = []\n",
        "  for r in all_reviewers:\n",
        "    A.append(0)\n",
        "    for pr in week_pr:\n",
        "      if r in pr['reviewersId']:\n",
        "        A[-1] += len(pr['filePaths'])\n",
        "  \n",
        "  print(\"Size of A matrix is:\", len(A))\n",
        "  return A"
      ],
      "execution_count": 32,
      "outputs": []
    },
    {
      "cell_type": "markdown",
      "metadata": {
        "id": "DxIEEgk32lmh"
      },
      "source": [
        "### **File-Developer** matrix"
      ]
    },
    {
      "cell_type": "markdown",
      "metadata": {
        "id": "ubYK16It2umx"
      },
      "source": [
        "#### step by step"
      ]
    },
    {
      "cell_type": "code",
      "metadata": {
        "colab": {
          "base_uri": "https://localhost:8080/"
        },
        "id": "2cbJ_oMC2vYB",
        "outputId": "05c92911-3835-4b79-df2d-037cf1c08e73"
      },
      "source": [
        "len(all_devs)"
      ],
      "execution_count": 33,
      "outputs": [
        {
          "output_type": "execute_result",
          "data": {
            "text/plain": [
              "305"
            ]
          },
          "metadata": {},
          "execution_count": 33
        }
      ]
    },
    {
      "cell_type": "code",
      "metadata": {
        "colab": {
          "base_uri": "https://localhost:8080/"
        },
        "id": "SedUG6XL3HCR",
        "outputId": "5cb4e50c-66e0-4d0c-9022-447019f61b31"
      },
      "source": [
        "len(files)"
      ],
      "execution_count": 34,
      "outputs": [
        {
          "output_type": "execute_result",
          "data": {
            "text/plain": [
              "1"
            ]
          },
          "metadata": {},
          "execution_count": 34
        }
      ]
    },
    {
      "cell_type": "code",
      "metadata": {
        "colab": {
          "base_uri": "https://localhost:8080/",
          "height": 205
        },
        "id": "08jlDHe03R-Z",
        "outputId": "b74de1d0-5d1e-46b1-faeb-9156e27f428e"
      },
      "source": [
        "# create a dataframe that its first column is all existing developers\n",
        "df = pd.DataFrame(all_devs)\n",
        "df = df.rename(columns={0:'developer'})\n",
        "df.head()"
      ],
      "execution_count": 35,
      "outputs": [
        {
          "output_type": "execute_result",
          "data": {
            "text/html": [
              "<div>\n",
              "<style scoped>\n",
              "    .dataframe tbody tr th:only-of-type {\n",
              "        vertical-align: middle;\n",
              "    }\n",
              "\n",
              "    .dataframe tbody tr th {\n",
              "        vertical-align: top;\n",
              "    }\n",
              "\n",
              "    .dataframe thead th {\n",
              "        text-align: right;\n",
              "    }\n",
              "</style>\n",
              "<table border=\"1\" class=\"dataframe\">\n",
              "  <thead>\n",
              "    <tr style=\"text-align: right;\">\n",
              "      <th></th>\n",
              "      <th>developer</th>\n",
              "    </tr>\n",
              "  </thead>\n",
              "  <tbody>\n",
              "    <tr>\n",
              "      <th>0</th>\n",
              "      <td>494</td>\n",
              "    </tr>\n",
              "    <tr>\n",
              "      <th>1</th>\n",
              "      <td>1603</td>\n",
              "    </tr>\n",
              "    <tr>\n",
              "      <th>2</th>\n",
              "      <td>97</td>\n",
              "    </tr>\n",
              "    <tr>\n",
              "      <th>3</th>\n",
              "      <td>866</td>\n",
              "    </tr>\n",
              "    <tr>\n",
              "      <th>4</th>\n",
              "      <td>2459</td>\n",
              "    </tr>\n",
              "  </tbody>\n",
              "</table>\n",
              "</div>"
            ],
            "text/plain": [
              "  developer\n",
              "0       494\n",
              "1      1603\n",
              "2        97\n",
              "3       866\n",
              "4      2459"
            ]
          },
          "metadata": {},
          "execution_count": 35
        }
      ]
    },
    {
      "cell_type": "code",
      "metadata": {
        "colab": {
          "base_uri": "https://localhost:8080/",
          "height": 205
        },
        "id": "c7TtjwYm3035",
        "outputId": "d9303c61-dc87-4b80-8962-ecde774b0b87"
      },
      "source": [
        "# add a column of zeros for each existing file in test PR\n",
        "for f in files:\n",
        "  df[f] = 0\n",
        "\n",
        "df.head()"
      ],
      "execution_count": 36,
      "outputs": [
        {
          "output_type": "execute_result",
          "data": {
            "text/html": [
              "<div>\n",
              "<style scoped>\n",
              "    .dataframe tbody tr th:only-of-type {\n",
              "        vertical-align: middle;\n",
              "    }\n",
              "\n",
              "    .dataframe tbody tr th {\n",
              "        vertical-align: top;\n",
              "    }\n",
              "\n",
              "    .dataframe thead th {\n",
              "        text-align: right;\n",
              "    }\n",
              "</style>\n",
              "<table border=\"1\" class=\"dataframe\">\n",
              "  <thead>\n",
              "    <tr style=\"text-align: right;\">\n",
              "      <th></th>\n",
              "      <th>developer</th>\n",
              "      <th>nova/tests/test_migrations.py</th>\n",
              "    </tr>\n",
              "  </thead>\n",
              "  <tbody>\n",
              "    <tr>\n",
              "      <th>0</th>\n",
              "      <td>494</td>\n",
              "      <td>0</td>\n",
              "    </tr>\n",
              "    <tr>\n",
              "      <th>1</th>\n",
              "      <td>1603</td>\n",
              "      <td>0</td>\n",
              "    </tr>\n",
              "    <tr>\n",
              "      <th>2</th>\n",
              "      <td>97</td>\n",
              "      <td>0</td>\n",
              "    </tr>\n",
              "    <tr>\n",
              "      <th>3</th>\n",
              "      <td>866</td>\n",
              "      <td>0</td>\n",
              "    </tr>\n",
              "    <tr>\n",
              "      <th>4</th>\n",
              "      <td>2459</td>\n",
              "      <td>0</td>\n",
              "    </tr>\n",
              "  </tbody>\n",
              "</table>\n",
              "</div>"
            ],
            "text/plain": [
              "  developer  nova/tests/test_migrations.py\n",
              "0       494                              0\n",
              "1      1603                              0\n",
              "2        97                              0\n",
              "3       866                              0\n",
              "4      2459                              0"
            ]
          },
          "metadata": {},
          "execution_count": 36
        }
      ]
    },
    {
      "cell_type": "code",
      "metadata": {
        "colab": {
          "base_uri": "https://localhost:8080/",
          "height": 299
        },
        "id": "7u7i4Ark4OaK",
        "outputId": "d0ecba9a-0186-443e-a5da-f41c0a4b42e1"
      },
      "source": [
        "# Fill the dataframe with number of times each developer worked on each file\n",
        "for pr in train:\n",
        "  for f in pr['filePaths']:\n",
        "    if f in files:\n",
        "      df.loc[(df['developer'] == pr['ownerId']), f] += 1\n",
        "\n",
        "df[df['nova/tests/test_migrations.py']>0]"
      ],
      "execution_count": 37,
      "outputs": [
        {
          "output_type": "execute_result",
          "data": {
            "text/html": [
              "<div>\n",
              "<style scoped>\n",
              "    .dataframe tbody tr th:only-of-type {\n",
              "        vertical-align: middle;\n",
              "    }\n",
              "\n",
              "    .dataframe tbody tr th {\n",
              "        vertical-align: top;\n",
              "    }\n",
              "\n",
              "    .dataframe thead th {\n",
              "        text-align: right;\n",
              "    }\n",
              "</style>\n",
              "<table border=\"1\" class=\"dataframe\">\n",
              "  <thead>\n",
              "    <tr style=\"text-align: right;\">\n",
              "      <th></th>\n",
              "      <th>developer</th>\n",
              "      <th>nova/tests/test_migrations.py</th>\n",
              "    </tr>\n",
              "  </thead>\n",
              "  <tbody>\n",
              "    <tr>\n",
              "      <th>13</th>\n",
              "      <td>360</td>\n",
              "      <td>1</td>\n",
              "    </tr>\n",
              "    <tr>\n",
              "      <th>48</th>\n",
              "      <td>2750</td>\n",
              "      <td>1</td>\n",
              "    </tr>\n",
              "    <tr>\n",
              "      <th>83</th>\n",
              "      <td>2245</td>\n",
              "      <td>2</td>\n",
              "    </tr>\n",
              "    <tr>\n",
              "      <th>131</th>\n",
              "      <td>100</td>\n",
              "      <td>1</td>\n",
              "    </tr>\n",
              "    <tr>\n",
              "      <th>191</th>\n",
              "      <td>1030</td>\n",
              "      <td>1</td>\n",
              "    </tr>\n",
              "    <tr>\n",
              "      <th>200</th>\n",
              "      <td>708</td>\n",
              "      <td>1</td>\n",
              "    </tr>\n",
              "    <tr>\n",
              "      <th>205</th>\n",
              "      <td>385</td>\n",
              "      <td>1</td>\n",
              "    </tr>\n",
              "    <tr>\n",
              "      <th>261</th>\n",
              "      <td>67</td>\n",
              "      <td>1</td>\n",
              "    </tr>\n",
              "  </tbody>\n",
              "</table>\n",
              "</div>"
            ],
            "text/plain": [
              "    developer  nova/tests/test_migrations.py\n",
              "13        360                              1\n",
              "48       2750                              1\n",
              "83       2245                              2\n",
              "131       100                              1\n",
              "191      1030                              1\n",
              "200       708                              1\n",
              "205       385                              1\n",
              "261        67                              1"
            ]
          },
          "metadata": {},
          "execution_count": 37
        }
      ]
    },
    {
      "cell_type": "code",
      "metadata": {
        "colab": {
          "base_uri": "https://localhost:8080/"
        },
        "id": "Yd3--Ojr4LDr",
        "outputId": "0cb370ea-29f8-48ff-d1de-561032bc96e6"
      },
      "source": [
        "df = df.set_index('developer')\n",
        "# convert the dataframe into matrix\n",
        "FD = df.to_numpy()\n",
        "FD.shape"
      ],
      "execution_count": 38,
      "outputs": [
        {
          "output_type": "execute_result",
          "data": {
            "text/plain": [
              "(305, 1)"
            ]
          },
          "metadata": {},
          "execution_count": 38
        }
      ]
    },
    {
      "cell_type": "markdown",
      "metadata": {
        "id": "eECA2isG9DfW"
      },
      "source": [
        "#### All together\n",
        "as 'cal_fileDev' function"
      ]
    },
    {
      "cell_type": "code",
      "metadata": {
        "id": "1qvg0tWu9HU6"
      },
      "source": [
        "# Function to extract File-Developer matrix\n",
        "# Returns N*P matrix named FD \n",
        "def cal_fileDev(train, test):\n",
        "\n",
        "  # There is a set of all developers\n",
        "  print(\"N is:\", len(all_devs))\n",
        "\n",
        "  # There is a set of files in PR\n",
        "  print(\"P is:\", len(files))\n",
        "\n",
        "  # create a dataframe that its first column is all existing developers\n",
        "  df = pd.DataFrame(all_devs)\n",
        "  df = df.rename(columns={0:'developer'})\n",
        "\n",
        "  # add a column of zeros for each existing file in test PR\n",
        "  for f in files:\n",
        "    df[f] = 0\n",
        "  \n",
        "  # Fill the dataframe with number of times each developer worked on each file\n",
        "  for pr in train:\n",
        "    for f in pr['filePaths']:\n",
        "      if f in files:\n",
        "        df.loc[(df['developer'] == pr['ownerId']), f] += 1\n",
        "\n",
        "  # convert the dataframe into matrix\n",
        "  df = df.set_index('developer')\n",
        "  FD = df.to_numpy()\n",
        "  print(\"Shape of FD matrix is:\", FD.shape)\n",
        "  return FD"
      ],
      "execution_count": 39,
      "outputs": []
    },
    {
      "cell_type": "markdown",
      "metadata": {
        "id": "_e3L3NdgBciU"
      },
      "source": [
        "## Problem Formulation"
      ]
    },
    {
      "cell_type": "markdown",
      "metadata": {
        "id": "ER-OFM84BxeM"
      },
      "source": [
        "### Solution representation"
      ]
    },
    {
      "cell_type": "code",
      "metadata": {
        "colab": {
          "base_uri": "https://localhost:8080/"
        },
        "id": "CRIO1je4qFWp",
        "outputId": "71a324f8-1e84-481f-d773-816cdf6245eb"
      },
      "source": [
        "# Gene creation\n",
        "# Reviewer-File matrix named S with shape of P*M \n",
        "P = len(files)  # number of files in test PR\n",
        "M = len(all_reviewers) # number of all candidate reviewers\n",
        "\n",
        "# create a dataframe that its first column is all files in test PR\n",
        "df = pd.DataFrame(files)\n",
        "df = df.rename(columns={0:'file'})\n",
        "\n",
        "# add a column of zeros for each existing reviewer to dataframe\n",
        "for r in all_reviewers:\n",
        "  df[r] = 0\n",
        "\n",
        "# convert the dataframe into matrix\n",
        "df = df.set_index('file')\n",
        "S = df.to_numpy()\n",
        "\n",
        "# assign random number to each cell of the dataframe\n",
        "# each row must have all the integer numbers from 0 to M (distinct numbers)\n",
        "for row in range(0, P):\n",
        "  num_of_zeros = random.randint(0, M+1)\n",
        "  print(\"number of zero ranks in row\", row, \"is:\", num_of_zeros)\n",
        "  rand_ranks = num_of_zeros * [0]\n",
        "  rand_ranks.extend(random.sample(range(1, M-num_of_zeros+1), M-num_of_zeros))  # sampling without replacement\n",
        "  print(\"number of non-zero ranks in row\", row, \"is:\", max(rand_ranks))\n",
        "  random.shuffle(rand_ranks)   # Shuffle zeros with non-zero ranks\n",
        "  S[row] = rand_ranks\n",
        "\n",
        "S"
      ],
      "execution_count": 84,
      "outputs": [
        {
          "output_type": "stream",
          "name": "stdout",
          "text": [
            "number of zero ranks in row 0 is: 44\n",
            "number of non-zero ranks in row 0 is: 34\n"
          ]
        },
        {
          "output_type": "execute_result",
          "data": {
            "text/plain": [
              "array([[14, 12,  7,  0,  0,  0,  0,  3,  0,  0,  0,  0,  0,  0,  0, 16,\n",
              "         1, 32,  0,  0,  6,  0,  0,  0, 29,  0, 31,  0, 20,  0, 11,  9,\n",
              "         0, 19,  0,  0, 15, 26, 17,  0, 34,  0,  8,  2,  0,  0,  0,  4,\n",
              "        23, 28, 22, 21, 24,  0,  0,  5, 33,  0, 30, 18, 25,  0,  0,  0,\n",
              "         0,  0,  0, 10,  0,  0, 27,  0,  0, 13,  0,  0,  0,  0]])"
            ]
          },
          "metadata": {},
          "execution_count": 84
        }
      ]
    },
    {
      "cell_type": "markdown",
      "metadata": {
        "id": "F8WFK4WOB32c"
      },
      "source": [
        "### Fitness functions"
      ]
    },
    {
      "cell_type": "markdown",
      "metadata": {
        "id": "YDAxj-GsBpSH"
      },
      "source": [
        "#### Availability"
      ]
    },
    {
      "cell_type": "code",
      "metadata": {
        "id": "U4QXnAiABtBR"
      },
      "source": [
        ""
      ],
      "execution_count": null,
      "outputs": []
    },
    {
      "cell_type": "markdown",
      "metadata": {
        "id": "nlLVMfhDzVhg"
      },
      "source": [
        "## Test"
      ]
    },
    {
      "cell_type": "code",
      "metadata": {
        "colab": {
          "base_uri": "https://localhost:8080/"
        },
        "id": "yUaGN-pf_fDR",
        "outputId": "96ba2e43-17ec-487a-82cd-7db65330fe3c"
      },
      "source": [
        "for test_num in range(0, 1):  # number of examination can be 0 to 644\n",
        "  # creating test set\n",
        "  test = total_test[test_num]   # one PR is test in each examination\n",
        "  # creating train set\n",
        "  if test_num == 0:\n",
        "    train = init_train\n",
        "  else:\n",
        "    train.append(total_test[test_num-1])\n",
        "  \n",
        "  # Do other calculations\n",
        "  # extract 3 metrices\n",
        "  FR = cal_expertise(train, test)\n",
        "  # print(FR)\n",
        "  print(\"------------------------------\")\n",
        "\n",
        "  DR = cal_collaboration(train, test)\n",
        "  # print(DR)\n",
        "  print(\"------------------------------\")\n",
        "\n",
        "  A = cal_availability(train, test)\n",
        "  # print(A)\n",
        "  print(\"------------------------------\")\n",
        "\n",
        "  FD = cal_fileDev(train, test)\n",
        "  # print(FD)\n",
        "\n",
        "  # do genetic\n",
        "  # ...\n",
        "\n"
      ],
      "execution_count": 256,
      "outputs": [
        {
          "output_type": "stream",
          "name": "stdout",
          "text": [
            "P is: 1\n",
            "M is: 78\n",
            "Shape of FR matrix is: (1, 78)\n",
            "[[0 0 1 0 0 0 0 0 0 0 0 0 0 1 0 0 3 0 0 0 0 0 1 0 0 0 0 1 0 0 0 0 0 0 0 0\n",
            "  0 1 0 0 0 0 0 0 0 0 0 0 0 1 0 4 0 0 0 0 0 0 0 0 0 0 0 0 0 2 0 0 0 2 0 0\n",
            "  0 0 0 0 0 0]]\n",
            "------------------------------\n",
            "N is: 305\n",
            "M is: 78\n",
            "Shape of DR matrix is: (305, 78)\n",
            "[[0 0 8 ... 0 0 0]\n",
            " [9 0 0 ... 0 0 0]\n",
            " [0 0 0 ... 0 0 0]\n",
            " ...\n",
            " [2 0 3 ... 0 0 0]\n",
            " [0 0 0 ... 0 0 0]\n",
            " [0 0 6 ... 0 0 0]]\n",
            "------------------------------\n",
            "Num of PRs in last 7 days: 214\n",
            "Size of A matrix is: 78\n",
            "[35, 0, 47, 12, 0, 12, 15, 4, 3, 0, 0, 0, 6, 2, 6, 7, 83, 0, 0, 0, 7, 10, 54, 51, 0, 13, 0, 67, 0, 4, 0, 106, 9, 10, 51, 14, 25, 17, 0, 39, 0, 0, 0, 1, 0, 0, 0, 328, 0, 48, 4, 181, 0, 0, 13, 6, 0, 1, 11, 25, 2, 26, 0, 1, 0, 157, 0, 0, 2, 18, 0, 2, 6, 31, 5, 0, 30, 5]\n",
            "------------------------------\n",
            "N is: 305\n",
            "P is: 1\n",
            "Shape of FD matrix is: (305, 1)\n",
            "[[0]\n",
            " [0]\n",
            " [0]\n",
            " [0]\n",
            " [0]\n",
            " [0]\n",
            " [0]\n",
            " [0]\n",
            " [0]\n",
            " [0]\n",
            " [0]\n",
            " [0]\n",
            " [0]\n",
            " [0]\n",
            " [0]\n",
            " [0]\n",
            " [0]\n",
            " [0]\n",
            " [0]\n",
            " [0]\n",
            " [0]\n",
            " [0]\n",
            " [0]\n",
            " [0]\n",
            " [0]\n",
            " [0]\n",
            " [0]\n",
            " [0]\n",
            " [0]\n",
            " [0]\n",
            " [0]\n",
            " [0]\n",
            " [0]\n",
            " [0]\n",
            " [0]\n",
            " [0]\n",
            " [0]\n",
            " [0]\n",
            " [0]\n",
            " [0]\n",
            " [0]\n",
            " [0]\n",
            " [0]\n",
            " [0]\n",
            " [0]\n",
            " [0]\n",
            " [0]\n",
            " [0]\n",
            " [0]\n",
            " [0]\n",
            " [0]\n",
            " [0]\n",
            " [0]\n",
            " [0]\n",
            " [0]\n",
            " [0]\n",
            " [1]\n",
            " [0]\n",
            " [0]\n",
            " [0]\n",
            " [0]\n",
            " [1]\n",
            " [0]\n",
            " [0]\n",
            " [2]\n",
            " [0]\n",
            " [0]\n",
            " [0]\n",
            " [0]\n",
            " [0]\n",
            " [0]\n",
            " [0]\n",
            " [0]\n",
            " [0]\n",
            " [0]\n",
            " [0]\n",
            " [0]\n",
            " [0]\n",
            " [0]\n",
            " [0]\n",
            " [0]\n",
            " [0]\n",
            " [0]\n",
            " [0]\n",
            " [0]\n",
            " [0]\n",
            " [0]\n",
            " [0]\n",
            " [0]\n",
            " [0]\n",
            " [0]\n",
            " [0]\n",
            " [0]\n",
            " [0]\n",
            " [0]\n",
            " [0]\n",
            " [0]\n",
            " [0]\n",
            " [0]\n",
            " [0]\n",
            " [0]\n",
            " [0]\n",
            " [0]\n",
            " [0]\n",
            " [0]\n",
            " [1]\n",
            " [0]\n",
            " [0]\n",
            " [1]\n",
            " [0]\n",
            " [0]\n",
            " [0]\n",
            " [0]\n",
            " [0]\n",
            " [0]\n",
            " [0]\n",
            " [0]\n",
            " [0]\n",
            " [0]\n",
            " [0]\n",
            " [0]\n",
            " [0]\n",
            " [0]\n",
            " [0]\n",
            " [0]\n",
            " [0]\n",
            " [1]\n",
            " [0]\n",
            " [0]\n",
            " [0]\n",
            " [0]\n",
            " [0]\n",
            " [0]\n",
            " [0]\n",
            " [0]\n",
            " [0]\n",
            " [0]\n",
            " [0]\n",
            " [0]\n",
            " [0]\n",
            " [0]\n",
            " [0]\n",
            " [1]\n",
            " [0]\n",
            " [0]\n",
            " [0]\n",
            " [0]\n",
            " [0]\n",
            " [0]\n",
            " [0]\n",
            " [0]\n",
            " [0]\n",
            " [0]\n",
            " [0]\n",
            " [0]\n",
            " [0]\n",
            " [0]\n",
            " [0]\n",
            " [0]\n",
            " [0]\n",
            " [0]\n",
            " [0]\n",
            " [0]\n",
            " [0]\n",
            " [0]\n",
            " [0]\n",
            " [0]\n",
            " [0]\n",
            " [0]\n",
            " [0]\n",
            " [0]\n",
            " [0]\n",
            " [0]\n",
            " [1]\n",
            " [0]\n",
            " [0]\n",
            " [0]\n",
            " [0]\n",
            " [0]\n",
            " [0]\n",
            " [0]\n",
            " [0]\n",
            " [0]\n",
            " [0]\n",
            " [0]\n",
            " [0]\n",
            " [0]\n",
            " [0]\n",
            " [0]\n",
            " [0]\n",
            " [0]\n",
            " [0]\n",
            " [0]\n",
            " [0]\n",
            " [0]\n",
            " [0]\n",
            " [0]\n",
            " [0]\n",
            " [0]\n",
            " [0]\n",
            " [0]\n",
            " [0]\n",
            " [0]\n",
            " [0]\n",
            " [0]\n",
            " [0]\n",
            " [0]\n",
            " [0]\n",
            " [0]\n",
            " [0]\n",
            " [0]\n",
            " [0]\n",
            " [0]\n",
            " [0]\n",
            " [0]\n",
            " [0]\n",
            " [0]\n",
            " [0]\n",
            " [0]\n",
            " [0]\n",
            " [0]\n",
            " [0]\n",
            " [0]\n",
            " [0]\n",
            " [0]\n",
            " [0]\n",
            " [0]\n",
            " [0]\n",
            " [0]\n",
            " [0]\n",
            " [0]\n",
            " [0]\n",
            " [0]\n",
            " [0]\n",
            " [0]\n",
            " [0]\n",
            " [0]\n",
            " [0]\n",
            " [0]\n",
            " [0]\n",
            " [0]\n",
            " [0]\n",
            " [0]\n",
            " [0]\n",
            " [0]\n",
            " [0]\n",
            " [0]\n",
            " [0]\n",
            " [0]\n",
            " [0]\n",
            " [0]\n",
            " [0]\n",
            " [0]\n",
            " [0]\n",
            " [0]\n",
            " [0]\n",
            " [0]\n",
            " [0]\n",
            " [0]\n",
            " [0]\n",
            " [0]\n",
            " [0]\n",
            " [0]\n",
            " [0]\n",
            " [0]\n",
            " [0]\n",
            " [0]\n",
            " [0]\n",
            " [0]\n",
            " [0]\n",
            " [0]\n",
            " [0]\n",
            " [0]\n",
            " [0]\n",
            " [0]\n",
            " [0]\n",
            " [0]\n",
            " [0]\n",
            " [0]\n",
            " [0]\n",
            " [0]\n",
            " [0]\n",
            " [0]\n",
            " [0]\n",
            " [0]\n",
            " [0]\n",
            " [0]\n",
            " [0]\n",
            " [0]\n",
            " [0]\n",
            " [0]\n",
            " [0]\n",
            " [0]\n",
            " [0]\n",
            " [0]\n",
            " [0]\n",
            " [0]\n",
            " [0]\n",
            " [0]\n",
            " [0]\n",
            " [0]\n",
            " [0]\n",
            " [0]\n",
            " [0]\n",
            " [0]]\n"
          ]
        }
      ]
    }
  ]
}